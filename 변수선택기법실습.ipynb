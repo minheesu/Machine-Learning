{
 "cells": [
  {
   "cell_type": "markdown",
   "metadata": {},
   "source": [
    "# **<변수선택기법 실습>**"
   ]
  },
  {
   "cell_type": "markdown",
   "metadata": {},
   "source": [
    "# **전진/후진/단계적 변수선택법**"
   ]
  },
  {
   "cell_type": "markdown",
   "metadata": {},
   "source": [
    "## **1. 로지스틱회귀분석을통한 변수선택법 실습**"
   ]
  },
  {
   "cell_type": "markdown",
   "metadata": {},
   "source": [
    "\n",
    "로지스틱 회귀분석에서도 앞서 수행해본 회귀분석과 동일하게 변수선택법을 통해서 다양한 변수들의 조합을 통해서 최적의 모델을 적합 할 수가 있습니다.   \n",
    "해당 부분을 **personal loan 데이터(binary classification)**를 이용해서 실습을 진행해보도록 하겠습니다."
   ]
  },
  {
   "cell_type": "markdown",
   "metadata": {},
   "source": [
    "## 모듈불러오기"
   ]
  },
  {
   "cell_type": "code",
   "execution_count": 1,
   "metadata": {},
   "outputs": [],
   "source": [
    "%matplotlib inline\n",
    "# 분석에 필요한 패키지 불러오기\n",
    "import os\n",
    "import numpy as np\n",
    "import pandas as pd\n",
    "from sklearn.linear_model import LogisticRegression\n",
    "from sklearn.model_selection import train_test_split\n",
    "from sklearn import metrics\n",
    "from sklearn.metrics import confusion_matrix\n",
    "from sklearn.metrics import accuracy_score, roc_auc_score, roc_curve\n",
    "import statsmodels.api as sm\n",
    "import matplotlib.pyplot as plt\n",
    "import itertools\n",
    "import time\n",
    "import sklearn.preprocessing as preprocessing\n",
    "import seaborn as sns"
   ]
  },
  {
   "cell_type": "markdown",
   "metadata": {},
   "source": [
    "## 데이터불러오기"
   ]
  },
  {
   "cell_type": "code",
   "execution_count": 2,
   "metadata": {},
   "outputs": [
    {
     "name": "stdout",
     "output_type": "stream",
     "text": [
      "   ID  Age  Experience  Income  ZIP Code  Family  CCAvg  Education  Mortgage  \\\n",
      "0   1   25           1      49     91107       4    1.6          1         0   \n",
      "1   2   45          19      34     90089       3    1.5          1         0   \n",
      "2   3   39          15      11     94720       1    1.0          1         0   \n",
      "3   4   35           9     100     94112       1    2.7          2         0   \n",
      "4   5   35           8      45     91330       4    1.0          2         0   \n",
      "5   6   37          13      29     92121       4    0.4          2       155   \n",
      "6   7   53          27      72     91711       2    1.5          2         0   \n",
      "7   8   50          24      22     93943       1    0.3          3         0   \n",
      "8   9   35          10      81     90089       3    0.6          2       104   \n",
      "9  10   34           9     180     93023       1    8.9          3         0   \n",
      "\n",
      "   Personal Loan  Securities Account  CD Account  Online  CreditCard  \n",
      "0              0                   1           0       0           0  \n",
      "1              0                   1           0       0           0  \n",
      "2              0                   0           0       0           0  \n",
      "3              0                   0           0       0           0  \n",
      "4              0                   0           0       0           1  \n",
      "5              0                   0           0       1           0  \n",
      "6              0                   0           0       1           0  \n",
      "7              0                   0           0       0           1  \n",
      "8              0                   0           0       1           0  \n",
      "9              1                   0           0       0           0  \n"
     ]
    }
   ],
   "source": [
    "ploan = pd.read_csv(\"./data/Personal Loan.csv\")\n",
    "print( ploan.head(10) )"
   ]
  },
  {
   "cell_type": "markdown",
   "metadata": {},
   "source": [
    "## **데이터 전처리**"
   ]
  },
  {
   "cell_type": "markdown",
   "metadata": {},
   "source": [
    "#### **['ID','ZIP Code']** 와 같은 명목형 자료의 경우 본 데이터의 목적에 부합하는 변수가 아니라고 판단하여 이를 제거 하겠습니다."
   ]
  },
  {
   "cell_type": "code",
   "execution_count": 3,
   "metadata": {},
   "outputs": [],
   "source": [
    "# 의미없는 변수 제거\n",
    "ploan_processed = ploan.dropna().drop(['ID','ZIP Code'], axis=1, inplace=False)"
   ]
  },
  {
   "cell_type": "markdown",
   "metadata": {},
   "source": [
    "## **상수항 추가**"
   ]
  },
  {
   "cell_type": "markdown",
   "metadata": {},
   "source": [
    "#### 로지스틱 회귀분석에 있어서 상수(절편)에 해당하는 회귀계수를 알아가기 위해서 상수 변수를 추가하겠습니다."
   ]
  },
  {
   "cell_type": "code",
   "execution_count": 4,
   "metadata": {},
   "outputs": [
    {
     "name": "stdout",
     "output_type": "stream",
     "text": [
      "   const  Age  Experience  Income  Family  CCAvg  Education  Mortgage  \\\n",
      "0    1.0   25           1      49       4    1.6          1         0   \n",
      "1    1.0   45          19      34       3    1.5          1         0   \n",
      "2    1.0   39          15      11       1    1.0          1         0   \n",
      "3    1.0   35           9     100       1    2.7          2         0   \n",
      "4    1.0   35           8      45       4    1.0          2         0   \n",
      "5    1.0   37          13      29       4    0.4          2       155   \n",
      "6    1.0   53          27      72       2    1.5          2         0   \n",
      "7    1.0   50          24      22       1    0.3          3         0   \n",
      "8    1.0   35          10      81       3    0.6          2       104   \n",
      "9    1.0   34           9     180       1    8.9          3         0   \n",
      "\n",
      "   Personal Loan  Securities Account  CD Account  Online  CreditCard  \n",
      "0              0                   1           0       0           0  \n",
      "1              0                   1           0       0           0  \n",
      "2              0                   0           0       0           0  \n",
      "3              0                   0           0       0           0  \n",
      "4              0                   0           0       0           1  \n",
      "5              0                   0           0       1           0  \n",
      "6              0                   0           0       1           0  \n",
      "7              0                   0           0       0           1  \n",
      "8              0                   0           0       1           0  \n",
      "9              1                   0           0       0           0  \n"
     ]
    }
   ],
   "source": [
    "ploan_processed = sm.add_constant(ploan_processed, has_constant='add')\n",
    "print(ploan_processed.head(10) )"
   ]
  },
  {
   "cell_type": "markdown",
   "metadata": {},
   "source": [
    "## 설명변수(X), 타켓변수(Y) 분리 및 학습데이터와 평가데이터 "
   ]
  },
  {
   "cell_type": "code",
   "execution_count": 5,
   "metadata": {},
   "outputs": [],
   "source": [
    "feature_columns = list(ploan_processed.columns.difference([\"Personal Loan\"]))\n",
    "X = ploan_processed[feature_columns]\n",
    "y = ploan_processed['Personal Loan'] # 대출여부: 1 or 0"
   ]
  },
  {
   "cell_type": "code",
   "execution_count": 6,
   "metadata": {},
   "outputs": [
    {
     "name": "stdout",
     "output_type": "stream",
     "text": [
      "(1750, 12) (750, 12) (1750,) (750,)\n"
     ]
    }
   ],
   "source": [
    "train_x, test_x, train_y, test_y = train_test_split(X, y, stratify=y,train_size=0.7,test_size=0.3,random_state=42)\n",
    "print(train_x.shape, test_x.shape, train_y.shape, test_y.shape)"
   ]
  },
  {
   "cell_type": "code",
   "execution_count": 7,
   "metadata": {
    "scrolled": true
   },
   "outputs": [
    {
     "data": {
      "text/plain": [
       "const                 float64\n",
       "Age                     int64\n",
       "Experience              int64\n",
       "Income                  int64\n",
       "Family                  int64\n",
       "CCAvg                 float64\n",
       "Education               int64\n",
       "Mortgage                int64\n",
       "Personal Loan           int64\n",
       "Securities Account      int64\n",
       "CD Account              int64\n",
       "Online                  int64\n",
       "CreditCard              int64\n",
       "dtype: object"
      ]
     },
     "execution_count": 7,
     "metadata": {},
     "output_type": "execute_result"
    }
   ],
   "source": [
    "ploan_processed.dtypes"
   ]
  },
  {
   "cell_type": "code",
   "execution_count": 8,
   "metadata": {},
   "outputs": [
    {
     "name": "stdout",
     "output_type": "stream",
     "text": [
      "(1750, 12) (750, 12) (1750,) (750,)\n"
     ]
    }
   ],
   "source": [
    "feature_columns = list(ploan_processed.columns.difference([\"Personal Loan\"]))\n",
    "X = ploan_processed[feature_columns]\n",
    "y = ploan_processed['Personal Loan'] \n",
    "train_x, test_x, train_y, test_y = train_test_split(X, y, stratify=y,train_size=0.7,test_size=0.3,random_state=123)\n",
    "print(train_x.shape, test_x.shape, train_y.shape, test_y.shape)"
   ]
  },
  {
   "cell_type": "markdown",
   "metadata": {},
   "source": [
    "<img src = \"./fig/1_전진선택법.PNG\" width=\"60%\">"
   ]
  },
  {
   "cell_type": "code",
   "execution_count": 9,
   "metadata": {},
   "outputs": [],
   "source": [
    "def processSubset(X,y, feature_set):\n",
    "            model = sm.Logit(y,X[list(feature_set)])\n",
    "            regr = model.fit()\n",
    "            AIC = regr.aic\n",
    "            return {\"model\":regr, \"AIC\":AIC}\n",
    "        \n",
    "'''\n",
    "전진선택법\n",
    "'''\n",
    "def forward(X, y, predictors):\n",
    "    # 데이터 변수들이 미리정의된 predictors에 있는지 없는지 확인 및 분류\n",
    "    remaining_predictors = [p for p in X.columns.difference(['const']) if p not in predictors]\n",
    "    tic = time.time()\n",
    "    results = []\n",
    "    for p in remaining_predictors:\n",
    "        results.append(processSubset(X=X, y= y, feature_set=predictors+[p]+['const']))\n",
    "    # 데이터프레임으로 변환\n",
    "    models = pd.DataFrame(results)\n",
    "\n",
    "    # AIC가 가장 낮은 것을 선택\n",
    "    best_model = models.loc[models['AIC'].argmin()] # index\n",
    "    toc = time.time()\n",
    "    print(\"Processed \", models.shape[0], \"models on\", len(predictors)+1, \"predictors in\", (toc-tic))\n",
    "    print('Selected predictors:',best_model['model'].model.exog_names,' AIC:',best_model[0] )\n",
    "    return best_model\n",
    "\n",
    "def forward_model(X,y):\n",
    "    Fmodels = pd.DataFrame(columns=[\"AIC\", \"model\"])\n",
    "    tic = time.time()\n",
    "    # 미리 정의된 데이터 변수\n",
    "    predictors = []\n",
    "    # 변수 1~10개 : 0~9 -> 1~10\n",
    "    for i in range(1, len(X.columns.difference(['const'])) + 1):\n",
    "        Forward_result = forward(X=X,y=y,predictors=predictors)\n",
    "        if i > 1:\n",
    "            if Forward_result['AIC'] > Fmodel_before:\n",
    "                break\n",
    "        Fmodels.loc[i] = Forward_result\n",
    "        predictors = Fmodels.loc[i][\"model\"].model.exog_names\n",
    "        Fmodel_before = Fmodels.loc[i][\"AIC\"]\n",
    "        predictors = [ k for k in predictors if k != 'const']\n",
    "    toc = time.time()\n",
    "    print(\"Total elapsed time:\", (toc - tic), \"seconds.\")\n",
    "\n",
    "    return(Fmodels['model'][len(Fmodels['model'])])\n"
   ]
  },
  {
   "cell_type": "markdown",
   "metadata": {},
   "source": [
    "<img src = \"./fig/2_후진소거법.PNG\" width=\"60%\">"
   ]
  },
  {
   "cell_type": "code",
   "execution_count": 10,
   "metadata": {},
   "outputs": [],
   "source": [
    "'''\n",
    "후진소거법\n",
    "'''\n",
    "def backward(X,y,predictors):\n",
    "    tic = time.time()\n",
    "    results = []\n",
    "    \n",
    "    # 데이터 변수들이 미리정의된 predictors 조합 확인\n",
    "    for combo in itertools.combinations(predictors, len(predictors) - 1):\n",
    "        results.append(processSubset(X=X, y= y,feature_set=list(combo)+['const']))\n",
    "    models = pd.DataFrame(results)\n",
    "    \n",
    "    # 가장 낮은 AIC를 가진 모델을 선택\n",
    "    best_model = models.loc[models['AIC'].argmin()]\n",
    "    toc = time.time()\n",
    "    print(\"Processed \", models.shape[0], \"models on\", len(predictors) - 1, \"predictors in\",\n",
    "          (toc - tic))\n",
    "    print('Selected predictors:',best_model['model'].model.exog_names,' AIC:',best_model[0] )\n",
    "    return best_model\n",
    "\n",
    "\n",
    "def backward_model(X, y):\n",
    "    Bmodels = pd.DataFrame(columns=[\"AIC\", \"model\"], index = range(1,len(X.columns)))\n",
    "    tic = time.time()\n",
    "    predictors = X.columns.difference(['const'])\n",
    "    Bmodel_before = processSubset(X,y,predictors)['AIC']\n",
    "    while (len(predictors) > 1):\n",
    "        Backward_result = backward(X=train_x, y= train_y, predictors = predictors)\n",
    "        if Backward_result['AIC'] > Bmodel_before:\n",
    "            break\n",
    "        Bmodels.loc[len(predictors) - 1] = Backward_result\n",
    "        predictors = Bmodels.loc[len(predictors) - 1][\"model\"].model.exog_names\n",
    "        Bmodel_before = Backward_result['AIC']\n",
    "        predictors = [ k for k in predictors if k != 'const']\n",
    "\n",
    "    toc = time.time()\n",
    "    print(\"Total elapsed time:\", (toc - tic), \"seconds.\")\n",
    "    return (Bmodels['model'].dropna().iloc[0])\n",
    "\n"
   ]
  },
  {
   "cell_type": "markdown",
   "metadata": {},
   "source": [
    "<img src = \"./fig/3_단계적선택법.PNG\" width=\"60%\">"
   ]
  },
  {
   "cell_type": "code",
   "execution_count": 11,
   "metadata": {},
   "outputs": [],
   "source": [
    "'''\n",
    "단계적 선택법\n",
    "'''\n",
    "def Stepwise_model(X,y):\n",
    "    Stepmodels = pd.DataFrame(columns=[\"AIC\", \"model\"])\n",
    "    tic = time.time()\n",
    "    predictors = []\n",
    "    Smodel_before = processSubset(X,y,predictors+['const'])['AIC']\n",
    "    # 변수 1~10개 : 0~9 -> 1~10\n",
    "    for i in range(1, len(X.columns.difference(['const'])) + 1):\n",
    "        Forward_result = forward(X=X, y=y, predictors=predictors) # constant added\n",
    "        print('forward')\n",
    "        Stepmodels.loc[i] = Forward_result\n",
    "        predictors = Stepmodels.loc[i][\"model\"].model.exog_names\n",
    "        predictors = [ k for k in predictors if k != 'const']\n",
    "        Backward_result = backward(X=X, y=y, predictors=predictors)\n",
    "        if Backward_result['AIC']< Forward_result['AIC']:\n",
    "            Stepmodels.loc[i] = Backward_result\n",
    "            predictors = Stepmodels.loc[i][\"model\"].model.exog_names\n",
    "            Smodel_before = Stepmodels.loc[i][\"AIC\"]\n",
    "            predictors = [ k for k in predictors if k != 'const']\n",
    "            print('backward')\n",
    "        if Stepmodels.loc[i]['AIC']> Smodel_before:\n",
    "            break\n",
    "        else:\n",
    "            Smodel_before = Stepmodels.loc[i][\"AIC\"]\n",
    "    toc = time.time()\n",
    "    print(\"Total elapsed time:\", (toc - tic), \"seconds.\")\n",
    "    return (Stepmodels['model'][len(Stepmodels['model'])])"
   ]
  },
  {
   "cell_type": "code",
   "execution_count": 12,
   "metadata": {
    "scrolled": true
   },
   "outputs": [
    {
     "name": "stdout",
     "output_type": "stream",
     "text": [
      "Optimization terminated successfully.\n",
      "         Current function value: 0.330074\n",
      "         Iterations 6\n",
      "Optimization terminated successfully.\n",
      "         Current function value: 0.278922\n",
      "         Iterations 7\n",
      "Optimization terminated successfully.\n",
      "         Current function value: 0.299636\n",
      "         Iterations 6\n",
      "Optimization terminated successfully.\n",
      "         Current function value: 0.330053\n",
      "         Iterations 6\n",
      "Optimization terminated successfully.\n",
      "         Current function value: 0.320022\n",
      "         Iterations 7\n",
      "Optimization terminated successfully.\n",
      "         Current function value: 0.330073\n",
      "         Iterations 6\n",
      "Optimization terminated successfully.\n",
      "         Current function value: 0.328654\n",
      "         Iterations 6\n",
      "Optimization terminated successfully.\n",
      "         Current function value: 0.211066\n",
      "         Iterations 8\n",
      "Optimization terminated successfully.\n",
      "         Current function value: 0.325250\n",
      "         Iterations 6\n",
      "Optimization terminated successfully.\n",
      "         Current function value: 0.330069\n",
      "         Iterations 6\n",
      "Optimization terminated successfully.\n",
      "         Current function value: 0.330035\n",
      "         Iterations 6\n",
      "Processed  11 models on 1 predictors in 0.07280397415161133\n",
      "Selected predictors: ['Income', 'const']  AIC: <statsmodels.discrete.discrete_model.BinaryResultsWrapper object at 0x000001A0C78E1248>\n",
      "Optimization terminated successfully.\n",
      "         Current function value: 0.210358\n",
      "         Iterations 8\n",
      "Optimization terminated successfully.\n",
      "         Current function value: 0.210448\n",
      "         Iterations 8\n",
      "Optimization terminated successfully.\n",
      "         Current function value: 0.193762\n",
      "         Iterations 8\n",
      "Optimization terminated successfully.\n",
      "         Current function value: 0.211024\n",
      "         Iterations 8\n",
      "Optimization terminated successfully.\n",
      "         Current function value: 0.167585\n",
      "         Iterations 9\n",
      "Optimization terminated successfully.\n",
      "         Current function value: 0.210527\n",
      "         Iterations 8\n",
      "Optimization terminated successfully.\n",
      "         Current function value: 0.190662\n",
      "         Iterations 8\n",
      "Optimization terminated successfully.\n",
      "         Current function value: 0.211062\n",
      "         Iterations 8\n",
      "Optimization terminated successfully.\n",
      "         Current function value: 0.210990\n",
      "         Iterations 8\n",
      "Optimization terminated successfully.\n",
      "         Current function value: 0.210724\n",
      "         Iterations 8\n",
      "Processed  10 models on 2 predictors in 0.05285787582397461\n",
      "Selected predictors: ['Income', 'Education', 'const']  AIC: <statsmodels.discrete.discrete_model.BinaryResultsWrapper object at 0x000001A0C78ACAC8>\n",
      "Optimization terminated successfully.\n",
      "         Current function value: 0.167430\n",
      "         Iterations 9\n",
      "Optimization terminated successfully.\n",
      "         Current function value: 0.166339\n",
      "         Iterations 9\n",
      "Optimization terminated successfully.\n",
      "         Current function value: 0.154582\n",
      "         Iterations 9\n",
      "Optimization terminated successfully.\n",
      "         Current function value: 0.167562\n",
      "         Iterations 9\n",
      "Optimization terminated successfully.\n",
      "         Current function value: 0.167404\n",
      "         Iterations 9\n",
      "Optimization terminated successfully.\n",
      "         Current function value: 0.154568\n",
      "         Iterations 9\n",
      "Optimization terminated successfully.\n",
      "         Current function value: 0.167579\n",
      "         Iterations 9\n",
      "Optimization terminated successfully.\n",
      "         Current function value: 0.167525\n",
      "         Iterations 9\n",
      "Optimization terminated successfully.\n",
      "         Current function value: 0.167575\n",
      "         Iterations 9\n",
      "Processed  9 models on 3 predictors in 0.049868106842041016\n",
      "Selected predictors: ['Income', 'Education', 'Family', 'const']  AIC: <statsmodels.discrete.discrete_model.BinaryResultsWrapper object at 0x000001A0C7B60208>\n",
      "Optimization terminated successfully.\n",
      "         Current function value: 0.153837\n",
      "         Iterations 9\n",
      "Optimization terminated successfully.\n",
      "         Current function value: 0.153301\n",
      "         Iterations 9\n",
      "Optimization terminated successfully.\n",
      "         Current function value: 0.143402\n",
      "         Iterations 9\n",
      "Optimization terminated successfully.\n",
      "         Current function value: 0.154534\n",
      "         Iterations 9\n",
      "Optimization terminated successfully.\n",
      "         Current function value: 0.153753\n",
      "         Iterations 9\n",
      "Optimization terminated successfully.\n",
      "         Current function value: 0.154518\n",
      "         Iterations 9\n",
      "Optimization terminated successfully.\n",
      "         Current function value: 0.154347\n",
      "         Iterations 9\n",
      "Optimization terminated successfully.\n",
      "         Current function value: 0.154563\n",
      "         Iterations 9\n",
      "Processed  8 models on 4 predictors in 0.04587674140930176\n",
      "Selected predictors: ['Income', 'Education', 'Family', 'CD Account', 'const']  AIC: <statsmodels.discrete.discrete_model.BinaryResultsWrapper object at 0x000001A0C7B60148>\n",
      "Optimization terminated successfully.\n",
      "         Current function value: 0.143042\n",
      "         Iterations 9\n",
      "Optimization terminated successfully.\n",
      "         Current function value: 0.142099\n",
      "         Iterations 9\n",
      "Optimization terminated successfully.\n",
      "         Current function value: 0.141267\n",
      "         Iterations 9\n",
      "Optimization terminated successfully.\n",
      "         Current function value: 0.143018\n",
      "         Iterations 9\n",
      "Optimization terminated successfully.\n",
      "         Current function value: 0.143329\n",
      "         Iterations 9\n",
      "Optimization terminated successfully.\n",
      "         Current function value: 0.143248\n",
      "         Iterations 9\n",
      "Optimization terminated successfully.\n",
      "         Current function value: 0.141530\n",
      "         Iterations 9\n",
      "Processed  7 models on 5 predictors in 0.03889656066894531\n",
      "Selected predictors: ['Income', 'Education', 'Family', 'CD Account', 'CreditCard', 'const']  AIC: <statsmodels.discrete.discrete_model.BinaryResultsWrapper object at 0x000001A0C7B60608>\n",
      "Optimization terminated successfully.\n",
      "         Current function value: 0.140891\n",
      "         Iterations 9\n",
      "Optimization terminated successfully.\n",
      "         Current function value: 0.140114\n",
      "         Iterations 9\n",
      "Optimization terminated successfully.\n",
      "         Current function value: 0.140858\n",
      "         Iterations 9\n",
      "Optimization terminated successfully.\n",
      "         Current function value: 0.141112\n",
      "         Iterations 9\n",
      "Optimization terminated successfully.\n",
      "         Current function value: 0.140958\n",
      "         Iterations 9\n",
      "Optimization terminated successfully.\n",
      "         Current function value: 0.138625\n",
      "         Iterations 9\n",
      "Processed  6 models on 6 predictors in 0.03390979766845703\n",
      "Selected predictors: ['Income', 'Education', 'Family', 'CD Account', 'CreditCard', 'Securities Account', 'const']  AIC: <statsmodels.discrete.discrete_model.BinaryResultsWrapper object at 0x000001A0C7B66088>\n",
      "Optimization terminated successfully.\n",
      "         Current function value: 0.138125\n",
      "         Iterations 9\n",
      "Optimization terminated successfully.\n",
      "         Current function value: 0.137440\n",
      "         Iterations 9\n",
      "Optimization terminated successfully.\n",
      "         Current function value: 0.138082\n",
      "         Iterations 9\n",
      "Optimization terminated successfully.\n",
      "         Current function value: 0.138412\n",
      "         Iterations 9\n",
      "Optimization terminated successfully.\n",
      "         Current function value: 0.138137\n",
      "         Iterations 9\n",
      "Processed  5 models on 7 predictors in 0.023936033248901367\n",
      "Selected predictors: ['Income', 'Education', 'Family', 'CD Account', 'CreditCard', 'Securities Account', 'CCAvg', 'const']  AIC: <statsmodels.discrete.discrete_model.BinaryResultsWrapper object at 0x000001A0C78E55C8>\n",
      "Optimization terminated successfully.\n",
      "         Current function value: 0.136851\n",
      "         Iterations 9\n",
      "Optimization terminated successfully.\n",
      "         Current function value: 0.136806\n",
      "         Iterations 9\n",
      "Optimization terminated successfully.\n",
      "         Current function value: 0.137308\n",
      "         Iterations 9\n",
      "Optimization terminated successfully.\n",
      "         Current function value: 0.136862\n",
      "         Iterations 9\n",
      "Processed  4 models on 8 predictors in 0.024935245513916016\n",
      "Selected predictors: ['Income', 'Education', 'Family', 'CD Account', 'CreditCard', 'Securities Account', 'CCAvg', 'Experience', 'const']  AIC: <statsmodels.discrete.discrete_model.BinaryResultsWrapper object at 0x000001A0C7B66748>\n",
      "Optimization terminated successfully.\n",
      "         Current function value: 0.136757\n",
      "         Iterations 9\n",
      "Optimization terminated successfully.\n",
      "         Current function value: 0.136692\n",
      "         Iterations 9\n",
      "Optimization terminated successfully.\n",
      "         Current function value: 0.136250\n",
      "         Iterations 9\n",
      "Processed  3 models on 9 predictors in 0.01695394515991211\n",
      "Selected predictors: ['Income', 'Education', 'Family', 'CD Account', 'CreditCard', 'Securities Account', 'CCAvg', 'Experience', 'Online', 'const']  AIC: <statsmodels.discrete.discrete_model.BinaryResultsWrapper object at 0x000001A0C7B66EC8>\n",
      "Total elapsed time: 0.3919510841369629 seconds.\n"
     ]
    }
   ],
   "source": [
    "Forward_best_model = forward_model(X=train_x, y= train_y)"
   ]
  },
  {
   "cell_type": "code",
   "execution_count": 13,
   "metadata": {
    "scrolled": true
   },
   "outputs": [
    {
     "name": "stdout",
     "output_type": "stream",
     "text": [
      "Optimization terminated successfully.\n",
      "         Current function value: 0.141184\n",
      "         Iterations 9\n",
      "Optimization terminated successfully.\n",
      "         Current function value: 0.139171\n",
      "         Iterations 9\n",
      "Optimization terminated successfully.\n",
      "         Current function value: 0.136647\n",
      "         Iterations 9\n",
      "Optimization terminated successfully.\n",
      "         Current function value: 0.136190\n",
      "         Iterations 9\n",
      "Optimization terminated successfully.\n",
      "         Current function value: 0.214321\n",
      "         Iterations 8\n",
      "Optimization terminated successfully.\n",
      "         Current function value: 0.146923\n",
      "         Iterations 9\n",
      "Optimization terminated successfully.\n",
      "         Current function value: 0.136155\n",
      "         Iterations 9\n",
      "Optimization terminated successfully.\n",
      "         Current function value: 0.167931\n",
      "         Iterations 9\n",
      "Optimization terminated successfully.\n",
      "         Current function value: 0.139247\n",
      "         Iterations 9\n",
      "Optimization terminated successfully.\n",
      "         Current function value: 0.152001\n",
      "         Iterations 9\n",
      "Optimization terminated successfully.\n",
      "         Current function value: 0.137324\n",
      "         Iterations 9\n",
      "Optimization terminated successfully.\n",
      "         Current function value: 0.136109\n",
      "         Iterations 9\n",
      "Processed  11 models on 10 predictors in 0.07081103324890137\n",
      "Selected predictors: ['CCAvg', 'CD Account', 'CreditCard', 'Education', 'Experience', 'Family', 'Income', 'Mortgage', 'Online', 'Securities Account', 'const']  AIC: <statsmodels.discrete.discrete_model.BinaryResultsWrapper object at 0x000001A0C78DDC88>\n",
      "Optimization terminated successfully.\n",
      "         Current function value: 0.139210\n",
      "         Iterations 9\n",
      "Optimization terminated successfully.\n",
      "         Current function value: 0.136692\n",
      "         Iterations 9\n",
      "Optimization terminated successfully.\n",
      "         Current function value: 0.136250\n",
      "         Iterations 9\n",
      "Optimization terminated successfully.\n",
      "         Current function value: 0.215170\n",
      "         Iterations 8\n",
      "Optimization terminated successfully.\n",
      "         Current function value: 0.146933\n",
      "         Iterations 9\n",
      "Optimization terminated successfully.\n",
      "         Current function value: 0.136701\n",
      "         Iterations 9\n",
      "Optimization terminated successfully.\n",
      "         Current function value: 0.168811\n",
      "         Iterations 8\n",
      "Optimization terminated successfully.\n",
      "         Current function value: 0.139273\n",
      "         Iterations 9\n",
      "Optimization terminated successfully.\n",
      "         Current function value: 0.152148\n",
      "         Iterations 9\n",
      "Optimization terminated successfully.\n",
      "         Current function value: 0.137386\n",
      "         Iterations 9\n",
      "Processed  10 models on 9 predictors in 0.05684947967529297\n",
      "Selected predictors: ['CCAvg', 'CD Account', 'CreditCard', 'Education', 'Experience', 'Family', 'Income', 'Online', 'Securities Account', 'const']  AIC: <statsmodels.discrete.discrete_model.BinaryResultsWrapper object at 0x000001A0C78FE508>\n",
      "Optimization terminated successfully.\n",
      "         Current function value: 0.139305\n",
      "         Iterations 9\n",
      "Optimization terminated successfully.\n",
      "         Current function value: 0.136806\n",
      "         Iterations 9\n",
      "Optimization terminated successfully.\n",
      "         Current function value: 0.216609\n",
      "         Iterations 8\n",
      "Optimization terminated successfully.\n",
      "         Current function value: 0.147019\n",
      "         Iterations 9\n",
      "Optimization terminated successfully.\n",
      "         Current function value: 0.136862\n",
      "         Iterations 9\n",
      "Optimization terminated successfully.\n",
      "         Current function value: 0.169249\n",
      "         Iterations 8\n",
      "Optimization terminated successfully.\n",
      "         Current function value: 0.139321\n",
      "         Iterations 9\n",
      "Optimization terminated successfully.\n",
      "         Current function value: 0.152158\n",
      "         Iterations 9\n",
      "Optimization terminated successfully.\n",
      "         Current function value: 0.137613\n",
      "         Iterations 9\n",
      "Processed  9 models on 8 predictors in 0.05884122848510742\n",
      "Selected predictors: ['CCAvg', 'CD Account', 'CreditCard', 'Education', 'Experience', 'Family', 'Income', 'Securities Account', 'const']  AIC: <statsmodels.discrete.discrete_model.BinaryResultsWrapper object at 0x000001A0C790F688>\n",
      "Optimization terminated successfully.\n",
      "         Current function value: 0.139642\n",
      "         Iterations 9\n",
      "Optimization terminated successfully.\n",
      "         Current function value: 0.218328\n",
      "         Iterations 8\n",
      "Optimization terminated successfully.\n",
      "         Current function value: 0.148186\n",
      "         Iterations 9\n",
      "Optimization terminated successfully.\n",
      "         Current function value: 0.137440\n",
      "         Iterations 9\n",
      "Optimization terminated successfully.\n",
      "         Current function value: 0.170229\n",
      "         Iterations 8\n",
      "Optimization terminated successfully.\n",
      "         Current function value: 0.139607\n",
      "         Iterations 9\n",
      "Optimization terminated successfully.\n",
      "         Current function value: 0.152359\n",
      "         Iterations 9\n",
      "Optimization terminated successfully.\n",
      "         Current function value: 0.138082\n",
      "         Iterations 9\n",
      "Processed  8 models on 7 predictors in 0.036900997161865234\n",
      "Selected predictors: ['CCAvg', 'CD Account', 'CreditCard', 'Education', 'Family', 'Income', 'Securities Account', 'const']  AIC: <statsmodels.discrete.discrete_model.BinaryResultsWrapper object at 0x000001A0C7B6EA08>\n",
      "Total elapsed time: 0.23536992073059082 seconds.\n"
     ]
    }
   ],
   "source": [
    "Backward_best_model = backward_model(X=train_x,y=train_y)"
   ]
  },
  {
   "cell_type": "code",
   "execution_count": 14,
   "metadata": {
    "scrolled": true
   },
   "outputs": [
    {
     "name": "stdout",
     "output_type": "stream",
     "text": [
      "Optimization terminated successfully.\n",
      "         Current function value: 0.330076\n",
      "         Iterations 6\n",
      "Optimization terminated successfully.\n",
      "         Current function value: 0.330074\n",
      "         Iterations 6\n",
      "Optimization terminated successfully.\n",
      "         Current function value: 0.278922\n",
      "         Iterations 7\n",
      "Optimization terminated successfully.\n",
      "         Current function value: 0.299636\n",
      "         Iterations 6\n",
      "Optimization terminated successfully.\n",
      "         Current function value: 0.330053\n",
      "         Iterations 6\n",
      "Optimization terminated successfully.\n",
      "         Current function value: 0.320022\n",
      "         Iterations 7\n",
      "Optimization terminated successfully.\n",
      "         Current function value: 0.330073\n",
      "         Iterations 6\n",
      "Optimization terminated successfully.\n",
      "         Current function value: 0.328654\n",
      "         Iterations 6\n",
      "Optimization terminated successfully.\n",
      "         Current function value: 0.211066\n",
      "         Iterations 8\n",
      "Optimization terminated successfully.\n",
      "         Current function value: 0.325250\n",
      "         Iterations 6\n",
      "Optimization terminated successfully.\n",
      "         Current function value: 0.330069\n",
      "         Iterations 6\n",
      "Optimization terminated successfully.\n",
      "         Current function value: 0.330035\n",
      "         Iterations 6\n",
      "Processed  11 models on 1 predictors in 0.04886889457702637\n",
      "Selected predictors: ['Income', 'const']  AIC: <statsmodels.discrete.discrete_model.BinaryResultsWrapper object at 0x000001A0C7B72388>\n",
      "forward\n",
      "Optimization terminated successfully.\n",
      "         Current function value: 0.330076\n",
      "         Iterations 6\n",
      "Processed  1 models on 0 predictors in 0.004986763000488281\n",
      "Selected predictors: ['const']  AIC: <statsmodels.discrete.discrete_model.BinaryResultsWrapper object at 0x000001A0C7B6D588>\n",
      "Optimization terminated successfully.\n",
      "         Current function value: 0.210358\n",
      "         Iterations 8\n",
      "Optimization terminated successfully.\n",
      "         Current function value: 0.210448\n",
      "         Iterations 8\n",
      "Optimization terminated successfully.\n",
      "         Current function value: 0.193762\n",
      "         Iterations 8\n",
      "Optimization terminated successfully.\n",
      "         Current function value: 0.211024\n",
      "         Iterations 8\n",
      "Optimization terminated successfully.\n",
      "         Current function value: 0.167585\n",
      "         Iterations 9\n",
      "Optimization terminated successfully.\n",
      "         Current function value: 0.210527\n",
      "         Iterations 8\n",
      "Optimization terminated successfully.\n",
      "         Current function value: 0.190662\n",
      "         Iterations 8\n",
      "Optimization terminated successfully.\n",
      "         Current function value: 0.211062\n",
      "         Iterations 8\n",
      "Optimization terminated successfully.\n",
      "         Current function value: 0.210990\n",
      "         Iterations 8\n",
      "Optimization terminated successfully.\n",
      "         Current function value: 0.210724\n",
      "         Iterations 8\n",
      "Processed  10 models on 2 predictors in 0.03989267349243164\n",
      "Selected predictors: ['Income', 'Education', 'const']  AIC: <statsmodels.discrete.discrete_model.BinaryResultsWrapper object at 0x000001A0C78FB0C8>\n",
      "forward\n",
      "Optimization terminated successfully.\n",
      "         Current function value: 0.211066\n",
      "         Iterations 8\n",
      "Optimization terminated successfully.\n",
      "         Current function value: 0.320022\n",
      "         Iterations 7\n",
      "Processed  2 models on 1 predictors in 0.007978677749633789\n",
      "Selected predictors: ['Income', 'const']  AIC: <statsmodels.discrete.discrete_model.BinaryResultsWrapper object at 0x000001A0C7B72648>\n",
      "Optimization terminated successfully.\n",
      "         Current function value: 0.167430\n",
      "         Iterations 9\n",
      "Optimization terminated successfully.\n",
      "         Current function value: 0.166339\n",
      "         Iterations 9\n",
      "Optimization terminated successfully.\n",
      "         Current function value: 0.154582\n",
      "         Iterations 9\n",
      "Optimization terminated successfully.\n",
      "         Current function value: 0.167562\n",
      "         Iterations 9\n",
      "Optimization terminated successfully.\n",
      "         Current function value: 0.167404\n",
      "         Iterations 9\n",
      "Optimization terminated successfully.\n",
      "         Current function value: 0.154568\n",
      "         Iterations 9\n",
      "Optimization terminated successfully.\n",
      "         Current function value: 0.167579\n",
      "         Iterations 9\n",
      "Optimization terminated successfully.\n",
      "         Current function value: 0.167525\n",
      "         Iterations 9\n",
      "Optimization terminated successfully.\n",
      "         Current function value: 0.167575\n",
      "         Iterations 9\n",
      "Processed  9 models on 3 predictors in 0.038896799087524414\n",
      "Selected predictors: ['Income', 'Education', 'Family', 'const']  AIC: <statsmodels.discrete.discrete_model.BinaryResultsWrapper object at 0x000001A0C7B70B08>\n",
      "forward\n",
      "Optimization terminated successfully.\n",
      "         Current function value: 0.167585\n",
      "         Iterations 9\n",
      "Optimization terminated successfully.\n",
      "         Current function value: 0.190662\n",
      "         Iterations 8\n",
      "Optimization terminated successfully.\n",
      "         Current function value: 0.318880\n",
      "         Iterations 7\n",
      "Processed  3 models on 2 predictors in 0.012965917587280273\n",
      "Selected predictors: ['Income', 'Education', 'const']  AIC: <statsmodels.discrete.discrete_model.BinaryResultsWrapper object at 0x000001A0C7B74988>\n",
      "Optimization terminated successfully.\n",
      "         Current function value: 0.153837\n",
      "         Iterations 9\n",
      "Optimization terminated successfully.\n",
      "         Current function value: 0.153301\n",
      "         Iterations 9\n",
      "Optimization terminated successfully.\n",
      "         Current function value: 0.143402\n",
      "         Iterations 9\n",
      "Optimization terminated successfully.\n",
      "         Current function value: 0.154534\n",
      "         Iterations 9\n",
      "Optimization terminated successfully.\n",
      "         Current function value: 0.153753\n",
      "         Iterations 9\n",
      "Optimization terminated successfully.\n",
      "         Current function value: 0.154518\n",
      "         Iterations 9\n",
      "Optimization terminated successfully.\n",
      "         Current function value: 0.154347\n",
      "         Iterations 9\n",
      "Optimization terminated successfully.\n",
      "         Current function value: 0.154563\n",
      "         Iterations 9\n",
      "Processed  8 models on 4 predictors in 0.03391003608703613\n",
      "Selected predictors: ['Income', 'Education', 'Family', 'CD Account', 'const']  AIC: <statsmodels.discrete.discrete_model.BinaryResultsWrapper object at 0x000001A0C7B6EBC8>\n",
      "forward\n",
      "Optimization terminated successfully.\n",
      "         Current function value: 0.154568\n",
      "         Iterations 9\n",
      "Optimization terminated successfully.\n",
      "         Current function value: 0.154582\n",
      "         Iterations 9\n",
      "Optimization terminated successfully.\n",
      "         Current function value: 0.176255\n",
      "         Iterations 8\n",
      "Optimization terminated successfully.\n",
      "         Current function value: 0.289197\n",
      "         Iterations 7\n",
      "Processed  4 models on 3 predictors in 0.016954898834228516\n",
      "Selected predictors: ['Income', 'Education', 'Family', 'const']  AIC: <statsmodels.discrete.discrete_model.BinaryResultsWrapper object at 0x000001A0C7B72988>\n",
      "Optimization terminated successfully.\n",
      "         Current function value: 0.143042\n",
      "         Iterations 9\n",
      "Optimization terminated successfully.\n",
      "         Current function value: 0.142099\n",
      "         Iterations 9\n",
      "Optimization terminated successfully.\n",
      "         Current function value: 0.141267\n",
      "         Iterations 9\n",
      "Optimization terminated successfully.\n",
      "         Current function value: 0.143018\n",
      "         Iterations 9\n",
      "Optimization terminated successfully.\n",
      "         Current function value: 0.143329\n",
      "         Iterations 9\n",
      "Optimization terminated successfully.\n",
      "         Current function value: 0.143248\n",
      "         Iterations 9\n",
      "Optimization terminated successfully.\n",
      "         Current function value: 0.141530\n",
      "         Iterations 9\n",
      "Processed  7 models on 5 predictors in 0.03191423416137695\n",
      "Selected predictors: ['Income', 'Education', 'Family', 'CD Account', 'CreditCard', 'const']  AIC: <statsmodels.discrete.discrete_model.BinaryResultsWrapper object at 0x000001A0C7B73708>\n",
      "forward\n",
      "Optimization terminated successfully.\n",
      "         Current function value: 0.143402\n",
      "         Iterations 9\n",
      "Optimization terminated successfully.\n",
      "         Current function value: 0.154534\n",
      "         Iterations 9\n",
      "Optimization terminated successfully.\n",
      "         Current function value: 0.152339\n",
      "         Iterations 9\n",
      "Optimization terminated successfully.\n",
      "         Current function value: 0.173415\n",
      "         Iterations 8\n",
      "Optimization terminated successfully.\n",
      "         Current function value: 0.284520\n",
      "         Iterations 7\n",
      "Processed  5 models on 4 predictors in 0.019947528839111328\n",
      "Selected predictors: ['Income', 'Education', 'Family', 'CD Account', 'const']  AIC: <statsmodels.discrete.discrete_model.BinaryResultsWrapper object at 0x000001A0C7B72908>\n",
      "Optimization terminated successfully.\n",
      "         Current function value: 0.140891\n",
      "         Iterations 9\n",
      "Optimization terminated successfully.\n",
      "         Current function value: 0.140114\n",
      "         Iterations 9\n",
      "Optimization terminated successfully.\n",
      "         Current function value: 0.140858\n",
      "         Iterations 9\n",
      "Optimization terminated successfully.\n",
      "         Current function value: 0.141112\n",
      "         Iterations 9\n",
      "Optimization terminated successfully.\n",
      "         Current function value: 0.140958\n",
      "         Iterations 9\n",
      "Optimization terminated successfully.\n",
      "         Current function value: 0.138625\n",
      "         Iterations 9\n",
      "Processed  6 models on 6 predictors in 0.02293872833251953\n",
      "Selected predictors: ['Income', 'Education', 'Family', 'CD Account', 'CreditCard', 'Securities Account', 'const']  AIC: <statsmodels.discrete.discrete_model.BinaryResultsWrapper object at 0x000001A0C7B77F88>\n",
      "forward\n",
      "Optimization terminated successfully.\n",
      "         Current function value: 0.141267\n",
      "         Iterations 9\n",
      "Optimization terminated successfully.\n",
      "         Current function value: 0.141530\n",
      "         Iterations 9\n",
      "Optimization terminated successfully.\n",
      "         Current function value: 0.154530\n",
      "         Iterations 9\n",
      "Optimization terminated successfully.\n",
      "         Current function value: 0.149605\n",
      "         Iterations 9\n",
      "Optimization terminated successfully.\n",
      "         Current function value: 0.171607\n",
      "         Iterations 8\n",
      "Optimization terminated successfully.\n",
      "         Current function value: 0.278140\n",
      "         Iterations 7\n",
      "Processed  6 models on 5 predictors in 0.029919862747192383\n",
      "Selected predictors: ['Income', 'Education', 'Family', 'CD Account', 'CreditCard', 'const']  AIC: <statsmodels.discrete.discrete_model.BinaryResultsWrapper object at 0x000001A0C7B6DDC8>\n",
      "Optimization terminated successfully.\n",
      "         Current function value: 0.138125\n",
      "         Iterations 9\n",
      "Optimization terminated successfully.\n",
      "         Current function value: 0.137440\n",
      "         Iterations 9\n",
      "Optimization terminated successfully.\n",
      "         Current function value: 0.138082\n",
      "         Iterations 9\n",
      "Optimization terminated successfully.\n",
      "         Current function value: 0.138412\n",
      "         Iterations 9\n",
      "Optimization terminated successfully.\n",
      "         Current function value: 0.138137\n",
      "         Iterations 9\n",
      "Processed  5 models on 7 predictors in 0.0249326229095459\n",
      "Selected predictors: ['Income', 'Education', 'Family', 'CD Account', 'CreditCard', 'Securities Account', 'CCAvg', 'const']  AIC: <statsmodels.discrete.discrete_model.BinaryResultsWrapper object at 0x000001A0C7B70748>\n",
      "forward\n",
      "Optimization terminated successfully.\n",
      "         Current function value: 0.138625\n",
      "         Iterations 9\n",
      "Optimization terminated successfully.\n",
      "         Current function value: 0.140114\n",
      "         Iterations 9\n",
      "Optimization terminated successfully.\n",
      "         Current function value: 0.140161\n",
      "         Iterations 9\n",
      "Optimization terminated successfully.\n",
      "         Current function value: 0.153287\n",
      "         Iterations 9\n",
      "Optimization terminated successfully.\n",
      "         Current function value: 0.148297\n",
      "         Iterations 9\n",
      "Optimization terminated successfully.\n",
      "         Current function value: 0.170896\n",
      "         Iterations 8\n",
      "Optimization terminated successfully.\n",
      "         Current function value: 0.218403\n",
      "         Iterations 8\n",
      "Processed  7 models on 6 predictors in 0.032909393310546875\n",
      "Selected predictors: ['Income', 'Education', 'Family', 'CD Account', 'CreditCard', 'Securities Account', 'const']  AIC: <statsmodels.discrete.discrete_model.BinaryResultsWrapper object at 0x000001A0C7B74F88>\n",
      "Optimization terminated successfully.\n",
      "         Current function value: 0.136851\n",
      "         Iterations 9\n",
      "Optimization terminated successfully.\n",
      "         Current function value: 0.136806\n",
      "         Iterations 9\n",
      "Optimization terminated successfully.\n",
      "         Current function value: 0.137308\n",
      "         Iterations 9\n",
      "Optimization terminated successfully.\n",
      "         Current function value: 0.136862\n",
      "         Iterations 9\n",
      "Processed  4 models on 8 predictors in 0.02094411849975586\n",
      "Selected predictors: ['Income', 'Education', 'Family', 'CD Account', 'CreditCard', 'Securities Account', 'CCAvg', 'Experience', 'const']  AIC: <statsmodels.discrete.discrete_model.BinaryResultsWrapper object at 0x000001A0C7B79A88>\n",
      "forward\n",
      "Optimization terminated successfully.\n",
      "         Current function value: 0.137440\n",
      "         Iterations 9\n",
      "Optimization terminated successfully.\n",
      "         Current function value: 0.138082\n",
      "         Iterations 9\n",
      "Optimization terminated successfully.\n",
      "         Current function value: 0.139642\n",
      "         Iterations 9\n",
      "Optimization terminated successfully.\n",
      "         Current function value: 0.139607\n",
      "         Iterations 9\n",
      "Optimization terminated successfully.\n",
      "         Current function value: 0.152359\n",
      "         Iterations 9\n",
      "Optimization terminated successfully.\n",
      "         Current function value: 0.148186\n",
      "         Iterations 9\n",
      "Optimization terminated successfully.\n",
      "         Current function value: 0.170229\n",
      "         Iterations 8\n",
      "Optimization terminated successfully.\n",
      "         Current function value: 0.218328\n",
      "         Iterations 8\n",
      "Processed  8 models on 7 predictors in 0.039893388748168945\n",
      "Selected predictors: ['Income', 'Education', 'Family', 'CD Account', 'CreditCard', 'Securities Account', 'CCAvg', 'const']  AIC: <statsmodels.discrete.discrete_model.BinaryResultsWrapper object at 0x000001A0C7B708C8>\n",
      "Optimization terminated successfully.\n",
      "         Current function value: 0.136757\n",
      "         Iterations 9\n",
      "Optimization terminated successfully.\n",
      "         Current function value: 0.136692\n",
      "         Iterations 9\n",
      "Optimization terminated successfully.\n",
      "         Current function value: 0.136250\n",
      "         Iterations 9\n",
      "Processed  3 models on 9 predictors in 0.015958547592163086\n",
      "Selected predictors: ['Income', 'Education', 'Family', 'CD Account', 'CreditCard', 'Securities Account', 'CCAvg', 'Experience', 'Online', 'const']  AIC: <statsmodels.discrete.discrete_model.BinaryResultsWrapper object at 0x000001A0C7B74088>\n",
      "forward\n",
      "Optimization terminated successfully.\n",
      "         Current function value: 0.136806\n",
      "         Iterations 9\n",
      "Optimization terminated successfully.\n",
      "         Current function value: 0.136862\n",
      "         Iterations 9\n",
      "Optimization terminated successfully.\n",
      "         Current function value: 0.137613\n",
      "         Iterations 9\n",
      "Optimization terminated successfully.\n",
      "         Current function value: 0.139305\n",
      "         Iterations 9\n",
      "Optimization terminated successfully.\n",
      "         Current function value: 0.139321\n",
      "         Iterations 9\n",
      "Optimization terminated successfully.\n",
      "         Current function value: 0.152158\n",
      "         Iterations 9\n",
      "Optimization terminated successfully.\n",
      "         Current function value: 0.147019\n",
      "         Iterations 9\n",
      "Optimization terminated successfully.\n",
      "         Current function value: 0.169249\n",
      "         Iterations 8\n",
      "Optimization terminated successfully.\n",
      "         Current function value: 0.216609\n",
      "         Iterations 8\n",
      "Processed  9 models on 8 predictors in 0.040924787521362305\n",
      "Selected predictors: ['Income', 'Education', 'Family', 'CD Account', 'CreditCard', 'Securities Account', 'CCAvg', 'Experience', 'const']  AIC: <statsmodels.discrete.discrete_model.BinaryResultsWrapper object at 0x000001A0C7B79288>\n",
      "backward\n",
      "Optimization terminated successfully.\n",
      "         Current function value: 0.136757\n",
      "         Iterations 9\n",
      "Optimization terminated successfully.\n",
      "         Current function value: 0.136692\n",
      "         Iterations 9\n",
      "Optimization terminated successfully.\n",
      "         Current function value: 0.136250\n",
      "         Iterations 9\n",
      "Processed  3 models on 9 predictors in 0.014993429183959961\n",
      "Selected predictors: ['Income', 'Education', 'Family', 'CD Account', 'CreditCard', 'Securities Account', 'CCAvg', 'Experience', 'Online', 'const']  AIC: <statsmodels.discrete.discrete_model.BinaryResultsWrapper object at 0x000001A0C7B7C588>\n",
      "forward\n",
      "Optimization terminated successfully.\n",
      "         Current function value: 0.136806\n",
      "         Iterations 9\n",
      "Optimization terminated successfully.\n",
      "         Current function value: 0.136862\n",
      "         Iterations 9\n",
      "Optimization terminated successfully.\n",
      "         Current function value: 0.137613\n",
      "         Iterations 9\n",
      "Optimization terminated successfully.\n",
      "         Current function value: 0.139305\n",
      "         Iterations 9\n",
      "Optimization terminated successfully.\n",
      "         Current function value: 0.139321\n",
      "         Iterations 9\n",
      "Optimization terminated successfully.\n",
      "         Current function value: 0.152158\n",
      "         Iterations 9\n",
      "Optimization terminated successfully.\n",
      "         Current function value: 0.147019\n",
      "         Iterations 9\n",
      "Optimization terminated successfully.\n",
      "         Current function value: 0.169249\n",
      "         Iterations 8\n",
      "Optimization terminated successfully.\n",
      "         Current function value: 0.216609\n",
      "         Iterations 8\n",
      "Processed  9 models on 8 predictors in 0.04388260841369629\n",
      "Selected predictors: ['Income', 'Education', 'Family', 'CD Account', 'CreditCard', 'Securities Account', 'CCAvg', 'Experience', 'const']  AIC: <statsmodels.discrete.discrete_model.BinaryResultsWrapper object at 0x000001A0C7B77D08>\n",
      "backward\n",
      "Optimization terminated successfully.\n",
      "         Current function value: 0.136757\n",
      "         Iterations 9\n",
      "Optimization terminated successfully.\n",
      "         Current function value: 0.136692\n",
      "         Iterations 9\n",
      "Optimization terminated successfully.\n",
      "         Current function value: 0.136250\n",
      "         Iterations 9\n",
      "Processed  3 models on 9 predictors in 0.014960289001464844\n",
      "Selected predictors: ['Income', 'Education', 'Family', 'CD Account', 'CreditCard', 'Securities Account', 'CCAvg', 'Experience', 'Online', 'const']  AIC: <statsmodels.discrete.discrete_model.BinaryResultsWrapper object at 0x000001A0C7EE1488>\n",
      "forward\n",
      "Optimization terminated successfully.\n",
      "         Current function value: 0.136806\n",
      "         Iterations 9\n",
      "Optimization terminated successfully.\n",
      "         Current function value: 0.136862\n",
      "         Iterations 9\n",
      "Optimization terminated successfully.\n",
      "         Current function value: 0.137613\n",
      "         Iterations 9\n",
      "Optimization terminated successfully.\n",
      "         Current function value: 0.139305\n",
      "         Iterations 9\n",
      "Optimization terminated successfully.\n",
      "         Current function value: 0.139321\n",
      "         Iterations 9\n",
      "Optimization terminated successfully.\n",
      "         Current function value: 0.152158\n",
      "         Iterations 9\n",
      "Optimization terminated successfully.\n",
      "         Current function value: 0.147019\n",
      "         Iterations 9\n",
      "Optimization terminated successfully.\n",
      "         Current function value: 0.169249\n",
      "         Iterations 8\n",
      "Optimization terminated successfully.\n",
      "         Current function value: 0.216609\n",
      "         Iterations 8\n",
      "Processed  9 models on 8 predictors in 0.040891408920288086\n",
      "Selected predictors: ['Income', 'Education', 'Family', 'CD Account', 'CreditCard', 'Securities Account', 'CCAvg', 'Experience', 'const']  AIC: <statsmodels.discrete.discrete_model.BinaryResultsWrapper object at 0x000001A0C7B74988>\n",
      "backward\n",
      "Total elapsed time: 0.6592381000518799 seconds.\n"
     ]
    }
   ],
   "source": [
    "Stepwise_best_model = Stepwise_model(X=train_x,y=train_y)"
   ]
  },
  {
   "cell_type": "markdown",
   "metadata": {},
   "source": [
    "## Target의 확률 추정"
   ]
  },
  {
   "cell_type": "code",
   "execution_count": 15,
   "metadata": {},
   "outputs": [
    {
     "name": "stdout",
     "output_type": "stream",
     "text": [
      "Optimization terminated successfully.\n",
      "         Current function value: 0.136053\n",
      "         Iterations 9\n"
     ]
    }
   ],
   "source": [
    "# 모델에 의해 예측된/추정된 값 <->  test_y\n",
    "\n",
    "# 모델 구축 및 학습\n",
    "model = sm.Logit(train_y, train_x)\n",
    "results = model.fit(method='newton')\n",
    "pred_y_full = results.predict(test_x) # full model\n",
    "\n",
    "pred_y_forward = Forward_best_model.predict(test_x[Forward_best_model.model.exog_names])\n",
    "pred_y_backward = Backward_best_model.predict(test_x[Backward_best_model.model.exog_names])\n",
    "pred_y_stepwise = Stepwise_best_model.predict(test_x[Stepwise_best_model.model.exog_names])\n"
   ]
  },
  {
   "cell_type": "markdown",
   "metadata": {},
   "source": [
    "## Best cut-off를 사용하여 범주형으로 변환"
   ]
  },
  {
   "cell_type": "code",
   "execution_count": 16,
   "metadata": {},
   "outputs": [],
   "source": [
    "def plot_ROC(y_train_true, y_train_prob, y_test_true, y_test_prob):\n",
    "    '''\n",
    "    a funciton to plot the ROC curve for train labels and test labels.\n",
    "    Use the best threshold found in train set to classify items in test set.\n",
    "    '''\n",
    "    fpr_train, tpr_train, thresholds_train = roc_curve(y_train_true, y_train_prob, pos_label =True)\n",
    "    \n",
    "    sum_sensitivity_specificity_train = tpr_train + (1-fpr_train)\n",
    "    \n",
    "    best_threshold_id_train = np.argmax(sum_sensitivity_specificity_train)\n",
    "    best_threshold = thresholds_train[best_threshold_id_train]\n",
    "    best_fpr_train = fpr_train[best_threshold_id_train]\n",
    "    best_tpr_train = tpr_train[best_threshold_id_train]\n",
    "    y_train = y_train_prob > best_threshold\n",
    "\n",
    "    cm_train = confusion_matrix(y_train_true, y_train)\n",
    "    acc_train = accuracy_score(y_train_true, y_train)\n",
    "    auc_train = roc_auc_score(y_train_true, y_train)\n",
    "\n",
    "    print('Train Accuracy: %s ' %acc_train)\n",
    "    print('Train AUC: %s ' %auc_train)\n",
    "    print('Train Confusion Matrix:')\n",
    "    print(cm_train)\n",
    "\n",
    "    \n",
    "    # Plotting ROC Curve for Train \n",
    "    fig = plt.figure(figsize=(15,7))\n",
    "    ax = fig.add_subplot(121)\n",
    "    curve1 = ax.plot(fpr_train, tpr_train)\n",
    "    curve2 = ax.plot([0, 1], [0, 1], color='navy', linestyle='--')\n",
    "    dot = ax.plot(best_fpr_train, best_tpr_train, marker='o', color='black')\n",
    "    ax.text(best_fpr_train, best_tpr_train, s = '(%.3f,%.3f)' %(best_fpr_train, best_tpr_train))\n",
    "    plt.xlim([-0.01, 1.01])\n",
    "    plt.ylim([-0.01, 1.01])\n",
    "    plt.xlabel('False Positive Rate')\n",
    "    plt.ylabel('True Positive Rate')\n",
    "    plt.title('ROC curve (Train), AUC = %.4f'%auc_train)\n",
    "\n",
    "    fpr_test, tpr_test, thresholds_test = roc_curve(y_test_true, y_test_prob, pos_label =True)\n",
    "\n",
    "    y_test = y_test_prob > best_threshold\n",
    "\n",
    "    cm_test = confusion_matrix(y_test_true, y_test)\n",
    "    acc_test = accuracy_score(y_test_true, y_test)\n",
    "    auc_test = roc_auc_score(y_test_true, y_test)\n",
    "\n",
    "    print('Test Accuracy: %s ' %acc_test)\n",
    "    print('Test AUC: %s ' %auc_test)\n",
    "    print('Test Confusion Matrix:')\n",
    "    print(cm_test)\n",
    "\n",
    "    tpr_score = float(cm_test[1][1])/(cm_test[1][1] + cm_test[1][0])\n",
    "    fpr_score = float(cm_test[0][1])/(cm_test[0][0]+ cm_test[0][1])\n",
    "    \n",
    "    # Plotting ROC Curve for Test \n",
    "    ax2 = fig.add_subplot(122)\n",
    "    curve1 = ax2.plot(fpr_test, tpr_test)\n",
    "    curve2 = ax2.plot([0, 1], [0, 1], color='navy', linestyle='--')\n",
    "    dot = ax2.plot(fpr_score, tpr_score, marker='o', color='black')\n",
    "    ax2.text(fpr_score, tpr_score, s = '(%.3f,%.3f)' %(fpr_score, tpr_score))\n",
    "    plt.xlim([-0.01, 1.01])\n",
    "    plt.ylim([-0.01, 1.01])\n",
    "    plt.xlabel('False Positive Rate')\n",
    "    plt.ylabel('True Positive Rate')\n",
    "    plt.title('ROC curve (Test), AUC = %.4f'%auc_test)\n",
    "    plt.savefig('ROC', dpi = 500)\n",
    "    plt.show()\n",
    "\n",
    "    return best_threshold"
   ]
  },
  {
   "cell_type": "code",
   "execution_count": 17,
   "metadata": {},
   "outputs": [
    {
     "name": "stdout",
     "output_type": "stream",
     "text": [
      "Train Accuracy: 0.8628571428571429 \n",
      "Train AUC: 0.8914401743898666 \n",
      "Train Confusion Matrix:\n",
      "[[1344  227]\n",
      " [  13  166]]\n",
      "Test Accuracy: 0.8586666666666667 \n",
      "Test AUC: 0.8694930626579958 \n",
      "Test Confusion Matrix:\n",
      "[[576  97]\n",
      " [  9  68]]\n"
     ]
    },
    {
     "data": {
      "image/png": "[encoded data removed]",
      "text/plain": [
       "<Figure size 1080x504 with 2 Axes>"
      ]
     },
     "metadata": {
      "needs_background": "light"
     },
     "output_type": "display_data"
    }
   ],
   "source": [
    "BestThreshold_full= plot_ROC(y_train_true=train_y, y_train_prob=results.predict(train_x),\n",
    "         y_test_true=test_y, y_test_prob=results.predict(test_x))"
   ]
  },
  {
   "cell_type": "code",
   "execution_count": 18,
   "metadata": {},
   "outputs": [
    {
     "name": "stdout",
     "output_type": "stream",
     "text": [
      "Train Accuracy: 0.892 \n",
      "Train AUC: 0.8903466816495915 \n",
      "Train Confusion Matrix:\n",
      "[[1402  169]\n",
      " [  20  159]]\n",
      "Test Accuracy: 0.8973333333333333 \n",
      "Test AUC: 0.8852878176800911 \n",
      "Test Confusion Matrix:\n",
      "[[606  67]\n",
      " [ 10  67]]\n"
     ]
    },
    {
     "data": {
      "image/png": "[encoded data removed]",
      "text/plain": [
       "<Figure size 1080x504 with 2 Axes>"
      ]
     },
     "metadata": {
      "needs_background": "light"
     },
     "output_type": "display_data"
    }
   ],
   "source": [
    "BestThreshold_forward = plot_ROC(train_y,Forward_best_model.predict(train_x[Forward_best_model.model.exog_names]),\n",
    "                                 test_y,Forward_best_model.predict(test_x[Forward_best_model.model.exog_names]))"
   ]
  },
  {
   "cell_type": "code",
   "execution_count": 19,
   "metadata": {},
   "outputs": [
    {
     "name": "stdout",
     "output_type": "stream",
     "text": [
      "Train Accuracy: 0.892 \n",
      "Train AUC: 0.8903466816495915 \n",
      "Train Confusion Matrix:\n",
      "[[1402  169]\n",
      " [  20  159]]\n",
      "Test Accuracy: 0.8973333333333333 \n",
      "Test AUC: 0.8852878176800911 \n",
      "Test Confusion Matrix:\n",
      "[[606  67]\n",
      " [ 10  67]]\n"
     ]
    },
    {
     "data": {
      "image/png": "[encoded data removed]",
      "text/plain": [
       "<Figure size 1080x504 with 2 Axes>"
      ]
     },
     "metadata": {
      "needs_background": "light"
     },
     "output_type": "display_data"
    }
   ],
   "source": [
    "BestThreshold_backward = plot_ROC(train_y,Backward_best_model.predict(train_x[Backward_best_model.model.exog_names]),\n",
    "                                 test_y,Backward_best_model.predict(test_x[Backward_best_model.model.exog_names]))"
   ]
  },
  {
   "cell_type": "code",
   "execution_count": 20,
   "metadata": {},
   "outputs": [
    {
     "name": "stdout",
     "output_type": "stream",
     "text": [
      "Train Accuracy: 0.892 \n",
      "Train AUC: 0.8903466816495915 \n",
      "Train Confusion Matrix:\n",
      "[[1402  169]\n",
      " [  20  159]]\n",
      "Test Accuracy: 0.8973333333333333 \n",
      "Test AUC: 0.8852878176800911 \n",
      "Test Confusion Matrix:\n",
      "[[606  67]\n",
      " [ 10  67]]\n"
     ]
    },
    {
     "data": {
      "image/png": "[encoded data removed]",
      "text/plain": [
       "<Figure size 1080x504 with 2 Axes>"
      ]
     },
     "metadata": {
      "needs_background": "light"
     },
     "output_type": "display_data"
    }
   ],
   "source": [
    "BestThreshold_stepwise = plot_ROC(train_y,Stepwise_best_model.predict(train_x[Stepwise_best_model.model.exog_names]),\n",
    "                                 test_y,Stepwise_best_model.predict(test_x[Stepwise_best_model.model.exog_names]))"
   ]
  },
  {
   "cell_type": "code",
   "execution_count": 21,
   "metadata": {},
   "outputs": [],
   "source": [
    "# Cut-off 정의\n",
    "def cut_off(y, threshold):\n",
    "    Y = y.copy() # copy함수를 사용하여 이전의 y값이 변화지 않게 함\n",
    "    Y[y > threshold] = 1\n",
    "    Y[y <= threshold] = 0\n",
    "    return(Y.astype(int))"
   ]
  },
  {
   "cell_type": "code",
   "execution_count": 22,
   "metadata": {},
   "outputs": [],
   "source": [
    "pred_Y_full= cut_off(pred_y_full,BestThreshold_full)\n",
    "pred_Y_forward = cut_off(pred_y_forward,BestThreshold_forward)\n",
    "pred_Y_backward = cut_off(pred_y_backward,BestThreshold_backward)\n",
    "pred_Y_stepwise = cut_off(pred_y_stepwise,BestThreshold_stepwise)"
   ]
  },
  {
   "cell_type": "markdown",
   "metadata": {},
   "source": [
    "## **혼동행렬으로 표현**"
   ]
  },
  {
   "cell_type": "code",
   "execution_count": 23,
   "metadata": {},
   "outputs": [],
   "source": [
    "cfmat_full = confusion_matrix(test_y, pred_Y_full)\n",
    "cfmat_forward = confusion_matrix(test_y, pred_Y_forward)\n",
    "cfmat_backward = confusion_matrix(test_y, pred_Y_backward)\n",
    "cfmat_stepwise = confusion_matrix(test_y, pred_Y_stepwise)"
   ]
  },
  {
   "cell_type": "markdown",
   "metadata": {},
   "source": [
    "## **성능비교**"
   ]
  },
  {
   "cell_type": "code",
   "execution_count": 24,
   "metadata": {},
   "outputs": [],
   "source": [
    "def perf_eval(cm):\n",
    "    # True positive rate: TPR\n",
    "    TPR = cm[1, 1] / sum(cm[1]) # recall\n",
    "    # True negative rate: TNR\n",
    "    TNR = cm[0, 0] / sum(cm[0])\n",
    "    # Simple Accuracy\n",
    "    ACC = (cm[0, 0] + cm[1, 1]) / sum(cm.reshape(-1,))\n",
    "    # Balanced Correction Rate\n",
    "    BCR = np.sqrt(TPR * TNR)\n",
    "    # F1-measure\n",
    "    Precision = cm[1,1] /sum(cm[:,1])\n",
    "    F1 = 2*TPR*Precision/(TPR+Precision)\n",
    "    return ([TPR, TNR, ACC, BCR, F1])"
   ]
  },
  {
   "cell_type": "code",
   "execution_count": 25,
   "metadata": {},
   "outputs": [],
   "source": [
    "perf_mat = pd.DataFrame(columns=[\"TPR\", \"TNR\", \"ACC\", \"BCR\",\"F1\"],\n",
    "                        index =['FULL', 'FORWARD','BACKWARD', 'STEPWISE'])\n",
    "\n",
    "\n",
    "perf_mat.loc['FULL']=perf_eval(cfmat_full)\n",
    "perf_mat.loc['FORWARD']=perf_eval(cfmat_forward)\n",
    "perf_mat.loc['BACKWARD']=perf_eval(cfmat_backward)\n",
    "perf_mat.loc['STEPWISE']=perf_eval(cfmat_stepwise)"
   ]
  },
  {
   "cell_type": "code",
   "execution_count": 26,
   "metadata": {},
   "outputs": [
    {
     "data": {
      "text/html": [
       "<div>\n",
       "<style scoped>\n",
       "    .dataframe tbody tr th:only-of-type {\n",
       "        vertical-align: middle;\n",
       "    }\n",
       "\n",
       "    .dataframe tbody tr th {\n",
       "        vertical-align: top;\n",
       "    }\n",
       "\n",
       "    .dataframe thead th {\n",
       "        text-align: right;\n",
       "    }\n",
       "</style>\n",
       "<table border=\"1\" class=\"dataframe\">\n",
       "  <thead>\n",
       "    <tr style=\"text-align: right;\">\n",
       "      <th></th>\n",
       "      <th>TPR</th>\n",
       "      <th>TNR</th>\n",
       "      <th>ACC</th>\n",
       "      <th>BCR</th>\n",
       "      <th>F1</th>\n",
       "    </tr>\n",
       "  </thead>\n",
       "  <tbody>\n",
       "    <tr>\n",
       "      <th>FULL</th>\n",
       "      <td>0.883117</td>\n",
       "      <td>0.855869</td>\n",
       "      <td>0.858667</td>\n",
       "      <td>0.869386</td>\n",
       "      <td>0.561983</td>\n",
       "    </tr>\n",
       "    <tr>\n",
       "      <th>FORWARD</th>\n",
       "      <td>0.87013</td>\n",
       "      <td>0.900446</td>\n",
       "      <td>0.897333</td>\n",
       "      <td>0.885158</td>\n",
       "      <td>0.635071</td>\n",
       "    </tr>\n",
       "    <tr>\n",
       "      <th>BACKWARD</th>\n",
       "      <td>0.87013</td>\n",
       "      <td>0.900446</td>\n",
       "      <td>0.897333</td>\n",
       "      <td>0.885158</td>\n",
       "      <td>0.635071</td>\n",
       "    </tr>\n",
       "    <tr>\n",
       "      <th>STEPWISE</th>\n",
       "      <td>0.87013</td>\n",
       "      <td>0.900446</td>\n",
       "      <td>0.897333</td>\n",
       "      <td>0.885158</td>\n",
       "      <td>0.635071</td>\n",
       "    </tr>\n",
       "  </tbody>\n",
       "</table>\n",
       "</div>"
      ],
      "text/plain": [
       "               TPR       TNR       ACC       BCR        F1\n",
       "FULL      0.883117  0.855869  0.858667  0.869386  0.561983\n",
       "FORWARD    0.87013  0.900446  0.897333  0.885158  0.635071\n",
       "BACKWARD   0.87013  0.900446  0.897333  0.885158  0.635071\n",
       "STEPWISE   0.87013  0.900446  0.897333  0.885158  0.635071"
      ]
     },
     "execution_count": 26,
     "metadata": {},
     "output_type": "execute_result"
    }
   ],
   "source": [
    "perf_mat"
   ]
  },
  {
   "cell_type": "code",
   "execution_count": 27,
   "metadata": {},
   "outputs": [
    {
     "name": "stdout",
     "output_type": "stream",
     "text": [
      "0.9004457652303121\n"
     ]
    }
   ],
   "source": [
    "print( perf_mat.loc['FORWARD','TNR'])"
   ]
  },
  {
   "cell_type": "code",
   "execution_count": 28,
   "metadata": {},
   "outputs": [
    {
     "name": "stdout",
     "output_type": "stream",
     "text": [
      "FULL        0.855869\n",
      "FORWARD     0.900446\n",
      "BACKWARD    0.900446\n",
      "STEPWISE    0.900446\n",
      "Name: TNR, dtype: object\n"
     ]
    }
   ],
   "source": [
    "print( perf_mat.iloc[:,1])"
   ]
  },
  {
   "cell_type": "markdown",
   "metadata": {},
   "source": [
    "\n",
    "## **2. 선형회귀분석을통한 변수선택법 실습**\n"
   ]
  },
  {
   "cell_type": "markdown",
   "metadata": {},
   "source": [
    "#### **실습예제2 : 도요타 코롤라 중고차 가격 데이터셋**\n",
    "다른 예제 데이터(중고차데이터:ToyotaCorolla 데이터셋)를 활용해서 변수선택법의 수행과정을 확인해보도록 하겠습니다.\n",
    "\n",
    "- 사양에 따른 도요타 중고차 차량의 가격예측\n",
    "- 사양정보에 따른 도요타 중고차 1,442대의 가격 데이터셋\n",
    "- 사용된 변수들\n",
    "    - 판매가격 (Euros)\n",
    "    - 내용연수 (2004년 8월 현재)\n",
    "    - 연비 (kilometers)\n",
    "    - 연료유형 (diesel, petrol, CNG)\n",
    "    - 마력 (horsepower)\n",
    "    - 금속색상 (1=yes, 0=no)\n",
    "    - 자동변속 (1=yes, 0=no)\n",
    "    - 실린더 부피 (cylinder volume)\n",
    "    - 자동차 문의 개수\n",
    "    - 분기별 도로 사용세(road tax)\n",
    "    - 무게 (kg)\n"
   ]
  },
  {
   "cell_type": "markdown",
   "metadata": {},
   "source": [
    "##### 해당 변수들을 사용하기에 앞서서 **범주형 변수들은 이항변수로 변환**하는 과정이 필요합니다.\n",
    "- Diesel (1=yes, 0=no)\n",
    "- CNG (1=yes, 0=no)\n",
    "- None needed for “Petrol” (reference category)"
   ]
  },
  {
   "cell_type": "markdown",
   "metadata": {},
   "source": [
    "### 데이터 불러오기"
   ]
  },
  {
   "cell_type": "code",
   "execution_count": 95,
   "metadata": {},
   "outputs": [
    {
     "name": "stdout",
     "output_type": "stream",
     "text": [
      "   Id                                           Model  Price  Age_08_04  \\\n",
      "0   1   TOYOTA Corolla 2.0 D4D HATCHB TERRA 2/3-Doors  13500         23   \n",
      "1   2   TOYOTA Corolla 2.0 D4D HATCHB TERRA 2/3-Doors  13750         23   \n",
      "2   3  ?TOYOTA Corolla 2.0 D4D HATCHB TERRA 2/3-Doors  13950         24   \n",
      "3   4   TOYOTA Corolla 2.0 D4D HATCHB TERRA 2/3-Doors  14950         26   \n",
      "4   5     TOYOTA Corolla 2.0 D4D HATCHB SOL 2/3-Doors  13750         30   \n",
      "\n",
      "   Mfg_Month  Mfg_Year     KM Fuel_Type  HP  Met_Color  ...  Central_Lock  \\\n",
      "0         10      2002  46986    Diesel  90          1  ...             1   \n",
      "1         10      2002  72937    Diesel  90          1  ...             1   \n",
      "2          9      2002  41711    Diesel  90          1  ...             0   \n",
      "3          7      2002  48000    Diesel  90          0  ...             0   \n",
      "4          3      2002  38500    Diesel  90          0  ...             1   \n",
      "\n",
      "   Powered_Windows  Power_Steering  Radio  Mistlamps  Sport_Model  \\\n",
      "0                1               1      0          0            0   \n",
      "1                0               1      0          0            0   \n",
      "2                0               1      0          0            0   \n",
      "3                0               1      0          0            0   \n",
      "4                1               1      0          1            0   \n",
      "\n",
      "   Backseat_Divider  Metallic_Rim  Radio_cassette  Tow_Bar  \n",
      "0                 1             0               0        0  \n",
      "1                 1             0               0        0  \n",
      "2                 1             0               0        0  \n",
      "3                 1             0               0        0  \n",
      "4                 1             0               0        0  \n",
      "\n",
      "[5 rows x 37 columns]\n"
     ]
    }
   ],
   "source": [
    "# 데이터 불러오기\n",
    "corolla = pd.read_csv(\"./data/ToyotaCorolla.csv\")\n",
    "print(corolla.head())"
   ]
  },
  {
   "cell_type": "code",
   "execution_count": null,
   "metadata": {},
   "outputs": [],
   "source": []
  },
  {
   "cell_type": "markdown",
   "metadata": {},
   "source": [
    "### 데이터 관측치 갯수(nCar)와 변수의 수(nVar) 확인"
   ]
  },
  {
   "cell_type": "code",
   "execution_count": 96,
   "metadata": {
    "scrolled": true
   },
   "outputs": [
    {
     "name": "stdout",
     "output_type": "stream",
     "text": [
      "nCar: 1436 nVar: 37\n"
     ]
    }
   ],
   "source": [
    "nCar = corolla.shape[0]\n",
    "nVar = corolla.shape[1]\n",
    "print('nCar: %d' % nCar, 'nVar: %d' % nVar )"
   ]
  },
  {
   "cell_type": "markdown",
   "metadata": {},
   "source": [
    "# 데이터 전처리"
   ]
  },
  {
   "cell_type": "markdown",
   "metadata": {},
   "source": [
    "## 범주형 변수를 이진형 변수로 변환"
   ]
  },
  {
   "cell_type": "code",
   "execution_count": 97,
   "metadata": {},
   "outputs": [],
   "source": [
    "# 가변수 생성\n",
    "dummy_p = np.repeat(0,nCar)\n",
    "dummy_d = np.repeat(0,nCar)\n",
    "dummy_c = np.repeat(0,nCar)"
   ]
  },
  {
   "cell_type": "code",
   "execution_count": 98,
   "metadata": {},
   "outputs": [],
   "source": [
    "\n",
    "# 연료타입에 대한 위치 인덱스를 저장  \n",
    "p_idx = np.array(corolla.Fuel_Type == \"Petrol\")\n",
    "d_idx = np.array(corolla.Fuel_Type == \"Diesel\")\n",
    "c_idx = np.array(corolla.Fuel_Type == \"CNG\")"
   ]
  },
  {
   "cell_type": "code",
   "execution_count": 99,
   "metadata": {},
   "outputs": [],
   "source": [
    "# 인덱스 슬라이싱 후 (binary = 1) 대입\n",
    "dummy_p[p_idx] = 1  # Petrol\n",
    "dummy_d[d_idx] = 1  # Diesel\n",
    "dummy_c[c_idx] = 1  # CNG"
   ]
  },
  {
   "cell_type": "markdown",
   "metadata": {},
   "source": [
    "## 불필요한 변수 제거 및 가변수 추가"
   ]
  },
  {
   "cell_type": "code",
   "execution_count": 100,
   "metadata": {},
   "outputs": [],
   "source": [
    "# np or dict to DF\n",
    "Fuel = pd.DataFrame({'Petrol': dummy_p, 'Diesel': dummy_d, 'CNG': dummy_c})\n",
    "\n",
    "# column slice\n",
    "corolla_ = corolla.dropna().drop(['Id','Model','Fuel_Type'], axis=1, inplace=False)\n",
    "mlr_data = pd.concat((corolla_, Fuel), 1)"
   ]
  },
  {
   "cell_type": "code",
   "execution_count": 101,
   "metadata": {},
   "outputs": [
    {
     "data": {
      "text/html": [
       "<div>\n",
       "<style scoped>\n",
       "    .dataframe tbody tr th:only-of-type {\n",
       "        vertical-align: middle;\n",
       "    }\n",
       "\n",
       "    .dataframe tbody tr th {\n",
       "        vertical-align: top;\n",
       "    }\n",
       "\n",
       "    .dataframe thead th {\n",
       "        text-align: right;\n",
       "    }\n",
       "</style>\n",
       "<table border=\"1\" class=\"dataframe\">\n",
       "  <thead>\n",
       "    <tr style=\"text-align: right;\">\n",
       "      <th></th>\n",
       "      <th>const</th>\n",
       "      <th>Price</th>\n",
       "      <th>Age_08_04</th>\n",
       "      <th>Mfg_Month</th>\n",
       "      <th>Mfg_Year</th>\n",
       "      <th>KM</th>\n",
       "      <th>HP</th>\n",
       "      <th>Met_Color</th>\n",
       "      <th>Automatic</th>\n",
       "      <th>cc</th>\n",
       "      <th>...</th>\n",
       "      <th>Radio</th>\n",
       "      <th>Mistlamps</th>\n",
       "      <th>Sport_Model</th>\n",
       "      <th>Backseat_Divider</th>\n",
       "      <th>Metallic_Rim</th>\n",
       "      <th>Radio_cassette</th>\n",
       "      <th>Tow_Bar</th>\n",
       "      <th>Petrol</th>\n",
       "      <th>Diesel</th>\n",
       "      <th>CNG</th>\n",
       "    </tr>\n",
       "  </thead>\n",
       "  <tbody>\n",
       "    <tr>\n",
       "      <th>0</th>\n",
       "      <td>1.0</td>\n",
       "      <td>13500</td>\n",
       "      <td>23</td>\n",
       "      <td>10</td>\n",
       "      <td>2002</td>\n",
       "      <td>46986</td>\n",
       "      <td>90</td>\n",
       "      <td>1</td>\n",
       "      <td>0</td>\n",
       "      <td>2000</td>\n",
       "      <td>...</td>\n",
       "      <td>0</td>\n",
       "      <td>0</td>\n",
       "      <td>0</td>\n",
       "      <td>1</td>\n",
       "      <td>0</td>\n",
       "      <td>0</td>\n",
       "      <td>0</td>\n",
       "      <td>0</td>\n",
       "      <td>1</td>\n",
       "      <td>0</td>\n",
       "    </tr>\n",
       "    <tr>\n",
       "      <th>1</th>\n",
       "      <td>1.0</td>\n",
       "      <td>13750</td>\n",
       "      <td>23</td>\n",
       "      <td>10</td>\n",
       "      <td>2002</td>\n",
       "      <td>72937</td>\n",
       "      <td>90</td>\n",
       "      <td>1</td>\n",
       "      <td>0</td>\n",
       "      <td>2000</td>\n",
       "      <td>...</td>\n",
       "      <td>0</td>\n",
       "      <td>0</td>\n",
       "      <td>0</td>\n",
       "      <td>1</td>\n",
       "      <td>0</td>\n",
       "      <td>0</td>\n",
       "      <td>0</td>\n",
       "      <td>0</td>\n",
       "      <td>1</td>\n",
       "      <td>0</td>\n",
       "    </tr>\n",
       "    <tr>\n",
       "      <th>2</th>\n",
       "      <td>1.0</td>\n",
       "      <td>13950</td>\n",
       "      <td>24</td>\n",
       "      <td>9</td>\n",
       "      <td>2002</td>\n",
       "      <td>41711</td>\n",
       "      <td>90</td>\n",
       "      <td>1</td>\n",
       "      <td>0</td>\n",
       "      <td>2000</td>\n",
       "      <td>...</td>\n",
       "      <td>0</td>\n",
       "      <td>0</td>\n",
       "      <td>0</td>\n",
       "      <td>1</td>\n",
       "      <td>0</td>\n",
       "      <td>0</td>\n",
       "      <td>0</td>\n",
       "      <td>0</td>\n",
       "      <td>1</td>\n",
       "      <td>0</td>\n",
       "    </tr>\n",
       "    <tr>\n",
       "      <th>3</th>\n",
       "      <td>1.0</td>\n",
       "      <td>14950</td>\n",
       "      <td>26</td>\n",
       "      <td>7</td>\n",
       "      <td>2002</td>\n",
       "      <td>48000</td>\n",
       "      <td>90</td>\n",
       "      <td>0</td>\n",
       "      <td>0</td>\n",
       "      <td>2000</td>\n",
       "      <td>...</td>\n",
       "      <td>0</td>\n",
       "      <td>0</td>\n",
       "      <td>0</td>\n",
       "      <td>1</td>\n",
       "      <td>0</td>\n",
       "      <td>0</td>\n",
       "      <td>0</td>\n",
       "      <td>0</td>\n",
       "      <td>1</td>\n",
       "      <td>0</td>\n",
       "    </tr>\n",
       "    <tr>\n",
       "      <th>4</th>\n",
       "      <td>1.0</td>\n",
       "      <td>13750</td>\n",
       "      <td>30</td>\n",
       "      <td>3</td>\n",
       "      <td>2002</td>\n",
       "      <td>38500</td>\n",
       "      <td>90</td>\n",
       "      <td>0</td>\n",
       "      <td>0</td>\n",
       "      <td>2000</td>\n",
       "      <td>...</td>\n",
       "      <td>0</td>\n",
       "      <td>1</td>\n",
       "      <td>0</td>\n",
       "      <td>1</td>\n",
       "      <td>0</td>\n",
       "      <td>0</td>\n",
       "      <td>0</td>\n",
       "      <td>0</td>\n",
       "      <td>1</td>\n",
       "      <td>0</td>\n",
       "    </tr>\n",
       "  </tbody>\n",
       "</table>\n",
       "<p>5 rows × 38 columns</p>\n",
       "</div>"
      ],
      "text/plain": [
       "   const  Price  Age_08_04  Mfg_Month  Mfg_Year     KM  HP  Met_Color  \\\n",
       "0    1.0  13500         23         10      2002  46986  90          1   \n",
       "1    1.0  13750         23         10      2002  72937  90          1   \n",
       "2    1.0  13950         24          9      2002  41711  90          1   \n",
       "3    1.0  14950         26          7      2002  48000  90          0   \n",
       "4    1.0  13750         30          3      2002  38500  90          0   \n",
       "\n",
       "   Automatic    cc  ...  Radio  Mistlamps  Sport_Model  Backseat_Divider  \\\n",
       "0          0  2000  ...      0          0            0                 1   \n",
       "1          0  2000  ...      0          0            0                 1   \n",
       "2          0  2000  ...      0          0            0                 1   \n",
       "3          0  2000  ...      0          0            0                 1   \n",
       "4          0  2000  ...      0          1            0                 1   \n",
       "\n",
       "   Metallic_Rim  Radio_cassette  Tow_Bar  Petrol  Diesel  CNG  \n",
       "0             0               0        0       0       1    0  \n",
       "1             0               0        0       0       1    0  \n",
       "2             0               0        0       0       1    0  \n",
       "3             0               0        0       0       1    0  \n",
       "4             0               0        0       0       1    0  \n",
       "\n",
       "[5 rows x 38 columns]"
      ]
     },
     "execution_count": 101,
     "metadata": {},
     "output_type": "execute_result"
    }
   ],
   "source": [
    "# bias 추가\n",
    "mlr_data = sm.add_constant(mlr_data, has_constant='add')\n",
    "mlr_data.head()"
   ]
  },
  {
   "cell_type": "markdown",
   "metadata": {},
   "source": [
    "## 설명변수(X), 타켓변수(Y) 분리 및 학습데이터와 평가데이터 "
   ]
  },
  {
   "cell_type": "code",
   "execution_count": 102,
   "metadata": {
    "scrolled": true
   },
   "outputs": [
    {
     "name": "stdout",
     "output_type": "stream",
     "text": [
      "(1005, 37) (431, 37) (1005,) (431,)\n"
     ]
    }
   ],
   "source": [
    "feature_columns = list(mlr_data.columns.difference(['Price']))\n",
    "X = mlr_data[feature_columns]\n",
    "y = mlr_data.Price\n",
    "train_x, test_x, train_y, test_y = train_test_split(X, y, train_size=0.7, test_size=0.3, random_state=1)\n",
    "print(train_x.shape, test_x.shape, train_y.shape, test_y.shape)"
   ]
  },
  {
   "cell_type": "markdown",
   "metadata": {},
   "source": [
    "# 선형회귀모형 모델링 y = f(x)"
   ]
  },
  {
   "cell_type": "code",
   "execution_count": 103,
   "metadata": {},
   "outputs": [],
   "source": [
    "# Train the MLR\n",
    "full_model = sm.OLS(train_y, train_x)\n",
    "fitted_full_model = full_model.fit()"
   ]
  },
  {
   "cell_type": "markdown",
   "metadata": {},
   "source": [
    "## 학습에 유의미한 변수확인"
   ]
  },
  {
   "cell_type": "markdown",
   "metadata": {},
   "source": [
    "|Element|Description|\n",
    "|:----|:-----------|\n",
    "|Dep. Variable |\tWhich variable is the response in the model|\n",
    "|Model|\tWhat model you are using in the fit|\n",
    "|Method|\tHow the parameters of the model were calculated|\n",
    "|No. Observations|\tThe number of observations (examples)|\n",
    "|DF Residuals|\tDegrees of freedom of the residuals. Number of observations – number of parameters|\n",
    "|DF Model|\tNumber of parameters in the model (not including the constant term if present)|\n",
    "|R-squared|\tThe coefficient of determination. A statistical measure of how well the regression line approximates the real data points|\n",
    "|Adj. R-squared|\tThe above value adjusted based on the number of observations and the degrees-of-freedom of the residuals|\n",
    "|F-statistic|\tA measure how significant the fit is. The mean squared error of the model divided by the mean squared error of the residuals|\n",
    "|Prob (F-statistic)|\tThe probability that you would get the above statistic, given the null hypothesis that they are unrelated|\n",
    "|Log-likelihood|\tThe log of the likelihood function.|\n",
    "|AIC|\tThe Akaike Information Criterion. Adjusts the log-likelihood based on the number of observations and the complexity of the model.|\n",
    "|BIC|\tThe Bayesian Information Criterion. Similar to the AIC, but has a higher penalty for models with more parameters.|\n",
    "\n",
    "\n",
    "|Element|Description|\n",
    "|:----|:-----------|\n",
    "|coef|\tThe estimated value of the coefficient|\n",
    "|std err|\tThe basic standard error of the estimate of the coefficient. More sophisticated errors are also available.|\n",
    "|t\t|The t-statistic value. This is a measure of how statistically significant the coefficient is.|\n",
    "|P > ㅣtㅣ|\tP-value that the null-hypothesis that the coefficient = 0 is true. If it is less than the confidence level, often 0.05, it indicates that there is a statistically significant relationship between the term and the response.|\n",
    "|[95.0% Conf. Interval]|The lower and upper values of the 95% confidence interval|\n",
    "\n",
    "|Element|Description|\n",
    "|:----|:-----------|\n",
    "|Skewness|\tA measure of the symmetry of the data about the mean. Normally-distributed errors should be symmetrically distributed about the mean (equal amounts above and below the line).|\n",
    "|Kurtosis|\tA measure of the shape of the distribution. Compares the amount of data close to the mean with those far away from the mean (in the tails).|\n",
    "|Omnibus|\tD’Angostino’s test. It provides a combined statistical test for the presence of skewness and kurtosis.|\n",
    "|Prob(Omnibus)|\tThe above statistic turned into a probability|\n",
    "|Jarque-Bera|\tA different test of the skewness and kurtosis|\n",
    "|Prob (JB)|\tThe above statistic turned into a probability|\n",
    "|Durbin-Watson|\tA test for the presence of autocorrelation (that the errors are not independent.) Often important in time-series analysis|\n",
    "|Cond. No|\tA test for multicollinearity (if in a fit with multiple parameters, the parameters are related with each other).|"
   ]
  },
  {
   "cell_type": "code",
   "execution_count": 104,
   "metadata": {},
   "outputs": [
    {
     "data": {
      "text/html": [
       "<table class=\"simpletable\">\n",
       "<caption>OLS Regression Results</caption>\n",
       "<tr>\n",
       "  <th>Dep. Variable:</th>          <td>Price</td>      <th>  R-squared:         </th> <td>   0.910</td> \n",
       "</tr>\n",
       "<tr>\n",
       "  <th>Model:</th>                   <td>OLS</td>       <th>  Adj. R-squared:    </th> <td>   0.907</td> \n",
       "</tr>\n",
       "<tr>\n",
       "  <th>Method:</th>             <td>Least Squares</td>  <th>  F-statistic:       </th> <td>   297.2</td> \n",
       "</tr>\n",
       "<tr>\n",
       "  <th>Date:</th>             <td>Sun, 13 Jun 2021</td> <th>  Prob (F-statistic):</th>  <td>  0.00</td>  \n",
       "</tr>\n",
       "<tr>\n",
       "  <th>Time:</th>                 <td>20:04:21</td>     <th>  Log-Likelihood:    </th> <td> -8461.0</td> \n",
       "</tr>\n",
       "<tr>\n",
       "  <th>No. Observations:</th>      <td>  1005</td>      <th>  AIC:               </th> <td>1.699e+04</td>\n",
       "</tr>\n",
       "<tr>\n",
       "  <th>Df Residuals:</th>          <td>   971</td>      <th>  BIC:               </th> <td>1.716e+04</td>\n",
       "</tr>\n",
       "<tr>\n",
       "  <th>Df Model:</th>              <td>    33</td>      <th>                     </th>     <td> </td>    \n",
       "</tr>\n",
       "<tr>\n",
       "  <th>Covariance Type:</th>      <td>nonrobust</td>    <th>                     </th>     <td> </td>    \n",
       "</tr>\n",
       "</table>\n",
       "<table class=\"simpletable\">\n",
       "<tr>\n",
       "          <td></td>            <th>coef</th>     <th>std err</th>      <th>t</th>      <th>P>|t|</th>  <th>[0.025</th>    <th>0.975]</th>  \n",
       "</tr>\n",
       "<tr>\n",
       "  <th>ABS</th>              <td> -202.4540</td> <td>  137.381</td> <td>   -1.474</td> <td> 0.141</td> <td> -472.052</td> <td>   67.144</td>\n",
       "</tr>\n",
       "<tr>\n",
       "  <th>Age_08_04</th>        <td> -119.6512</td> <td>    4.153</td> <td>  -28.808</td> <td> 0.000</td> <td> -127.802</td> <td> -111.501</td>\n",
       "</tr>\n",
       "<tr>\n",
       "  <th>Airbag_1</th>         <td>  126.9969</td> <td>  295.899</td> <td>    0.429</td> <td> 0.668</td> <td> -453.679</td> <td>  707.673</td>\n",
       "</tr>\n",
       "<tr>\n",
       "  <th>Airbag_2</th>         <td> -118.6408</td> <td>  141.548</td> <td>   -0.838</td> <td> 0.402</td> <td> -396.415</td> <td>  159.133</td>\n",
       "</tr>\n",
       "<tr>\n",
       "  <th>Airco</th>            <td>  225.2949</td> <td>   95.485</td> <td>    2.359</td> <td> 0.018</td> <td>   37.915</td> <td>  412.675</td>\n",
       "</tr>\n",
       "<tr>\n",
       "  <th>Automatic</th>        <td>  530.3615</td> <td>  156.958</td> <td>    3.379</td> <td> 0.001</td> <td>  222.347</td> <td>  838.376</td>\n",
       "</tr>\n",
       "<tr>\n",
       "  <th>Automatic_airco</th>  <td> 2340.4302</td> <td>  198.211</td> <td>   11.808</td> <td> 0.000</td> <td> 1951.459</td> <td> 2729.402</td>\n",
       "</tr>\n",
       "<tr>\n",
       "  <th>BOVAG_Guarantee</th>  <td>  439.3210</td> <td>  137.858</td> <td>    3.187</td> <td> 0.001</td> <td>  168.787</td> <td>  709.855</td>\n",
       "</tr>\n",
       "<tr>\n",
       "  <th>Backseat_Divider</th> <td>  -56.5628</td> <td>  139.908</td> <td>   -0.404</td> <td> 0.686</td> <td> -331.120</td> <td>  217.994</td>\n",
       "</tr>\n",
       "<tr>\n",
       "  <th>Boardcomputer</th>    <td> -395.3939</td> <td>  123.287</td> <td>   -3.207</td> <td> 0.001</td> <td> -637.333</td> <td> -153.454</td>\n",
       "</tr>\n",
       "<tr>\n",
       "  <th>CD_Player</th>        <td>  188.3535</td> <td>  106.878</td> <td>    1.762</td> <td> 0.078</td> <td>  -21.385</td> <td>  398.092</td>\n",
       "</tr>\n",
       "<tr>\n",
       "  <th>CNG</th>              <td>-1953.8109</td> <td>  279.928</td> <td>   -6.980</td> <td> 0.000</td> <td>-2503.145</td> <td>-1404.477</td>\n",
       "</tr>\n",
       "<tr>\n",
       "  <th>Central_Lock</th>     <td>   31.0129</td> <td>  160.947</td> <td>    0.193</td> <td> 0.847</td> <td> -284.832</td> <td>  346.857</td>\n",
       "</tr>\n",
       "<tr>\n",
       "  <th>Cylinders</th>        <td>   -0.0273</td> <td>    0.002</td> <td>  -11.292</td> <td> 0.000</td> <td>   -0.032</td> <td>   -0.023</td>\n",
       "</tr>\n",
       "<tr>\n",
       "  <th>Diesel</th>           <td> 1696.6253</td> <td>  319.678</td> <td>    5.307</td> <td> 0.000</td> <td> 1069.286</td> <td> 2323.965</td>\n",
       "</tr>\n",
       "<tr>\n",
       "  <th>Doors</th>            <td>  100.2012</td> <td>   43.590</td> <td>    2.299</td> <td> 0.022</td> <td>   14.660</td> <td>  185.743</td>\n",
       "</tr>\n",
       "<tr>\n",
       "  <th>Gears</th>            <td>  -43.4054</td> <td>  203.815</td> <td>   -0.213</td> <td> 0.831</td> <td> -443.374</td> <td>  356.563</td>\n",
       "</tr>\n",
       "<tr>\n",
       "  <th>Guarantee_Period</th> <td>   75.9339</td> <td>   14.803</td> <td>    5.130</td> <td> 0.000</td> <td>   46.884</td> <td>  104.984</td>\n",
       "</tr>\n",
       "<tr>\n",
       "  <th>HP</th>               <td>   53.5088</td> <td>    5.942</td> <td>    9.005</td> <td> 0.000</td> <td>   41.848</td> <td>   65.170</td>\n",
       "</tr>\n",
       "<tr>\n",
       "  <th>KM</th>               <td>   -0.0162</td> <td>    0.001</td> <td>  -11.832</td> <td> 0.000</td> <td>   -0.019</td> <td>   -0.014</td>\n",
       "</tr>\n",
       "<tr>\n",
       "  <th>Met_Color</th>        <td>   21.1158</td> <td>   80.463</td> <td>    0.262</td> <td> 0.793</td> <td> -136.785</td> <td>  179.016</td>\n",
       "</tr>\n",
       "<tr>\n",
       "  <th>Metallic_Rim</th>     <td>  256.9483</td> <td>  102.169</td> <td>    2.515</td> <td> 0.012</td> <td>   56.451</td> <td>  457.446</td>\n",
       "</tr>\n",
       "<tr>\n",
       "  <th>Mfg_Month</th>        <td>  -90.6048</td> <td>   10.989</td> <td>   -8.245</td> <td> 0.000</td> <td> -112.169</td> <td>  -69.041</td>\n",
       "</tr>\n",
       "<tr>\n",
       "  <th>Mfg_Year</th>         <td>    3.8468</td> <td>    0.892</td> <td>    4.314</td> <td> 0.000</td> <td>    2.097</td> <td>    5.597</td>\n",
       "</tr>\n",
       "<tr>\n",
       "  <th>Mfr_Guarantee</th>    <td>  191.5132</td> <td>   78.667</td> <td>    2.434</td> <td> 0.015</td> <td>   37.136</td> <td>  345.891</td>\n",
       "</tr>\n",
       "<tr>\n",
       "  <th>Mistlamps</th>        <td>    8.5371</td> <td>  114.245</td> <td>    0.075</td> <td> 0.940</td> <td> -215.658</td> <td>  232.733</td>\n",
       "</tr>\n",
       "<tr>\n",
       "  <th>Petrol</th>           <td>  257.1788</td> <td>  242.729</td> <td>    1.060</td> <td> 0.290</td> <td> -219.155</td> <td>  733.513</td>\n",
       "</tr>\n",
       "<tr>\n",
       "  <th>Power_Steering</th>   <td> -330.0358</td> <td>  335.284</td> <td>   -0.984</td> <td> 0.325</td> <td> -988.000</td> <td>  327.929</td>\n",
       "</tr>\n",
       "<tr>\n",
       "  <th>Powered_Windows</th>  <td>  346.9541</td> <td>  160.822</td> <td>    2.157</td> <td> 0.031</td> <td>   31.355</td> <td>  662.553</td>\n",
       "</tr>\n",
       "<tr>\n",
       "  <th>Quarterly_Tax</th>    <td>   14.8799</td> <td>    1.929</td> <td>    7.713</td> <td> 0.000</td> <td>   11.094</td> <td>   18.666</td>\n",
       "</tr>\n",
       "<tr>\n",
       "  <th>Radio</th>            <td> -465.0620</td> <td>  816.893</td> <td>   -0.569</td> <td> 0.569</td> <td>-2068.142</td> <td> 1138.018</td>\n",
       "</tr>\n",
       "<tr>\n",
       "  <th>Radio_cassette</th>   <td>  442.7284</td> <td>  819.165</td> <td>    0.540</td> <td> 0.589</td> <td>-1164.809</td> <td> 2050.266</td>\n",
       "</tr>\n",
       "<tr>\n",
       "  <th>Sport_Model</th>      <td>  370.3652</td> <td>   92.700</td> <td>    3.995</td> <td> 0.000</td> <td>  188.450</td> <td>  552.280</td>\n",
       "</tr>\n",
       "<tr>\n",
       "  <th>Tow_Bar</th>          <td> -117.5161</td> <td>   85.656</td> <td>   -1.372</td> <td> 0.170</td> <td> -285.609</td> <td>   50.577</td>\n",
       "</tr>\n",
       "<tr>\n",
       "  <th>Weight</th>           <td>    8.3351</td> <td>    1.255</td> <td>    6.640</td> <td> 0.000</td> <td>    5.872</td> <td>   10.799</td>\n",
       "</tr>\n",
       "<tr>\n",
       "  <th>cc</th>               <td>   -3.6644</td> <td>    0.570</td> <td>   -6.429</td> <td> 0.000</td> <td>   -4.783</td> <td>   -2.546</td>\n",
       "</tr>\n",
       "<tr>\n",
       "  <th>const</th>            <td>   -0.0068</td> <td>    0.001</td> <td>  -11.292</td> <td> 0.000</td> <td>   -0.008</td> <td>   -0.006</td>\n",
       "</tr>\n",
       "</table>\n",
       "<table class=\"simpletable\">\n",
       "<tr>\n",
       "  <th>Omnibus:</th>       <td>100.526</td> <th>  Durbin-Watson:     </th> <td>   2.010</td> \n",
       "</tr>\n",
       "<tr>\n",
       "  <th>Prob(Omnibus):</th> <td> 0.000</td>  <th>  Jarque-Bera (JB):  </th> <td> 671.465</td> \n",
       "</tr>\n",
       "<tr>\n",
       "  <th>Skew:</th>          <td> 0.111</td>  <th>  Prob(JB):          </th> <td>1.56e-146</td>\n",
       "</tr>\n",
       "<tr>\n",
       "  <th>Kurtosis:</th>      <td> 6.998</td>  <th>  Cond. No.          </th> <td>1.32e+16</td> \n",
       "</tr>\n",
       "</table><br/><br/>Notes:<br/>[1] Standard Errors assume that the covariance matrix of the errors is correctly specified.<br/>[2] The smallest eigenvalue is 3.42e-20. This might indicate that there are<br/>strong multicollinearity problems or that the design matrix is singular."
      ],
      "text/plain": [
       "<class 'statsmodels.iolib.summary.Summary'>\n",
       "\"\"\"\n",
       "                            OLS Regression Results                            \n",
       "==============================================================================\n",
       "Dep. Variable:                  Price   R-squared:                       0.910\n",
       "Model:                            OLS   Adj. R-squared:                  0.907\n",
       "Method:                 Least Squares   F-statistic:                     297.2\n",
       "Date:                Sun, 13 Jun 2021   Prob (F-statistic):               0.00\n",
       "Time:                        20:04:21   Log-Likelihood:                -8461.0\n",
       "No. Observations:                1005   AIC:                         1.699e+04\n",
       "Df Residuals:                     971   BIC:                         1.716e+04\n",
       "Df Model:                          33                                         \n",
       "Covariance Type:            nonrobust                                         \n",
       "====================================================================================\n",
       "                       coef    std err          t      P>|t|      [0.025      0.975]\n",
       "------------------------------------------------------------------------------------\n",
       "ABS               -202.4540    137.381     -1.474      0.141    -472.052      67.144\n",
       "Age_08_04         -119.6512      4.153    -28.808      0.000    -127.802    -111.501\n",
       "Airbag_1           126.9969    295.899      0.429      0.668    -453.679     707.673\n",
       "Airbag_2          -118.6408    141.548     -0.838      0.402    -396.415     159.133\n",
       "Airco              225.2949     95.485      2.359      0.018      37.915     412.675\n",
       "Automatic          530.3615    156.958      3.379      0.001     222.347     838.376\n",
       "Automatic_airco   2340.4302    198.211     11.808      0.000    1951.459    2729.402\n",
       "BOVAG_Guarantee    439.3210    137.858      3.187      0.001     168.787     709.855\n",
       "Backseat_Divider   -56.5628    139.908     -0.404      0.686    -331.120     217.994\n",
       "Boardcomputer     -395.3939    123.287     -3.207      0.001    -637.333    -153.454\n",
       "CD_Player          188.3535    106.878      1.762      0.078     -21.385     398.092\n",
       "CNG              -1953.8109    279.928     -6.980      0.000   -2503.145   -1404.477\n",
       "Central_Lock        31.0129    160.947      0.193      0.847    -284.832     346.857\n",
       "Cylinders           -0.0273      0.002    -11.292      0.000      -0.032      -0.023\n",
       "Diesel            1696.6253    319.678      5.307      0.000    1069.286    2323.965\n",
       "Doors              100.2012     43.590      2.299      0.022      14.660     185.743\n",
       "Gears              -43.4054    203.815     -0.213      0.831    -443.374     356.563\n",
       "Guarantee_Period    75.9339     14.803      5.130      0.000      46.884     104.984\n",
       "HP                  53.5088      5.942      9.005      0.000      41.848      65.170\n",
       "KM                  -0.0162      0.001    -11.832      0.000      -0.019      -0.014\n",
       "Met_Color           21.1158     80.463      0.262      0.793    -136.785     179.016\n",
       "Metallic_Rim       256.9483    102.169      2.515      0.012      56.451     457.446\n",
       "Mfg_Month          -90.6048     10.989     -8.245      0.000    -112.169     -69.041\n",
       "Mfg_Year             3.8468      0.892      4.314      0.000       2.097       5.597\n",
       "Mfr_Guarantee      191.5132     78.667      2.434      0.015      37.136     345.891\n",
       "Mistlamps            8.5371    114.245      0.075      0.940    -215.658     232.733\n",
       "Petrol             257.1788    242.729      1.060      0.290    -219.155     733.513\n",
       "Power_Steering    -330.0358    335.284     -0.984      0.325    -988.000     327.929\n",
       "Powered_Windows    346.9541    160.822      2.157      0.031      31.355     662.553\n",
       "Quarterly_Tax       14.8799      1.929      7.713      0.000      11.094      18.666\n",
       "Radio             -465.0620    816.893     -0.569      0.569   -2068.142    1138.018\n",
       "Radio_cassette     442.7284    819.165      0.540      0.589   -1164.809    2050.266\n",
       "Sport_Model        370.3652     92.700      3.995      0.000     188.450     552.280\n",
       "Tow_Bar           -117.5161     85.656     -1.372      0.170    -285.609      50.577\n",
       "Weight               8.3351      1.255      6.640      0.000       5.872      10.799\n",
       "cc                  -3.6644      0.570     -6.429      0.000      -4.783      -2.546\n",
       "const               -0.0068      0.001    -11.292      0.000      -0.008      -0.006\n",
       "==============================================================================\n",
       "Omnibus:                      100.526   Durbin-Watson:                   2.010\n",
       "Prob(Omnibus):                  0.000   Jarque-Bera (JB):              671.465\n",
       "Skew:                           0.111   Prob(JB):                    1.56e-146\n",
       "Kurtosis:                       6.998   Cond. No.                     1.32e+16\n",
       "==============================================================================\n",
       "\n",
       "Notes:\n",
       "[1] Standard Errors assume that the covariance matrix of the errors is correctly specified.\n",
       "[2] The smallest eigenvalue is 3.42e-20. This might indicate that there are\n",
       "strong multicollinearity problems or that the design matrix is singular.\n",
       "\"\"\""
      ]
     },
     "execution_count": 104,
     "metadata": {},
     "output_type": "execute_result"
    }
   ],
   "source": [
    "fitted_full_model.summary() "
   ]
  },
  {
   "cell_type": "markdown",
   "metadata": {},
   "source": [
    "## 그래프로 모델링 적합성 확인"
   ]
  },
  {
   "cell_type": "markdown",
   "metadata": {},
   "source": [
    "### 정규분포 확인"
   ]
  },
  {
   "cell_type": "code",
   "execution_count": 105,
   "metadata": {},
   "outputs": [
    {
     "data": {
      "image/png": "[encoded data removed]",
      "text/plain": [
       "<Figure size 432x288 with 1 Axes>"
      ]
     },
     "metadata": {
      "needs_background": "light"
     },
     "output_type": "display_data"
    }
   ],
   "source": [
    "# 학습데이터의 잔차 확인\n",
    "pred_y = fitted_full_model.predict(train_x)\n",
    "res = fitted_full_model.resid  # residual\n",
    "\n",
    "# q-q plot # 정규분포 확인\n",
    "fig = sm.qqplot(res, fit=True, line='45')"
   ]
  },
  {
   "cell_type": "code",
   "execution_count": 106,
   "metadata": {
    "scrolled": true
   },
   "outputs": [
    {
     "data": {
      "image/png": "[encoded data removed]",
      "text/plain": [
       "<Figure size 432x288 with 1 Axes>"
      ]
     },
     "metadata": {
      "needs_background": "light"
     },
     "output_type": "display_data"
    }
   ],
   "source": [
    "# 학습데이터의 잔차 확인\n",
    "pred_y = fitted_full_model.predict(train_x)\n",
    "res = fitted_full_model.resid  # residual\n",
    "\n",
    "# q-q plot # 정규분포 확인\n",
    "import scipy.stats as stats\n",
    "fig = sm.qqplot(res, stats.t, fit=True, line='45')"
   ]
  },
  {
   "cell_type": "markdown",
   "metadata": {},
   "source": [
    "### 이상관측치탐색"
   ]
  },
  {
   "cell_type": "markdown",
   "metadata": {},
   "source": [
    "* Residuals: Y에서 벗어나는 정도\n",
    "* Leverage: X에서 벗어나는 정도 "
   ]
  },
  {
   "cell_type": "code",
   "execution_count": 107,
   "metadata": {},
   "outputs": [
    {
     "data": {
      "image/png": "[encoded data removed]",
      "text/plain": [
       "<Figure size 864x576 with 1 Axes>"
      ]
     },
     "metadata": {
      "needs_background": "light"
     },
     "output_type": "display_data"
    }
   ],
   "source": [
    "# Cook's distance with high leverage\n",
    "fig, ax = plt.subplots(figsize=(12,8))\n",
    "fig = sm.graphics.influence_plot(fitted_full_model, ax=ax, criterion=\"cooks\", s=2)"
   ]
  },
  {
   "cell_type": "markdown",
   "metadata": {},
   "source": [
    "### 잔차패턴확인"
   ]
  },
  {
   "cell_type": "code",
   "execution_count": 108,
   "metadata": {
    "scrolled": true
   },
   "outputs": [
    {
     "data": {
      "text/plain": [
       "Text(0, 0.5, 'Residual')"
      ]
     },
     "execution_count": 108,
     "metadata": {},
     "output_type": "execute_result"
    },
    {
     "data": {
      "image/png": "[encoded data removed]",
      "text/plain": [
       "<Figure size 432x288 with 1 Axes>"
      ]
     },
     "metadata": {
      "needs_background": "light"
     },
     "output_type": "display_data"
    }
   ],
   "source": [
    "# residual pattern 확인\n",
    "fig = plt.scatter(pred_y,res, s=4)\n",
    "plt.xlim(4000,30000)\n",
    "plt.xlim(4000,30000)\n",
    "plt.xlabel('Fitted values')\n",
    "plt.ylabel('Residual')"
   ]
  },
  {
   "cell_type": "markdown",
   "metadata": {},
   "source": [
    "\n"
   ]
  },
  {
   "cell_type": "markdown",
   "metadata": {},
   "source": [
    "### **변수선택함수 정의**"
   ]
  },
  {
   "cell_type": "markdown",
   "metadata": {},
   "source": [
    "### processSubset: 해당 feature_set에 대한 모델생성 및 AIC 계산"
   ]
  },
  {
   "cell_type": "code",
   "execution_count": 109,
   "metadata": {},
   "outputs": [
    {
     "name": "stdout",
     "output_type": "stream",
     "text": [
      "{'model': <statsmodels.regression.linear_model.RegressionResultsWrapper object at 0x000001A0CE6666C8>, 'AIC': 19087.157001523432}\n"
     ]
    }
   ],
   "source": [
    "def processSubset(X,y, feature_set):\n",
    "            model = sm.OLS(y,X[list(feature_set)]) # Modeling\n",
    "            regr = model.fit() # 모델 학습\n",
    "            AIC = regr.aic # 모델의 AIC\n",
    "            return {\"model\":regr, \"AIC\":AIC}\n",
    "        \n",
    "print(processSubset(X=train_x, y=train_y, feature_set = feature_columns[0:5]))"
   ]
  },
  {
   "cell_type": "markdown",
   "metadata": {},
   "source": [
    "### getBest: 가장 높은 AIC를 가지는 모델 선택 및 저장"
   ]
  },
  {
   "cell_type": "code",
   "execution_count": 45,
   "metadata": {},
   "outputs": [
    {
     "name": "stdout",
     "output_type": "stream",
     "text": [
      "Processed  630 models on 2 predictors in 1.111029863357544 seconds.\n",
      "model    <statsmodels.regression.linear_model.Regressio...\n",
      "AIC                                                17749.5\n",
      "Name: 67, dtype: object\n"
     ]
    }
   ],
   "source": [
    "def getBest(X,y,k):\n",
    "    tic = time.time() # 시작시간\n",
    "    results = [] # 결과 저장공간\n",
    "    for combo in itertools.combinations(X.columns.difference(['const']), k): # 각 변수조합을 고려한 경우의 수\n",
    "        results.append(processSubset(X,y,feature_set=combo))  # 모델링된 것들을 저장\n",
    "    models = pd.DataFrame(results) # 데이터 프레임으로 변환\n",
    "    # 가장 낮은 AIC를 가지는 모델 선택 및 저장\n",
    "    best_model = models.loc[models['AIC'].argmin()] # index\n",
    "    toc = time.time() # 종료시간\n",
    "    print(\"Processed \", models.shape[0], \"models on\", k, \"predictors in\", (toc - tic),\n",
    "          \"seconds.\")\n",
    "    return best_model\n",
    "\n",
    "print(getBest(X=train_x, y=train_y,k=2))"
   ]
  },
  {
   "cell_type": "markdown",
   "metadata": {},
   "source": [
    "### 변수조합에 따른 모델링 시간"
   ]
  },
  {
   "cell_type": "code",
   "execution_count": 46,
   "metadata": {},
   "outputs": [
    {
     "name": "stdout",
     "output_type": "stream",
     "text": [
      "Processed  36 models on 1 predictors in 0.06382942199707031 seconds.\n",
      "Processed  630 models on 2 predictors in 1.065185308456421 seconds.\n",
      "Processed  7140 models on 3 predictors in 10.048228025436401 seconds.\n",
      "Total elapsed time: 11.32484745979309 seconds.\n"
     ]
    }
   ],
   "source": [
    "# 변수 선택에 따른 학습시간과 저장\n",
    "models = pd.DataFrame(columns=[\"AIC\", \"model\"])\n",
    "tic = time.time()\n",
    "for i in range(1,4):\n",
    "    models.loc[i] = getBest(X=train_x,y=train_y,k=i)\n",
    "toc = time.time()\n",
    "print(\"Total elapsed time:\", (toc-tic), \"seconds.\")"
   ]
  },
  {
   "cell_type": "code",
   "execution_count": 47,
   "metadata": {},
   "outputs": [
    {
     "data": {
      "text/html": [
       "<div>\n",
       "<style scoped>\n",
       "    .dataframe tbody tr th:only-of-type {\n",
       "        vertical-align: middle;\n",
       "    }\n",
       "\n",
       "    .dataframe tbody tr th {\n",
       "        vertical-align: top;\n",
       "    }\n",
       "\n",
       "    .dataframe thead th {\n",
       "        text-align: right;\n",
       "    }\n",
       "</style>\n",
       "<table border=\"1\" class=\"dataframe\">\n",
       "  <thead>\n",
       "    <tr style=\"text-align: right;\">\n",
       "      <th></th>\n",
       "      <th>AIC</th>\n",
       "      <th>model</th>\n",
       "    </tr>\n",
       "  </thead>\n",
       "  <tbody>\n",
       "    <tr>\n",
       "      <th>1</th>\n",
       "      <td>19181.920243</td>\n",
       "      <td>&lt;statsmodels.regression.linear_model.Regressio...</td>\n",
       "    </tr>\n",
       "    <tr>\n",
       "      <th>2</th>\n",
       "      <td>17749.459401</td>\n",
       "      <td>&lt;statsmodels.regression.linear_model.Regressio...</td>\n",
       "    </tr>\n",
       "    <tr>\n",
       "      <th>3</th>\n",
       "      <td>17513.372800</td>\n",
       "      <td>&lt;statsmodels.regression.linear_model.Regressio...</td>\n",
       "    </tr>\n",
       "  </tbody>\n",
       "</table>\n",
       "</div>"
      ],
      "text/plain": [
       "            AIC                                              model\n",
       "1  19181.920243  <statsmodels.regression.linear_model.Regressio...\n",
       "2  17749.459401  <statsmodels.regression.linear_model.Regressio...\n",
       "3  17513.372800  <statsmodels.regression.linear_model.Regressio..."
      ]
     },
     "execution_count": 47,
     "metadata": {},
     "output_type": "execute_result"
    }
   ],
   "source": [
    "models"
   ]
  },
  {
   "cell_type": "markdown",
   "metadata": {},
   "source": [
    "## 모델평가 지표"
   ]
  },
  {
   "cell_type": "code",
   "execution_count": 48,
   "metadata": {},
   "outputs": [
    {
     "data": {
      "text/html": [
       "<table class=\"simpletable\">\n",
       "<caption>OLS Regression Results</caption>\n",
       "<tr>\n",
       "  <th>Dep. Variable:</th>          <td>Price</td>      <th>  R-squared (uncentered):</th>      <td>   0.983</td> \n",
       "</tr>\n",
       "<tr>\n",
       "  <th>Model:</th>                   <td>OLS</td>       <th>  Adj. R-squared (uncentered):</th> <td>   0.983</td> \n",
       "</tr>\n",
       "<tr>\n",
       "  <th>Method:</th>             <td>Least Squares</td>  <th>  F-statistic:       </th>          <td>1.968e+04</td>\n",
       "</tr>\n",
       "<tr>\n",
       "  <th>Date:</th>             <td>Sun, 13 Jun 2021</td> <th>  Prob (F-statistic):</th>           <td>  0.00</td>  \n",
       "</tr>\n",
       "<tr>\n",
       "  <th>Time:</th>                 <td>20:02:17</td>     <th>  Log-Likelihood:    </th>          <td> -8753.7</td> \n",
       "</tr>\n",
       "<tr>\n",
       "  <th>No. Observations:</th>      <td>  1005</td>      <th>  AIC:               </th>          <td>1.751e+04</td>\n",
       "</tr>\n",
       "<tr>\n",
       "  <th>Df Residuals:</th>          <td>  1002</td>      <th>  BIC:               </th>          <td>1.753e+04</td>\n",
       "</tr>\n",
       "<tr>\n",
       "  <th>Df Model:</th>              <td>     3</td>      <th>                     </th>              <td> </td>    \n",
       "</tr>\n",
       "<tr>\n",
       "  <th>Covariance Type:</th>      <td>nonrobust</td>    <th>                     </th>              <td> </td>    \n",
       "</tr>\n",
       "</table>\n",
       "<table class=\"simpletable\">\n",
       "<tr>\n",
       "      <td></td>         <th>coef</th>     <th>std err</th>      <th>t</th>      <th>P>|t|</th>  <th>[0.025</th>    <th>0.975]</th>  \n",
       "</tr>\n",
       "<tr>\n",
       "  <th>Age_08_04</th> <td> -122.0081</td> <td>    2.720</td> <td>  -44.849</td> <td> 0.000</td> <td> -127.347</td> <td> -116.670</td>\n",
       "</tr>\n",
       "<tr>\n",
       "  <th>KM</th>        <td>   -0.0240</td> <td>    0.001</td> <td>  -16.366</td> <td> 0.000</td> <td>   -0.027</td> <td>   -0.021</td>\n",
       "</tr>\n",
       "<tr>\n",
       "  <th>Weight</th>    <td>   17.8840</td> <td>    0.127</td> <td>  140.733</td> <td> 0.000</td> <td>   17.635</td> <td>   18.133</td>\n",
       "</tr>\n",
       "</table>\n",
       "<table class=\"simpletable\">\n",
       "<tr>\n",
       "  <th>Omnibus:</th>       <td>147.992</td> <th>  Durbin-Watson:     </th> <td>   1.992</td>\n",
       "</tr>\n",
       "<tr>\n",
       "  <th>Prob(Omnibus):</th> <td> 0.000</td>  <th>  Jarque-Bera (JB):  </th> <td>1509.008</td>\n",
       "</tr>\n",
       "<tr>\n",
       "  <th>Skew:</th>          <td>-0.285</td>  <th>  Prob(JB):          </th> <td>    0.00</td>\n",
       "</tr>\n",
       "<tr>\n",
       "  <th>Kurtosis:</th>      <td> 8.976</td>  <th>  Cond. No.          </th> <td>4.52e+03</td>\n",
       "</tr>\n",
       "</table><br/><br/>Notes:<br/>[1] R² is computed without centering (uncentered) since the model does not contain a constant.<br/>[2] Standard Errors assume that the covariance matrix of the errors is correctly specified.<br/>[3] The condition number is large, 4.52e+03. This might indicate that there are<br/>strong multicollinearity or other numerical problems."
      ],
      "text/plain": [
       "<class 'statsmodels.iolib.summary.Summary'>\n",
       "\"\"\"\n",
       "                                 OLS Regression Results                                \n",
       "=======================================================================================\n",
       "Dep. Variable:                  Price   R-squared (uncentered):                   0.983\n",
       "Model:                            OLS   Adj. R-squared (uncentered):              0.983\n",
       "Method:                 Least Squares   F-statistic:                          1.968e+04\n",
       "Date:                Sun, 13 Jun 2021   Prob (F-statistic):                        0.00\n",
       "Time:                        20:02:17   Log-Likelihood:                         -8753.7\n",
       "No. Observations:                1005   AIC:                                  1.751e+04\n",
       "Df Residuals:                    1002   BIC:                                  1.753e+04\n",
       "Df Model:                           3                                                  \n",
       "Covariance Type:            nonrobust                                                  \n",
       "==============================================================================\n",
       "                 coef    std err          t      P>|t|      [0.025      0.975]\n",
       "------------------------------------------------------------------------------\n",
       "Age_08_04   -122.0081      2.720    -44.849      0.000    -127.347    -116.670\n",
       "KM            -0.0240      0.001    -16.366      0.000      -0.027      -0.021\n",
       "Weight        17.8840      0.127    140.733      0.000      17.635      18.133\n",
       "==============================================================================\n",
       "Omnibus:                      147.992   Durbin-Watson:                   1.992\n",
       "Prob(Omnibus):                  0.000   Jarque-Bera (JB):             1509.008\n",
       "Skew:                          -0.285   Prob(JB):                         0.00\n",
       "Kurtosis:                       8.976   Cond. No.                     4.52e+03\n",
       "==============================================================================\n",
       "\n",
       "Notes:\n",
       "[1] R² is computed without centering (uncentered) since the model does not contain a constant.\n",
       "[2] Standard Errors assume that the covariance matrix of the errors is correctly specified.\n",
       "[3] The condition number is large, 4.52e+03. This might indicate that there are\n",
       "strong multicollinearity or other numerical problems.\n",
       "\"\"\""
      ]
     },
     "execution_count": 48,
     "metadata": {},
     "output_type": "execute_result"
    }
   ],
   "source": [
    "models.loc[3, \"model\"].summary()"
   ]
  },
  {
   "cell_type": "code",
   "execution_count": 49,
   "metadata": {
    "scrolled": true
   },
   "outputs": [
    {
     "name": "stdout",
     "output_type": "stream",
     "text": [
      "selected model Rsquared:  0.98331\n",
      "selected model AIC:  17513.37280\n",
      "selected model MSE:  129014650.45174\n"
     ]
    }
   ],
   "source": [
    "# 모든 변수들 모델링 한것보다 나은 결과를 가져옴\n",
    "print(\"selected model Rsquared: \",\"{:.5f}\".format(models.loc[3, \"model\"].rsquared))\n",
    "print(\"selected model AIC: \",\"{:.5f}\".format(models.loc[3, \"model\"].aic))\n",
    "print(\"selected model MSE: \",\"{:.5f}\".format(models.loc[3, \"model\"].mse_total))"
   ]
  },
  {
   "cell_type": "code",
   "execution_count": 50,
   "metadata": {},
   "outputs": [
    {
     "data": {
      "text/plain": [
       "Text(0, 0.5, 'BIC')"
      ]
     },
     "execution_count": 50,
     "metadata": {},
     "output_type": "execute_result"
    },
    {
     "data": {
      "image/png": "[encoded data removed]",
      "text/plain": [
       "<Figure size 1440x720 with 4 Axes>"
      ]
     },
     "metadata": {
      "needs_background": "light"
     },
     "output_type": "display_data"
    }
   ],
   "source": [
    "# Plot the result\n",
    "plt.figure(figsize=(20,10))\n",
    "plt.rcParams.update({'font.size': 18, 'lines.markersize': 10})\n",
    "\n",
    "## Mallow Cp\n",
    "plt.subplot(2, 2, 1)\n",
    "Cp= models.apply(lambda row: (row[1].params.shape[0]+(row[1].mse_total-\n",
    "                               fitted_full_model.mse_total)*(train_x.shape[0]-\n",
    "                                row[1].params.shape[0])/fitted_full_model.mse_total\n",
    "                               ), axis=1)\n",
    "plt.plot(Cp)\n",
    "plt.plot(Cp.argmin(), Cp.min(), \"or\")\n",
    "plt.xlabel('# Predictors')\n",
    "plt.ylabel('Cp')\n",
    "\n",
    "# adj-rsquared plot\n",
    "# adj-rsquared = Explained variation / Total variation\n",
    "adj_rsquared = models.apply(lambda row: row[1].rsquared_adj, axis=1)\n",
    "plt.subplot(2, 2, 2)\n",
    "plt.plot(adj_rsquared)\n",
    "plt.plot(adj_rsquared.argmax(), adj_rsquared.max(), \"or\")\n",
    "plt.xlabel('# Predictors')\n",
    "plt.ylabel('adjusted rsquared')\n",
    "\n",
    "# aic\n",
    "aic = models.apply(lambda row: row[1].aic, axis=1)\n",
    "plt.subplot(2, 2, 3)\n",
    "plt.plot(aic)\n",
    "plt.plot(aic.argmin(), aic.min(), \"or\")\n",
    "plt.xlabel('# Predictors')\n",
    "plt.ylabel('AIC')\n",
    "\n",
    "# bic\n",
    "bic = models.apply(lambda row: row[1].bic, axis=1)\n",
    "plt.subplot(2, 2, 4)\n",
    "plt.plot(bic)\n",
    "plt.plot(bic.argmin(), bic.min(), \"or\")\n",
    "plt.xlabel(' # Predictors')\n",
    "plt.ylabel('BIC')"
   ]
  },
  {
   "cell_type": "markdown",
   "metadata": {},
   "source": [
    "## **전진선택법**"
   ]
  },
  {
   "cell_type": "markdown",
   "metadata": {},
   "source": [
    "### forward: 전진선택법 (step=1)"
   ]
  },
  {
   "cell_type": "code",
   "execution_count": 51,
   "metadata": {},
   "outputs": [],
   "source": [
    "def forward(X, y, predictors):\n",
    "    # 데이터 변수들이 미리정의된 predictors에 있는지 없는지 확인 및 분류\n",
    "    remaining_predictors = [p for p in X.columns.difference(['const']) if p not in predictors]\n",
    "    tic = time.time()\n",
    "    results = []\n",
    "    for p in remaining_predictors:\n",
    "        results.append(processSubset(X=X, y= y, feature_set=predictors+[p]+['const']))\n",
    "    # 데이터프레임으로 변환\n",
    "    models = pd.DataFrame(results)\n",
    "\n",
    "    # AIC가 가장 낮은 것을 선택\n",
    "    best_model = models.loc[models['AIC'].argmin()] # index\n",
    "    toc = time.time()\n",
    "    print(\"Processed \", models.shape[0], \"models on\", len(predictors)+1, \"predictors in\", (toc-tic))\n",
    "    print('Selected predictors:',best_model['model'].model.exog_names,' AIC:',best_model[0] )\n",
    "    return best_model"
   ]
  },
  {
   "cell_type": "markdown",
   "metadata": {},
   "source": [
    "### forward_model: 전진선택법 모델"
   ]
  },
  {
   "cell_type": "code",
   "execution_count": 52,
   "metadata": {},
   "outputs": [],
   "source": [
    "def forward_model(X,y):\n",
    "    Fmodels = pd.DataFrame(columns=[\"AIC\", \"model\"])\n",
    "    tic = time.time()\n",
    "    # 미리 정의된 데이터 변수\n",
    "    predictors = []\n",
    "    # 변수 1~10개 : 0~9 -> 1~10\n",
    "    for i in range(1, len(X.columns.difference(['const'])) + 1):\n",
    "        Forward_result = forward(X=X,y=y,predictors=predictors)\n",
    "        if i > 1:\n",
    "            if Forward_result['AIC'] > Fmodel_before:\n",
    "                break\n",
    "        Fmodels.loc[i] = Forward_result\n",
    "        predictors = Fmodels.loc[i][\"model\"].model.exog_names\n",
    "        Fmodel_before = Fmodels.loc[i][\"AIC\"]\n",
    "        predictors = [ k for k in predictors if k != 'const']\n",
    "    toc = time.time()\n",
    "    print(\"Total elapsed time:\", (toc - tic), \"seconds.\")\n",
    "\n",
    "    return(Fmodels['model'][len(Fmodels['model'])])"
   ]
  },
  {
   "cell_type": "code",
   "execution_count": 53,
   "metadata": {
    "scrolled": true
   },
   "outputs": [
    {
     "name": "stdout",
     "output_type": "stream",
     "text": [
      "Processed  36 models on 1 predictors in 0.05979156494140625\n",
      "Selected predictors: ['Mfg_Year', 'const']  AIC: <statsmodels.regression.linear_model.RegressionResultsWrapper object at 0x000001A0C8995508>\n",
      "Processed  35 models on 2 predictors in 0.06482577323913574\n",
      "Selected predictors: ['Mfg_Year', 'Automatic_airco', 'const']  AIC: <statsmodels.regression.linear_model.RegressionResultsWrapper object at 0x000001A0C89A05C8>\n",
      "Processed  34 models on 3 predictors in 0.057845354080200195\n",
      "Selected predictors: ['Mfg_Year', 'Automatic_airco', 'HP', 'const']  AIC: <statsmodels.regression.linear_model.RegressionResultsWrapper object at 0x000001A0C8BF1688>\n",
      "Processed  33 models on 4 predictors in 0.04886937141418457\n",
      "Selected predictors: ['Mfg_Year', 'Automatic_airco', 'HP', 'Weight', 'const']  AIC: <statsmodels.regression.linear_model.RegressionResultsWrapper object at 0x000001A0C8928E08>\n",
      "Processed  32 models on 5 predictors in 0.05485343933105469\n",
      "Selected predictors: ['Mfg_Year', 'Automatic_airco', 'HP', 'Weight', 'KM', 'const']  AIC: <statsmodels.regression.linear_model.RegressionResultsWrapper object at 0x000001A0C8944C08>\n",
      "Processed  31 models on 6 predictors in 0.039893388748168945\n",
      "Selected predictors: ['Mfg_Year', 'Automatic_airco', 'HP', 'Weight', 'KM', 'Powered_Windows', 'const']  AIC: <statsmodels.regression.linear_model.RegressionResultsWrapper object at 0x000001A0C8902A88>\n",
      "Processed  30 models on 7 predictors in 0.037899017333984375\n",
      "Selected predictors: ['Mfg_Year', 'Automatic_airco', 'HP', 'Weight', 'KM', 'Powered_Windows', 'Quarterly_Tax', 'const']  AIC: <statsmodels.regression.linear_model.RegressionResultsWrapper object at 0x000001A0C88CF5C8>\n",
      "Processed  29 models on 8 predictors in 0.03789877891540527\n",
      "Selected predictors: ['Mfg_Year', 'Automatic_airco', 'HP', 'Weight', 'KM', 'Powered_Windows', 'Quarterly_Tax', 'cc', 'const']  AIC: <statsmodels.regression.linear_model.RegressionResultsWrapper object at 0x000001A0C842F988>\n",
      "Processed  28 models on 9 predictors in 0.050864458084106445\n",
      "Selected predictors: ['Mfg_Year', 'Automatic_airco', 'HP', 'Weight', 'KM', 'Powered_Windows', 'Quarterly_Tax', 'cc', 'CNG', 'const']  AIC: <statsmodels.regression.linear_model.RegressionResultsWrapper object at 0x000001A0C897E908>\n",
      "Processed  27 models on 10 predictors in 0.03889632225036621\n",
      "Selected predictors: ['Mfg_Year', 'Automatic_airco', 'HP', 'Weight', 'KM', 'Powered_Windows', 'Quarterly_Tax', 'cc', 'CNG', 'Guarantee_Period', 'const']  AIC: <statsmodels.regression.linear_model.RegressionResultsWrapper object at 0x000001A0C89286C8>\n",
      "Processed  26 models on 11 predictors in 0.037899017333984375\n",
      "Selected predictors: ['Mfg_Year', 'Automatic_airco', 'HP', 'Weight', 'KM', 'Powered_Windows', 'Quarterly_Tax', 'cc', 'CNG', 'Guarantee_Period', 'Sport_Model', 'const']  AIC: <statsmodels.regression.linear_model.RegressionResultsWrapper object at 0x000001A0C842FD48>\n",
      "Processed  25 models on 12 predictors in 0.03690147399902344\n",
      "Selected predictors: ['Mfg_Year', 'Automatic_airco', 'HP', 'Weight', 'KM', 'Powered_Windows', 'Quarterly_Tax', 'cc', 'CNG', 'Guarantee_Period', 'Sport_Model', 'BOVAG_Guarantee', 'const']  AIC: <statsmodels.regression.linear_model.RegressionResultsWrapper object at 0x000001A0C8938208>\n",
      "Processed  24 models on 13 predictors in 0.0359039306640625\n",
      "Selected predictors: ['Mfg_Year', 'Automatic_airco', 'HP', 'Weight', 'KM', 'Powered_Windows', 'Quarterly_Tax', 'cc', 'CNG', 'Guarantee_Period', 'Sport_Model', 'BOVAG_Guarantee', 'Metallic_Rim', 'const']  AIC: <statsmodels.regression.linear_model.RegressionResultsWrapper object at 0x000001A0C8914D48>\n",
      "Processed  23 models on 14 predictors in 0.036902427673339844\n",
      "Selected predictors: ['Mfg_Year', 'Automatic_airco', 'HP', 'Weight', 'KM', 'Powered_Windows', 'Quarterly_Tax', 'cc', 'CNG', 'Guarantee_Period', 'Sport_Model', 'BOVAG_Guarantee', 'Metallic_Rim', 'Boardcomputer', 'const']  AIC: <statsmodels.regression.linear_model.RegressionResultsWrapper object at 0x000001A0C8951CC8>\n",
      "Processed  22 models on 15 predictors in 0.04488062858581543\n",
      "Selected predictors: ['Mfg_Year', 'Automatic_airco', 'HP', 'Weight', 'KM', 'Powered_Windows', 'Quarterly_Tax', 'cc', 'CNG', 'Guarantee_Period', 'Sport_Model', 'BOVAG_Guarantee', 'Metallic_Rim', 'Boardcomputer', 'Mfg_Month', 'const']  AIC: <statsmodels.regression.linear_model.RegressionResultsWrapper object at 0x000001A0C88FC4C8>\n",
      "Processed  21 models on 16 predictors in 0.0359039306640625\n",
      "Selected predictors: ['Mfg_Year', 'Automatic_airco', 'HP', 'Weight', 'KM', 'Powered_Windows', 'Quarterly_Tax', 'cc', 'CNG', 'Guarantee_Period', 'Sport_Model', 'BOVAG_Guarantee', 'Metallic_Rim', 'Boardcomputer', 'Mfg_Month', 'Automatic', 'const']  AIC: <statsmodels.regression.linear_model.RegressionResultsWrapper object at 0x000001A0E6C4BA48>\n",
      "Processed  20 models on 17 predictors in 0.037899017333984375\n",
      "Selected predictors: ['Mfg_Year', 'Automatic_airco', 'HP', 'Weight', 'KM', 'Powered_Windows', 'Quarterly_Tax', 'cc', 'CNG', 'Guarantee_Period', 'Sport_Model', 'BOVAG_Guarantee', 'Metallic_Rim', 'Boardcomputer', 'Mfg_Month', 'Automatic', 'ABS', 'const']  AIC: <statsmodels.regression.linear_model.RegressionResultsWrapper object at 0x000001A0C89563C8>\n",
      "Processed  19 models on 18 predictors in 0.031914710998535156\n",
      "Selected predictors: ['Mfg_Year', 'Automatic_airco', 'HP', 'Weight', 'KM', 'Powered_Windows', 'Quarterly_Tax', 'cc', 'CNG', 'Guarantee_Period', 'Sport_Model', 'BOVAG_Guarantee', 'Metallic_Rim', 'Boardcomputer', 'Mfg_Month', 'Automatic', 'ABS', 'Petrol', 'const']  AIC: <statsmodels.regression.linear_model.RegressionResultsWrapper object at 0x000001A0C8919D48>\n",
      "Processed  18 models on 19 predictors in 0.0329127311706543\n",
      "Selected predictors: ['Mfg_Year', 'Automatic_airco', 'HP', 'Weight', 'KM', 'Powered_Windows', 'Quarterly_Tax', 'cc', 'CNG', 'Guarantee_Period', 'Sport_Model', 'BOVAG_Guarantee', 'Metallic_Rim', 'Boardcomputer', 'Mfg_Month', 'Automatic', 'ABS', 'Petrol', 'Mfr_Guarantee', 'const']  AIC: <statsmodels.regression.linear_model.RegressionResultsWrapper object at 0x000001A0C842FC48>\n",
      "Processed  17 models on 20 predictors in 0.041796207427978516\n",
      "Selected predictors: ['Mfg_Year', 'Automatic_airco', 'HP', 'Weight', 'KM', 'Powered_Windows', 'Quarterly_Tax', 'cc', 'CNG', 'Guarantee_Period', 'Sport_Model', 'BOVAG_Guarantee', 'Metallic_Rim', 'Boardcomputer', 'Mfg_Month', 'Automatic', 'ABS', 'Petrol', 'Mfr_Guarantee', 'Airco', 'const']  AIC: <statsmodels.regression.linear_model.RegressionResultsWrapper object at 0x000001A0C88CF2C8>\n",
      "Processed  16 models on 21 predictors in 0.03889584541320801\n",
      "Selected predictors: ['Mfg_Year', 'Automatic_airco', 'HP', 'Weight', 'KM', 'Powered_Windows', 'Quarterly_Tax', 'cc', 'CNG', 'Guarantee_Period', 'Sport_Model', 'BOVAG_Guarantee', 'Metallic_Rim', 'Boardcomputer', 'Mfg_Month', 'Automatic', 'ABS', 'Petrol', 'Mfr_Guarantee', 'Airco', 'Doors', 'const']  AIC: <statsmodels.regression.linear_model.RegressionResultsWrapper object at 0x000001A0C88CF588>\n",
      "Processed  15 models on 22 predictors in 0.03789877891540527\n",
      "Selected predictors: ['Mfg_Year', 'Automatic_airco', 'HP', 'Weight', 'KM', 'Powered_Windows', 'Quarterly_Tax', 'cc', 'CNG', 'Guarantee_Period', 'Sport_Model', 'BOVAG_Guarantee', 'Metallic_Rim', 'Boardcomputer', 'Mfg_Month', 'Automatic', 'ABS', 'Petrol', 'Mfr_Guarantee', 'Airco', 'Doors', 'CD_Player', 'const']  AIC: <statsmodels.regression.linear_model.RegressionResultsWrapper object at 0x000001A0C89449C8>\n",
      "Processed  14 models on 23 predictors in 0.034906864166259766\n",
      "Selected predictors: ['Mfg_Year', 'Automatic_airco', 'HP', 'Weight', 'KM', 'Powered_Windows', 'Quarterly_Tax', 'cc', 'CNG', 'Guarantee_Period', 'Sport_Model', 'BOVAG_Guarantee', 'Metallic_Rim', 'Boardcomputer', 'Mfg_Month', 'Automatic', 'ABS', 'Petrol', 'Mfr_Guarantee', 'Airco', 'Doors', 'CD_Player', 'Cylinders', 'const']  AIC: <statsmodels.regression.linear_model.RegressionResultsWrapper object at 0x000001A0C8914B48>\n",
      "Processed  13 models on 24 predictors in 0.0359041690826416\n",
      "Selected predictors: ['Mfg_Year', 'Automatic_airco', 'HP', 'Weight', 'KM', 'Powered_Windows', 'Quarterly_Tax', 'cc', 'CNG', 'Guarantee_Period', 'Sport_Model', 'BOVAG_Guarantee', 'Metallic_Rim', 'Boardcomputer', 'Mfg_Month', 'Automatic', 'ABS', 'Petrol', 'Mfr_Guarantee', 'Airco', 'Doors', 'CD_Player', 'Cylinders', 'Age_08_04', 'const']  AIC: <statsmodels.regression.linear_model.RegressionResultsWrapper object at 0x000001A0C8963B08>\n",
      "Total elapsed time: 1.1261787414550781 seconds.\n"
     ]
    }
   ],
   "source": [
    "Forward_best_model = forward_model(X=train_x, y= train_y)"
   ]
  },
  {
   "cell_type": "code",
   "execution_count": 54,
   "metadata": {},
   "outputs": [
    {
     "data": {
      "text/plain": [
       "16972.719613484085"
      ]
     },
     "execution_count": 54,
     "metadata": {},
     "output_type": "execute_result"
    }
   ],
   "source": [
    "Forward_best_model.aic"
   ]
  },
  {
   "cell_type": "markdown",
   "metadata": {},
   "source": [
    "## **후진소거법**"
   ]
  },
  {
   "cell_type": "markdown",
   "metadata": {},
   "source": [
    "### backward: 후진소거법(step=1)"
   ]
  },
  {
   "cell_type": "code",
   "execution_count": 55,
   "metadata": {},
   "outputs": [],
   "source": [
    "def backward(X,y,predictors):\n",
    "    tic = time.time()\n",
    "    results = []\n",
    "    # 데이터 변수들이 미리정의된 predictors 조합 확인\n",
    "    for combo in itertools.combinations(predictors, len(predictors) - 1):\n",
    "        results.append(processSubset(X=X, y= y,feature_set=list(combo)+['const']))\n",
    "    models = pd.DataFrame(results)\n",
    "    # 가장 낮은 AIC를 가진 모델을 선택\n",
    "    best_model = models.loc[models['AIC'].argmin()]\n",
    "    toc = time.time()\n",
    "    print(\"Processed \", models.shape[0], \"models on\", len(predictors) - 1, \"predictors in\",\n",
    "          (toc - tic))\n",
    "    print('Selected predictors:',best_model['model'].model.exog_names,' AIC:',best_model[0] )\n",
    "    return best_model"
   ]
  },
  {
   "cell_type": "markdown",
   "metadata": {},
   "source": [
    "### backward: 후진소거법모델"
   ]
  },
  {
   "cell_type": "code",
   "execution_count": 56,
   "metadata": {},
   "outputs": [],
   "source": [
    "def backward_model(X, y):\n",
    "    Bmodels = pd.DataFrame(columns=[\"AIC\", \"model\"], index = range(1,len(X.columns)))\n",
    "    tic = time.time()\n",
    "    predictors = X.columns.difference(['const'])\n",
    "    Bmodel_before = processSubset(X,y,predictors)['AIC']\n",
    "    while (len(predictors) > 1):\n",
    "        Backward_result = backward(X=train_x, y= train_y, predictors = predictors)\n",
    "        if Backward_result['AIC'] > Bmodel_before:\n",
    "            break\n",
    "        Bmodels.loc[len(predictors) - 1] = Backward_result\n",
    "        predictors = Bmodels.loc[len(predictors) - 1][\"model\"].model.exog_names\n",
    "        Bmodel_before = Backward_result['AIC']\n",
    "        predictors = [ k for k in predictors if k != 'const']\n",
    "\n",
    "    toc = time.time()\n",
    "    print(\"Total elapsed time:\", (toc - tic), \"seconds.\")\n",
    "    return (Bmodels['model'].dropna().iloc[0])"
   ]
  },
  {
   "cell_type": "code",
   "execution_count": 57,
   "metadata": {
    "scrolled": true
   },
   "outputs": [
    {
     "name": "stdout",
     "output_type": "stream",
     "text": [
      "Processed  36 models on 35 predictors in 0.10372138023376465\n",
      "Selected predictors: ['ABS', 'Age_08_04', 'Airbag_1', 'Airbag_2', 'Airco', 'Automatic', 'Automatic_airco', 'BOVAG_Guarantee', 'Backseat_Divider', 'Boardcomputer', 'CD_Player', 'CNG', 'Central_Lock', 'Cylinders', 'Diesel', 'Doors', 'Gears', 'Guarantee_Period', 'HP', 'KM', 'Met_Color', 'Metallic_Rim', 'Mfg_Month', 'Mfg_Year', 'Mfr_Guarantee', 'Petrol', 'Power_Steering', 'Powered_Windows', 'Quarterly_Tax', 'Radio', 'Radio_cassette', 'Sport_Model', 'Tow_Bar', 'Weight', 'cc', 'const']  AIC: <statsmodels.regression.linear_model.RegressionResultsWrapper object at 0x000001A0C899BB08>\n",
      "Processed  35 models on 34 predictors in 0.0967409610748291\n",
      "Selected predictors: ['ABS', 'Age_08_04', 'Airbag_1', 'Airbag_2', 'Airco', 'Automatic', 'Automatic_airco', 'BOVAG_Guarantee', 'Backseat_Divider', 'Boardcomputer', 'CD_Player', 'CNG', 'Cylinders', 'Diesel', 'Doors', 'Gears', 'Guarantee_Period', 'HP', 'KM', 'Met_Color', 'Metallic_Rim', 'Mfg_Month', 'Mfg_Year', 'Mfr_Guarantee', 'Petrol', 'Power_Steering', 'Powered_Windows', 'Quarterly_Tax', 'Radio', 'Radio_cassette', 'Sport_Model', 'Tow_Bar', 'Weight', 'cc', 'const']  AIC: <statsmodels.regression.linear_model.RegressionResultsWrapper object at 0x000001A0C88E8908>\n",
      "Processed  34 models on 33 predictors in 0.09976029396057129\n",
      "Selected predictors: ['ABS', 'Age_08_04', 'Airbag_1', 'Airbag_2', 'Airco', 'Automatic', 'Automatic_airco', 'BOVAG_Guarantee', 'Backseat_Divider', 'Boardcomputer', 'CD_Player', 'CNG', 'Cylinders', 'Diesel', 'Doors', 'Guarantee_Period', 'HP', 'KM', 'Met_Color', 'Metallic_Rim', 'Mfg_Month', 'Mfg_Year', 'Mfr_Guarantee', 'Petrol', 'Power_Steering', 'Powered_Windows', 'Quarterly_Tax', 'Radio', 'Radio_cassette', 'Sport_Model', 'Tow_Bar', 'Weight', 'cc', 'const']  AIC: <statsmodels.regression.linear_model.RegressionResultsWrapper object at 0x000001A0C8C1EFC8>\n",
      "Processed  33 models on 32 predictors in 0.09973311424255371\n",
      "Selected predictors: ['ABS', 'Age_08_04', 'Airbag_1', 'Airbag_2', 'Airco', 'Automatic', 'Automatic_airco', 'BOVAG_Guarantee', 'Backseat_Divider', 'Boardcomputer', 'CD_Player', 'CNG', 'Cylinders', 'Diesel', 'Doors', 'Guarantee_Period', 'HP', 'KM', 'Metallic_Rim', 'Mfg_Month', 'Mfg_Year', 'Mfr_Guarantee', 'Petrol', 'Power_Steering', 'Powered_Windows', 'Quarterly_Tax', 'Radio', 'Radio_cassette', 'Sport_Model', 'Tow_Bar', 'Weight', 'cc', 'const']  AIC: <statsmodels.regression.linear_model.RegressionResultsWrapper object at 0x000001A0C89029C8>\n",
      "Processed  32 models on 31 predictors in 0.08876252174377441\n",
      "Selected predictors: ['ABS', 'Age_08_04', 'Airbag_1', 'Airbag_2', 'Airco', 'Automatic', 'Automatic_airco', 'BOVAG_Guarantee', 'Boardcomputer', 'CD_Player', 'CNG', 'Cylinders', 'Diesel', 'Doors', 'Guarantee_Period', 'HP', 'KM', 'Metallic_Rim', 'Mfg_Month', 'Mfg_Year', 'Mfr_Guarantee', 'Petrol', 'Power_Steering', 'Powered_Windows', 'Quarterly_Tax', 'Radio', 'Radio_cassette', 'Sport_Model', 'Tow_Bar', 'Weight', 'cc', 'const']  AIC: <statsmodels.regression.linear_model.RegressionResultsWrapper object at 0x000001A0C890D308>\n",
      "Processed  31 models on 30 predictors in 0.08078408241271973\n",
      "Selected predictors: ['ABS', 'Age_08_04', 'Airbag_2', 'Airco', 'Automatic', 'Automatic_airco', 'BOVAG_Guarantee', 'Boardcomputer', 'CD_Player', 'CNG', 'Cylinders', 'Diesel', 'Doors', 'Guarantee_Period', 'HP', 'KM', 'Metallic_Rim', 'Mfg_Month', 'Mfg_Year', 'Mfr_Guarantee', 'Petrol', 'Power_Steering', 'Powered_Windows', 'Quarterly_Tax', 'Radio', 'Radio_cassette', 'Sport_Model', 'Tow_Bar', 'Weight', 'cc', 'const']  AIC: <statsmodels.regression.linear_model.RegressionResultsWrapper object at 0x000001A0C8956B88>\n",
      "Processed  30 models on 29 predictors in 0.07978653907775879\n",
      "Selected predictors: ['ABS', 'Age_08_04', 'Airbag_2', 'Airco', 'Automatic', 'Automatic_airco', 'BOVAG_Guarantee', 'Boardcomputer', 'CD_Player', 'CNG', 'Cylinders', 'Diesel', 'Doors', 'Guarantee_Period', 'HP', 'KM', 'Metallic_Rim', 'Mfg_Month', 'Mfg_Year', 'Mfr_Guarantee', 'Petrol', 'Power_Steering', 'Powered_Windows', 'Quarterly_Tax', 'Radio', 'Sport_Model', 'Tow_Bar', 'Weight', 'cc', 'const']  AIC: <statsmodels.regression.linear_model.RegressionResultsWrapper object at 0x000001A0C8BED348>\n",
      "Processed  29 models on 28 predictors in 0.07983875274658203\n",
      "Selected predictors: ['ABS', 'Age_08_04', 'Airbag_2', 'Airco', 'Automatic', 'Automatic_airco', 'BOVAG_Guarantee', 'Boardcomputer', 'CD_Player', 'CNG', 'Cylinders', 'Diesel', 'Doors', 'Guarantee_Period', 'HP', 'KM', 'Metallic_Rim', 'Mfg_Month', 'Mfg_Year', 'Mfr_Guarantee', 'Petrol', 'Power_Steering', 'Powered_Windows', 'Quarterly_Tax', 'Sport_Model', 'Tow_Bar', 'Weight', 'cc', 'const']  AIC: <statsmodels.regression.linear_model.RegressionResultsWrapper object at 0x000001A0C8938708>\n",
      "Processed  28 models on 27 predictors in 0.06482601165771484\n",
      "Selected predictors: ['ABS', 'Age_08_04', 'Airco', 'Automatic', 'Automatic_airco', 'BOVAG_Guarantee', 'Boardcomputer', 'CD_Player', 'CNG', 'Cylinders', 'Diesel', 'Doors', 'Guarantee_Period', 'HP', 'KM', 'Metallic_Rim', 'Mfg_Month', 'Mfg_Year', 'Mfr_Guarantee', 'Petrol', 'Power_Steering', 'Powered_Windows', 'Quarterly_Tax', 'Sport_Model', 'Tow_Bar', 'Weight', 'cc', 'const']  AIC: <statsmodels.regression.linear_model.RegressionResultsWrapper object at 0x000001A0C8920C48>\n",
      "Processed  27 models on 26 predictors in 0.06382966041564941\n",
      "Selected predictors: ['ABS', 'Age_08_04', 'Airco', 'Automatic', 'Automatic_airco', 'BOVAG_Guarantee', 'Boardcomputer', 'CD_Player', 'CNG', 'Cylinders', 'Diesel', 'Doors', 'Guarantee_Period', 'HP', 'KM', 'Metallic_Rim', 'Mfg_Month', 'Mfg_Year', 'Mfr_Guarantee', 'Petrol', 'Powered_Windows', 'Quarterly_Tax', 'Sport_Model', 'Tow_Bar', 'Weight', 'cc', 'const']  AIC: <statsmodels.regression.linear_model.RegressionResultsWrapper object at 0x000001A0C893EA48>\n",
      "Processed  26 models on 25 predictors in 0.06682133674621582\n",
      "Selected predictors: ['ABS', 'Age_08_04', 'Airco', 'Automatic', 'Automatic_airco', 'BOVAG_Guarantee', 'Boardcomputer', 'CD_Player', 'CNG', 'Cylinders', 'Diesel', 'Doors', 'Guarantee_Period', 'HP', 'KM', 'Metallic_Rim', 'Mfg_Month', 'Mfg_Year', 'Mfr_Guarantee', 'Petrol', 'Powered_Windows', 'Quarterly_Tax', 'Sport_Model', 'Weight', 'cc', 'const']  AIC: <statsmodels.regression.linear_model.RegressionResultsWrapper object at 0x000001A0C89A05C8>\n",
      "Processed  25 models on 24 predictors in 0.0638284683227539\n",
      "Selected predictors: ['ABS', 'Age_08_04', 'Airco', 'Automatic', 'Automatic_airco', 'BOVAG_Guarantee', 'Boardcomputer', 'CD_Player', 'CNG', 'Cylinders', 'Diesel', 'Doors', 'Guarantee_Period', 'HP', 'KM', 'Metallic_Rim', 'Mfg_Month', 'Mfg_Year', 'Mfr_Guarantee', 'Powered_Windows', 'Quarterly_Tax', 'Sport_Model', 'Weight', 'cc', 'const']  AIC: <statsmodels.regression.linear_model.RegressionResultsWrapper object at 0x000001A0C8BF7C08>\n",
      "Processed  24 models on 23 predictors in 0.057845115661621094\n",
      "Selected predictors: ['ABS', 'Age_08_04', 'Airco', 'Automatic', 'Automatic_airco', 'BOVAG_Guarantee', 'Boardcomputer', 'CD_Player', 'CNG', 'Cylinders', 'Diesel', 'Doors', 'Guarantee_Period', 'HP', 'KM', 'Metallic_Rim', 'Mfg_Month', 'Mfr_Guarantee', 'Powered_Windows', 'Quarterly_Tax', 'Sport_Model', 'Weight', 'cc', 'const']  AIC: <statsmodels.regression.linear_model.RegressionResultsWrapper object at 0x000001A0C8932708>\n",
      "Processed  23 models on 22 predictors in 0.05186057090759277\n",
      "Selected predictors: ['ABS', 'Age_08_04', 'Airco', 'Automatic', 'Automatic_airco', 'BOVAG_Guarantee', 'Boardcomputer', 'CD_Player', 'CNG', 'Diesel', 'Doors', 'Guarantee_Period', 'HP', 'KM', 'Metallic_Rim', 'Mfg_Month', 'Mfr_Guarantee', 'Powered_Windows', 'Quarterly_Tax', 'Sport_Model', 'Weight', 'cc', 'const']  AIC: <statsmodels.regression.linear_model.RegressionResultsWrapper object at 0x000001A0C8995188>\n",
      "Processed  22 models on 21 predictors in 0.056847572326660156\n",
      "Selected predictors: ['ABS', 'Age_08_04', 'Airco', 'Automatic', 'Automatic_airco', 'BOVAG_Guarantee', 'Boardcomputer', 'CNG', 'Diesel', 'Doors', 'Guarantee_Period', 'HP', 'KM', 'Metallic_Rim', 'Mfg_Month', 'Mfr_Guarantee', 'Powered_Windows', 'Quarterly_Tax', 'Sport_Model', 'Weight', 'cc', 'const']  AIC: <statsmodels.regression.linear_model.RegressionResultsWrapper object at 0x000001A0C8908688>\n",
      "Total elapsed time: 1.2346997261047363 seconds.\n"
     ]
    }
   ],
   "source": [
    "Backward_best_model = backward_model(X=train_x,y=train_y)"
   ]
  },
  {
   "cell_type": "code",
   "execution_count": 58,
   "metadata": {},
   "outputs": [
    {
     "data": {
      "text/plain": [
       "16972.71961348411"
      ]
     },
     "execution_count": 58,
     "metadata": {},
     "output_type": "execute_result"
    }
   ],
   "source": [
    "Backward_best_model.aic"
   ]
  },
  {
   "cell_type": "markdown",
   "metadata": {},
   "source": [
    "## **단계적 선택법**"
   ]
  },
  {
   "cell_type": "markdown",
   "metadata": {},
   "source": [
    "### stepwise_model: 단계적 선택법 모델"
   ]
  },
  {
   "cell_type": "code",
   "execution_count": 59,
   "metadata": {},
   "outputs": [],
   "source": [
    "def Stepwise_model(X,y):\n",
    "    Stepmodels = pd.DataFrame(columns=[\"AIC\", \"model\"])\n",
    "    tic = time.time()\n",
    "    predictors = []\n",
    "    Smodel_before = processSubset(X,y,predictors+['const'])['AIC']\n",
    "    # 변수 1~10개 : 0~9 -> 1~10\n",
    "    for i in range(1, len(X.columns.difference(['const'])) + 1):\n",
    "        Forward_result = forward(X=X, y=y, predictors=predictors) # constant added\n",
    "        print('forward')\n",
    "        Stepmodels.loc[i] = Forward_result\n",
    "        predictors = Stepmodels.loc[i][\"model\"].model.exog_names\n",
    "        predictors = [ k for k in predictors if k != 'const']\n",
    "        Backward_result = backward(X=X, y=y, predictors=predictors)\n",
    "        if Backward_result['AIC']< Forward_result['AIC']:\n",
    "            Stepmodels.loc[i] = Backward_result\n",
    "            predictors = Stepmodels.loc[i][\"model\"].model.exog_names\n",
    "            Smodel_before = Stepmodels.loc[i][\"AIC\"]\n",
    "            predictors = [ k for k in predictors if k != 'const']\n",
    "            print('backward')\n",
    "        if Stepmodels.loc[i]['AIC']> Smodel_before:\n",
    "            break\n",
    "        else:\n",
    "            Smodel_before = Stepmodels.loc[i][\"AIC\"]\n",
    "    toc = time.time()\n",
    "    print(\"Total elapsed time:\", (toc - tic), \"seconds.\")\n",
    "    return (Stepmodels['model'][len(Stepmodels['model'])])"
   ]
  },
  {
   "cell_type": "code",
   "execution_count": 60,
   "metadata": {
    "scrolled": true
   },
   "outputs": [
    {
     "name": "stdout",
     "output_type": "stream",
     "text": [
      "Processed  36 models on 1 predictors in 0.05488872528076172\n",
      "Selected predictors: ['Mfg_Year', 'const']  AIC: <statsmodels.regression.linear_model.RegressionResultsWrapper object at 0x000001A0C842F588>\n",
      "forward\n",
      "Processed  1 models on 0 predictors in 0.002992391586303711\n",
      "Selected predictors: ['const']  AIC: <statsmodels.regression.linear_model.RegressionResultsWrapper object at 0x000001A0C88CF088>\n",
      "Processed  35 models on 2 predictors in 0.044911861419677734\n",
      "Selected predictors: ['Mfg_Year', 'Automatic_airco', 'const']  AIC: <statsmodels.regression.linear_model.RegressionResultsWrapper object at 0x000001A0C842F7C8>\n",
      "forward\n",
      "Processed  2 models on 1 predictors in 0.004986763000488281\n",
      "Selected predictors: ['Mfg_Year', 'const']  AIC: <statsmodels.regression.linear_model.RegressionResultsWrapper object at 0x000001A0C88FC9C8>\n",
      "Processed  34 models on 3 predictors in 0.04288458824157715\n",
      "Selected predictors: ['Mfg_Year', 'Automatic_airco', 'HP', 'const']  AIC: <statsmodels.regression.linear_model.RegressionResultsWrapper object at 0x000001A0C8425AC8>\n",
      "forward\n",
      "Processed  3 models on 2 predictors in 0.005984067916870117\n",
      "Selected predictors: ['Mfg_Year', 'Automatic_airco', 'const']  AIC: <statsmodels.regression.linear_model.RegressionResultsWrapper object at 0x000001A0C88CFB48>\n",
      "Processed  33 models on 4 predictors in 0.04986691474914551\n",
      "Selected predictors: ['Mfg_Year', 'Automatic_airco', 'HP', 'Weight', 'const']  AIC: <statsmodels.regression.linear_model.RegressionResultsWrapper object at 0x000001A0C7E466C8>\n",
      "forward\n",
      "Processed  4 models on 3 predictors in 0.005983591079711914\n",
      "Selected predictors: ['Mfg_Year', 'Automatic_airco', 'HP', 'const']  AIC: <statsmodels.regression.linear_model.RegressionResultsWrapper object at 0x000001A0C8970508>\n",
      "Processed  32 models on 5 predictors in 0.04587745666503906\n",
      "Selected predictors: ['Mfg_Year', 'Automatic_airco', 'HP', 'Weight', 'KM', 'const']  AIC: <statsmodels.regression.linear_model.RegressionResultsWrapper object at 0x000001A0C842FBC8>\n",
      "forward\n",
      "Processed  5 models on 4 predictors in 0.008977651596069336\n",
      "Selected predictors: ['Mfg_Year', 'Automatic_airco', 'Weight', 'KM', 'const']  AIC: <statsmodels.regression.linear_model.RegressionResultsWrapper object at 0x000001A0C88CFC88>\n",
      "Processed  31 models on 6 predictors in 0.04088950157165527\n",
      "Selected predictors: ['Mfg_Year', 'Automatic_airco', 'HP', 'Weight', 'KM', 'Powered_Windows', 'const']  AIC: <statsmodels.regression.linear_model.RegressionResultsWrapper object at 0x000001A0C8970548>\n",
      "forward\n",
      "Processed  6 models on 5 predictors in 0.011967897415161133\n",
      "Selected predictors: ['Mfg_Year', 'Automatic_airco', 'HP', 'Weight', 'KM', 'const']  AIC: <statsmodels.regression.linear_model.RegressionResultsWrapper object at 0x000001A0C8BF7BC8>\n",
      "Processed  30 models on 7 predictors in 0.03989291191101074\n",
      "Selected predictors: ['Mfg_Year', 'Automatic_airco', 'HP', 'Weight', 'KM', 'Powered_Windows', 'Quarterly_Tax', 'const']  AIC: <statsmodels.regression.linear_model.RegressionResultsWrapper object at 0x000001A0C88CFC88>\n",
      "forward\n",
      "Processed  7 models on 6 predictors in 0.009972810745239258\n",
      "Selected predictors: ['Mfg_Year', 'Automatic_airco', 'HP', 'Weight', 'KM', 'Powered_Windows', 'const']  AIC: <statsmodels.regression.linear_model.RegressionResultsWrapper object at 0x000001A0C88CF408>\n",
      "Processed  29 models on 8 predictors in 0.03590536117553711\n",
      "Selected predictors: ['Mfg_Year', 'Automatic_airco', 'HP', 'Weight', 'KM', 'Powered_Windows', 'Quarterly_Tax', 'cc', 'const']  AIC: <statsmodels.regression.linear_model.RegressionResultsWrapper object at 0x000001A0C7E3EFC8>\n",
      "forward\n",
      "Processed  8 models on 7 predictors in 0.011967658996582031\n",
      "Selected predictors: ['Mfg_Year', 'Automatic_airco', 'HP', 'Weight', 'KM', 'Powered_Windows', 'Quarterly_Tax', 'const']  AIC: <statsmodels.regression.linear_model.RegressionResultsWrapper object at 0x000001A0C8C1ED88>\n",
      "Processed  28 models on 9 predictors in 0.03789806365966797\n",
      "Selected predictors: ['Mfg_Year', 'Automatic_airco', 'HP', 'Weight', 'KM', 'Powered_Windows', 'Quarterly_Tax', 'cc', 'CNG', 'const']  AIC: <statsmodels.regression.linear_model.RegressionResultsWrapper object at 0x000001A0C8425648>\n",
      "forward\n",
      "Processed  9 models on 8 predictors in 0.013968229293823242\n",
      "Selected predictors: ['Mfg_Year', 'Automatic_airco', 'HP', 'Weight', 'KM', 'Powered_Windows', 'Quarterly_Tax', 'cc', 'const']  AIC: <statsmodels.regression.linear_model.RegressionResultsWrapper object at 0x000001A0C8919048>\n",
      "Processed  27 models on 10 predictors in 0.04487967491149902\n",
      "Selected predictors: ['Mfg_Year', 'Automatic_airco', 'HP', 'Weight', 'KM', 'Powered_Windows', 'Quarterly_Tax', 'cc', 'CNG', 'Guarantee_Period', 'const']  AIC: <statsmodels.regression.linear_model.RegressionResultsWrapper object at 0x000001A0C8BF7C88>\n",
      "forward\n",
      "Processed  10 models on 9 predictors in 0.019946813583374023\n",
      "Selected predictors: ['Mfg_Year', 'Automatic_airco', 'HP', 'Weight', 'KM', 'Powered_Windows', 'Quarterly_Tax', 'cc', 'CNG', 'const']  AIC: <statsmodels.regression.linear_model.RegressionResultsWrapper object at 0x000001A0CE532B48>\n",
      "Processed  26 models on 11 predictors in 0.04188847541809082\n",
      "Selected predictors: ['Mfg_Year', 'Automatic_airco', 'HP', 'Weight', 'KM', 'Powered_Windows', 'Quarterly_Tax', 'cc', 'CNG', 'Guarantee_Period', 'Sport_Model', 'const']  AIC: <statsmodels.regression.linear_model.RegressionResultsWrapper object at 0x000001A0C7E3EA88>\n",
      "forward\n",
      "Processed  11 models on 10 predictors in 0.023934602737426758\n",
      "Selected predictors: ['Mfg_Year', 'Automatic_airco', 'HP', 'Weight', 'KM', 'Powered_Windows', 'Quarterly_Tax', 'cc', 'CNG', 'Guarantee_Period', 'const']  AIC: <statsmodels.regression.linear_model.RegressionResultsWrapper object at 0x000001A0C8919548>\n",
      "Processed  25 models on 12 predictors in 0.04388284683227539\n",
      "Selected predictors: ['Mfg_Year', 'Automatic_airco', 'HP', 'Weight', 'KM', 'Powered_Windows', 'Quarterly_Tax', 'cc', 'CNG', 'Guarantee_Period', 'Sport_Model', 'BOVAG_Guarantee', 'const']  AIC: <statsmodels.regression.linear_model.RegressionResultsWrapper object at 0x000001A0C8919F48>\n",
      "forward\n",
      "Processed  12 models on 11 predictors in 0.024933576583862305\n",
      "Selected predictors: ['Mfg_Year', 'Automatic_airco', 'HP', 'Weight', 'KM', 'Powered_Windows', 'Quarterly_Tax', 'cc', 'CNG', 'Guarantee_Period', 'Sport_Model', 'const']  AIC: <statsmodels.regression.linear_model.RegressionResultsWrapper object at 0x000001A0C8BF7908>\n",
      "Processed  24 models on 13 predictors in 0.0468747615814209\n",
      "Selected predictors: ['Mfg_Year', 'Automatic_airco', 'HP', 'Weight', 'KM', 'Powered_Windows', 'Quarterly_Tax', 'cc', 'CNG', 'Guarantee_Period', 'Sport_Model', 'BOVAG_Guarantee', 'Metallic_Rim', 'const']  AIC: <statsmodels.regression.linear_model.RegressionResultsWrapper object at 0x000001A0C842F208>\n",
      "forward\n",
      "Processed  13 models on 12 predictors in 0.02094411849975586\n",
      "Selected predictors: ['Mfg_Year', 'Automatic_airco', 'HP', 'Weight', 'KM', 'Powered_Windows', 'Quarterly_Tax', 'cc', 'CNG', 'Guarantee_Period', 'Sport_Model', 'BOVAG_Guarantee', 'const']  AIC: <statsmodels.regression.linear_model.RegressionResultsWrapper object at 0x000001A0C890DD08>\n",
      "Processed  23 models on 14 predictors in 0.03390932083129883\n",
      "Selected predictors: ['Mfg_Year', 'Automatic_airco', 'HP', 'Weight', 'KM', 'Powered_Windows', 'Quarterly_Tax', 'cc', 'CNG', 'Guarantee_Period', 'Sport_Model', 'BOVAG_Guarantee', 'Metallic_Rim', 'Boardcomputer', 'const']  AIC: <statsmodels.regression.linear_model.RegressionResultsWrapper object at 0x000001A0C842FEC8>\n",
      "forward\n",
      "Processed  14 models on 13 predictors in 0.023936033248901367\n",
      "Selected predictors: ['Mfg_Year', 'Automatic_airco', 'HP', 'Weight', 'KM', 'Powered_Windows', 'Quarterly_Tax', 'cc', 'CNG', 'Guarantee_Period', 'Sport_Model', 'BOVAG_Guarantee', 'Metallic_Rim', 'const']  AIC: <statsmodels.regression.linear_model.RegressionResultsWrapper object at 0x000001A0E7D0EC08>\n",
      "Processed  22 models on 15 predictors in 0.046875\n",
      "Selected predictors: ['Mfg_Year', 'Automatic_airco', 'HP', 'Weight', 'KM', 'Powered_Windows', 'Quarterly_Tax', 'cc', 'CNG', 'Guarantee_Period', 'Sport_Model', 'BOVAG_Guarantee', 'Metallic_Rim', 'Boardcomputer', 'Mfg_Month', 'const']  AIC: <statsmodels.regression.linear_model.RegressionResultsWrapper object at 0x000001A0C8BFF208>\n",
      "forward\n",
      "Processed  15 models on 14 predictors in 0.02393794059753418\n",
      "Selected predictors: ['Mfg_Year', 'Automatic_airco', 'HP', 'Weight', 'KM', 'Powered_Windows', 'Quarterly_Tax', 'cc', 'CNG', 'Guarantee_Period', 'Sport_Model', 'BOVAG_Guarantee', 'Boardcomputer', 'Mfg_Month', 'const']  AIC: <statsmodels.regression.linear_model.RegressionResultsWrapper object at 0x000001A0C8BED748>\n",
      "Processed  21 models on 16 predictors in 0.0468747615814209\n",
      "Selected predictors: ['Mfg_Year', 'Automatic_airco', 'HP', 'Weight', 'KM', 'Powered_Windows', 'Quarterly_Tax', 'cc', 'CNG', 'Guarantee_Period', 'Sport_Model', 'BOVAG_Guarantee', 'Metallic_Rim', 'Boardcomputer', 'Mfg_Month', 'Automatic', 'const']  AIC: <statsmodels.regression.linear_model.RegressionResultsWrapper object at 0x000001A0C894BBC8>\n",
      "forward\n",
      "Processed  16 models on 15 predictors in 0.034906625747680664\n",
      "Selected predictors: ['Mfg_Year', 'Automatic_airco', 'HP', 'Weight', 'KM', 'Powered_Windows', 'Quarterly_Tax', 'cc', 'CNG', 'Guarantee_Period', 'Sport_Model', 'BOVAG_Guarantee', 'Metallic_Rim', 'Boardcomputer', 'Mfg_Month', 'const']  AIC: <statsmodels.regression.linear_model.RegressionResultsWrapper object at 0x000001A0C8BF7548>\n",
      "Processed  20 models on 17 predictors in 0.03789830207824707\n",
      "Selected predictors: ['Mfg_Year', 'Automatic_airco', 'HP', 'Weight', 'KM', 'Powered_Windows', 'Quarterly_Tax', 'cc', 'CNG', 'Guarantee_Period', 'Sport_Model', 'BOVAG_Guarantee', 'Metallic_Rim', 'Boardcomputer', 'Mfg_Month', 'Automatic', 'ABS', 'const']  AIC: <statsmodels.regression.linear_model.RegressionResultsWrapper object at 0x000001A0C8902488>\n",
      "forward\n",
      "Processed  17 models on 16 predictors in 0.03789877891540527\n",
      "Selected predictors: ['Mfg_Year', 'Automatic_airco', 'HP', 'Weight', 'KM', 'Powered_Windows', 'Quarterly_Tax', 'cc', 'CNG', 'Guarantee_Period', 'Sport_Model', 'BOVAG_Guarantee', 'Metallic_Rim', 'Boardcomputer', 'Mfg_Month', 'Automatic', 'const']  AIC: <statsmodels.regression.linear_model.RegressionResultsWrapper object at 0x000001A0C899B3C8>\n",
      "Processed  19 models on 18 predictors in 0.04488039016723633\n",
      "Selected predictors: ['Mfg_Year', 'Automatic_airco', 'HP', 'Weight', 'KM', 'Powered_Windows', 'Quarterly_Tax', 'cc', 'CNG', 'Guarantee_Period', 'Sport_Model', 'BOVAG_Guarantee', 'Metallic_Rim', 'Boardcomputer', 'Mfg_Month', 'Automatic', 'ABS', 'Petrol', 'const']  AIC: <statsmodels.regression.linear_model.RegressionResultsWrapper object at 0x000001A0C88E8CC8>\n",
      "forward\n",
      "Processed  18 models on 17 predictors in 0.0359039306640625\n",
      "Selected predictors: ['Mfg_Year', 'Automatic_airco', 'HP', 'Weight', 'KM', 'Powered_Windows', 'Quarterly_Tax', 'cc', 'CNG', 'Guarantee_Period', 'Sport_Model', 'BOVAG_Guarantee', 'Metallic_Rim', 'Boardcomputer', 'Mfg_Month', 'Automatic', 'ABS', 'const']  AIC: <statsmodels.regression.linear_model.RegressionResultsWrapper object at 0x000001A0C898F308>\n",
      "Processed  18 models on 19 predictors in 0.03191494941711426\n",
      "Selected predictors: ['Mfg_Year', 'Automatic_airco', 'HP', 'Weight', 'KM', 'Powered_Windows', 'Quarterly_Tax', 'cc', 'CNG', 'Guarantee_Period', 'Sport_Model', 'BOVAG_Guarantee', 'Metallic_Rim', 'Boardcomputer', 'Mfg_Month', 'Automatic', 'ABS', 'Petrol', 'Mfr_Guarantee', 'const']  AIC: <statsmodels.regression.linear_model.RegressionResultsWrapper object at 0x000001A0C8BF7988>\n",
      "forward\n",
      "Processed  19 models on 18 predictors in 0.042885541915893555\n",
      "Selected predictors: ['Mfg_Year', 'Automatic_airco', 'HP', 'Weight', 'KM', 'Powered_Windows', 'Quarterly_Tax', 'cc', 'CNG', 'Guarantee_Period', 'Sport_Model', 'BOVAG_Guarantee', 'Metallic_Rim', 'Boardcomputer', 'Mfg_Month', 'Automatic', 'Petrol', 'Mfr_Guarantee', 'const']  AIC: <statsmodels.regression.linear_model.RegressionResultsWrapper object at 0x000001A0C8919288>\n",
      "Processed  17 models on 20 predictors in 0.04288649559020996\n",
      "Selected predictors: ['Mfg_Year', 'Automatic_airco', 'HP', 'Weight', 'KM', 'Powered_Windows', 'Quarterly_Tax', 'cc', 'CNG', 'Guarantee_Period', 'Sport_Model', 'BOVAG_Guarantee', 'Metallic_Rim', 'Boardcomputer', 'Mfg_Month', 'Automatic', 'ABS', 'Petrol', 'Mfr_Guarantee', 'Airco', 'const']  AIC: <statsmodels.regression.linear_model.RegressionResultsWrapper object at 0x000001A0C7E46508>\n",
      "forward\n",
      "Processed  20 models on 19 predictors in 0.046875\n",
      "Selected predictors: ['Mfg_Year', 'Automatic_airco', 'HP', 'Weight', 'KM', 'Powered_Windows', 'Quarterly_Tax', 'cc', 'CNG', 'Guarantee_Period', 'Sport_Model', 'BOVAG_Guarantee', 'Metallic_Rim', 'Boardcomputer', 'Mfg_Month', 'Automatic', 'ABS', 'Petrol', 'Mfr_Guarantee', 'const']  AIC: <statsmodels.regression.linear_model.RegressionResultsWrapper object at 0x000001A0C8995448>\n",
      "Processed  16 models on 21 predictors in 0.03490710258483887\n",
      "Selected predictors: ['Mfg_Year', 'Automatic_airco', 'HP', 'Weight', 'KM', 'Powered_Windows', 'Quarterly_Tax', 'cc', 'CNG', 'Guarantee_Period', 'Sport_Model', 'BOVAG_Guarantee', 'Metallic_Rim', 'Boardcomputer', 'Mfg_Month', 'Automatic', 'ABS', 'Petrol', 'Mfr_Guarantee', 'Airco', 'Doors', 'const']  AIC: <statsmodels.regression.linear_model.RegressionResultsWrapper object at 0x000001A0C88CFBC8>\n",
      "forward\n",
      "Processed  21 models on 20 predictors in 0.04388308525085449\n",
      "Selected predictors: ['Mfg_Year', 'Automatic_airco', 'HP', 'Weight', 'KM', 'Powered_Windows', 'Quarterly_Tax', 'cc', 'CNG', 'Guarantee_Period', 'Sport_Model', 'BOVAG_Guarantee', 'Metallic_Rim', 'Boardcomputer', 'Mfg_Month', 'Automatic', 'ABS', 'Petrol', 'Mfr_Guarantee', 'Airco', 'const']  AIC: <statsmodels.regression.linear_model.RegressionResultsWrapper object at 0x000001A0C8983D48>\n",
      "Processed  15 models on 22 predictors in 0.02892303466796875\n",
      "Selected predictors: ['Mfg_Year', 'Automatic_airco', 'HP', 'Weight', 'KM', 'Powered_Windows', 'Quarterly_Tax', 'cc', 'CNG', 'Guarantee_Period', 'Sport_Model', 'BOVAG_Guarantee', 'Metallic_Rim', 'Boardcomputer', 'Mfg_Month', 'Automatic', 'ABS', 'Petrol', 'Mfr_Guarantee', 'Airco', 'Doors', 'CD_Player', 'const']  AIC: <statsmodels.regression.linear_model.RegressionResultsWrapper object at 0x000001A0C898F988>\n",
      "forward\n",
      "Processed  22 models on 21 predictors in 0.052860260009765625\n",
      "Selected predictors: ['Mfg_Year', 'Automatic_airco', 'HP', 'Weight', 'KM', 'Powered_Windows', 'Quarterly_Tax', 'cc', 'CNG', 'Guarantee_Period', 'Sport_Model', 'BOVAG_Guarantee', 'Metallic_Rim', 'Boardcomputer', 'Mfg_Month', 'Automatic', 'ABS', 'Petrol', 'Mfr_Guarantee', 'Airco', 'Doors', 'const']  AIC: <statsmodels.regression.linear_model.RegressionResultsWrapper object at 0x000001A0C897E048>\n",
      "Processed  14 models on 23 predictors in 0.03191494941711426\n",
      "Selected predictors: ['Mfg_Year', 'Automatic_airco', 'HP', 'Weight', 'KM', 'Powered_Windows', 'Quarterly_Tax', 'cc', 'CNG', 'Guarantee_Period', 'Sport_Model', 'BOVAG_Guarantee', 'Metallic_Rim', 'Boardcomputer', 'Mfg_Month', 'Automatic', 'ABS', 'Petrol', 'Mfr_Guarantee', 'Airco', 'Doors', 'CD_Player', 'Cylinders', 'const']  AIC: <statsmodels.regression.linear_model.RegressionResultsWrapper object at 0x000001A0C8908D08>\n",
      "forward\n",
      "Processed  23 models on 22 predictors in 0.04587674140930176\n",
      "Selected predictors: ['Mfg_Year', 'Automatic_airco', 'HP', 'Weight', 'KM', 'Powered_Windows', 'Quarterly_Tax', 'cc', 'CNG', 'Guarantee_Period', 'Sport_Model', 'BOVAG_Guarantee', 'Metallic_Rim', 'Boardcomputer', 'Mfg_Month', 'Automatic', 'ABS', 'Petrol', 'Mfr_Guarantee', 'Airco', 'Doors', 'CD_Player', 'const']  AIC: <statsmodels.regression.linear_model.RegressionResultsWrapper object at 0x000001A0C8995A08>\n",
      "Processed  13 models on 24 predictors in 0.03390979766845703\n",
      "Selected predictors: ['Mfg_Year', 'Automatic_airco', 'HP', 'Weight', 'KM', 'Powered_Windows', 'Quarterly_Tax', 'cc', 'CNG', 'Guarantee_Period', 'Sport_Model', 'BOVAG_Guarantee', 'Metallic_Rim', 'Boardcomputer', 'Mfg_Month', 'Automatic', 'ABS', 'Petrol', 'Mfr_Guarantee', 'Airco', 'Doors', 'CD_Player', 'Cylinders', 'Age_08_04', 'const']  AIC: <statsmodels.regression.linear_model.RegressionResultsWrapper object at 0x000001A0C8575308>\n",
      "forward\n",
      "Processed  24 models on 23 predictors in 0.05984020233154297\n",
      "Selected predictors: ['Mfg_Year', 'Automatic_airco', 'HP', 'Weight', 'KM', 'Powered_Windows', 'Quarterly_Tax', 'cc', 'CNG', 'Guarantee_Period', 'Sport_Model', 'BOVAG_Guarantee', 'Metallic_Rim', 'Boardcomputer', 'Mfg_Month', 'Automatic', 'ABS', 'Petrol', 'Mfr_Guarantee', 'Airco', 'Doors', 'CD_Player', 'Cylinders', 'const']  AIC: <statsmodels.regression.linear_model.RegressionResultsWrapper object at 0x000001A0C85F5C48>\n",
      "backward\n",
      "Processed  13 models on 24 predictors in 0.03291201591491699\n",
      "Selected predictors: ['Mfg_Year', 'Automatic_airco', 'HP', 'Weight', 'KM', 'Powered_Windows', 'Quarterly_Tax', 'cc', 'CNG', 'Guarantee_Period', 'Sport_Model', 'BOVAG_Guarantee', 'Metallic_Rim', 'Boardcomputer', 'Mfg_Month', 'Automatic', 'ABS', 'Petrol', 'Mfr_Guarantee', 'Airco', 'Doors', 'CD_Player', 'Cylinders', 'Age_08_04', 'const']  AIC: <statsmodels.regression.linear_model.RegressionResultsWrapper object at 0x000001A0C8B6F788>\n",
      "forward\n",
      "Processed  24 models on 23 predictors in 0.05186104774475098\n",
      "Selected predictors: ['Mfg_Year', 'Automatic_airco', 'HP', 'Weight', 'KM', 'Powered_Windows', 'Quarterly_Tax', 'cc', 'CNG', 'Guarantee_Period', 'Sport_Model', 'BOVAG_Guarantee', 'Metallic_Rim', 'Boardcomputer', 'Mfg_Month', 'Automatic', 'ABS', 'Petrol', 'Mfr_Guarantee', 'Airco', 'Doors', 'CD_Player', 'Cylinders', 'const']  AIC: <statsmodels.regression.linear_model.RegressionResultsWrapper object at 0x000001A0C89561C8>\n",
      "backward\n",
      "Processed  13 models on 24 predictors in 0.03091716766357422\n",
      "Selected predictors: ['Mfg_Year', 'Automatic_airco', 'HP', 'Weight', 'KM', 'Powered_Windows', 'Quarterly_Tax', 'cc', 'CNG', 'Guarantee_Period', 'Sport_Model', 'BOVAG_Guarantee', 'Metallic_Rim', 'Boardcomputer', 'Mfg_Month', 'Automatic', 'ABS', 'Petrol', 'Mfr_Guarantee', 'Airco', 'Doors', 'CD_Player', 'Cylinders', 'Age_08_04', 'const']  AIC: <statsmodels.regression.linear_model.RegressionResultsWrapper object at 0x000001A0C8575148>\n",
      "forward\n",
      "Processed  24 models on 23 predictors in 0.04886984825134277\n",
      "Selected predictors: ['Mfg_Year', 'Automatic_airco', 'HP', 'Weight', 'KM', 'Powered_Windows', 'Quarterly_Tax', 'cc', 'CNG', 'Guarantee_Period', 'Sport_Model', 'BOVAG_Guarantee', 'Metallic_Rim', 'Boardcomputer', 'Mfg_Month', 'Automatic', 'ABS', 'Petrol', 'Mfr_Guarantee', 'Airco', 'Doors', 'CD_Player', 'Cylinders', 'const']  AIC: <statsmodels.regression.linear_model.RegressionResultsWrapper object at 0x000001A0C8B6F288>\n",
      "backward\n",
      "Processed  13 models on 24 predictors in 0.0359039306640625\n",
      "Selected predictors: ['Mfg_Year', 'Automatic_airco', 'HP', 'Weight', 'KM', 'Powered_Windows', 'Quarterly_Tax', 'cc', 'CNG', 'Guarantee_Period', 'Sport_Model', 'BOVAG_Guarantee', 'Metallic_Rim', 'Boardcomputer', 'Mfg_Month', 'Automatic', 'ABS', 'Petrol', 'Mfr_Guarantee', 'Airco', 'Doors', 'CD_Player', 'Cylinders', 'Age_08_04', 'const']  AIC: <statsmodels.regression.linear_model.RegressionResultsWrapper object at 0x000001A0C88CF588>\n",
      "forward\n",
      "Processed  24 models on 23 predictors in 0.056848764419555664\n",
      "Selected predictors: ['Mfg_Year', 'Automatic_airco', 'HP', 'Weight', 'KM', 'Powered_Windows', 'Quarterly_Tax', 'cc', 'CNG', 'Guarantee_Period', 'Sport_Model', 'BOVAG_Guarantee', 'Metallic_Rim', 'Boardcomputer', 'Mfg_Month', 'Automatic', 'ABS', 'Petrol', 'Mfr_Guarantee', 'Airco', 'Doors', 'CD_Player', 'Cylinders', 'const']  AIC: <statsmodels.regression.linear_model.RegressionResultsWrapper object at 0x000001A0C8575688>\n",
      "backward\n",
      "Processed  13 models on 24 predictors in 0.03390932083129883\n",
      "Selected predictors: ['Mfg_Year', 'Automatic_airco', 'HP', 'Weight', 'KM', 'Powered_Windows', 'Quarterly_Tax', 'cc', 'CNG', 'Guarantee_Period', 'Sport_Model', 'BOVAG_Guarantee', 'Metallic_Rim', 'Boardcomputer', 'Mfg_Month', 'Automatic', 'ABS', 'Petrol', 'Mfr_Guarantee', 'Airco', 'Doors', 'CD_Player', 'Cylinders', 'Age_08_04', 'const']  AIC: <statsmodels.regression.linear_model.RegressionResultsWrapper object at 0x000001A0C8B6FC48>\n",
      "forward\n",
      "Processed  24 models on 23 predictors in 0.060837507247924805\n",
      "Selected predictors: ['Mfg_Year', 'Automatic_airco', 'HP', 'Weight', 'KM', 'Powered_Windows', 'Quarterly_Tax', 'cc', 'CNG', 'Guarantee_Period', 'Sport_Model', 'BOVAG_Guarantee', 'Metallic_Rim', 'Boardcomputer', 'Mfg_Month', 'Automatic', 'ABS', 'Petrol', 'Mfr_Guarantee', 'Airco', 'Doors', 'CD_Player', 'Cylinders', 'const']  AIC: <statsmodels.regression.linear_model.RegressionResultsWrapper object at 0x000001A0C899B748>\n",
      "backward\n",
      "Processed  13 models on 24 predictors in 0.0359036922454834\n",
      "Selected predictors: ['Mfg_Year', 'Automatic_airco', 'HP', 'Weight', 'KM', 'Powered_Windows', 'Quarterly_Tax', 'cc', 'CNG', 'Guarantee_Period', 'Sport_Model', 'BOVAG_Guarantee', 'Metallic_Rim', 'Boardcomputer', 'Mfg_Month', 'Automatic', 'ABS', 'Petrol', 'Mfr_Guarantee', 'Airco', 'Doors', 'CD_Player', 'Cylinders', 'Age_08_04', 'const']  AIC: <statsmodels.regression.linear_model.RegressionResultsWrapper object at 0x000001A0C7C08488>\n",
      "forward\n",
      "Processed  24 models on 23 predictors in 0.0578455924987793\n",
      "Selected predictors: ['Mfg_Year', 'Automatic_airco', 'HP', 'Weight', 'KM', 'Powered_Windows', 'Quarterly_Tax', 'cc', 'CNG', 'Guarantee_Period', 'Sport_Model', 'BOVAG_Guarantee', 'Metallic_Rim', 'Boardcomputer', 'Mfg_Month', 'Automatic', 'ABS', 'Petrol', 'Mfr_Guarantee', 'Airco', 'Doors', 'CD_Player', 'Cylinders', 'const']  AIC: <statsmodels.regression.linear_model.RegressionResultsWrapper object at 0x000001A0C8B6F888>\n",
      "backward\n",
      "Processed  13 models on 24 predictors in 0.03490710258483887\n",
      "Selected predictors: ['Mfg_Year', 'Automatic_airco', 'HP', 'Weight', 'KM', 'Powered_Windows', 'Quarterly_Tax', 'cc', 'CNG', 'Guarantee_Period', 'Sport_Model', 'BOVAG_Guarantee', 'Metallic_Rim', 'Boardcomputer', 'Mfg_Month', 'Automatic', 'ABS', 'Petrol', 'Mfr_Guarantee', 'Airco', 'Doors', 'CD_Player', 'Cylinders', 'Age_08_04', 'const']  AIC: <statsmodels.regression.linear_model.RegressionResultsWrapper object at 0x000001A0C894B748>\n",
      "forward\n",
      "Processed  24 models on 23 predictors in 0.0578458309173584\n",
      "Selected predictors: ['Mfg_Year', 'Automatic_airco', 'HP', 'Weight', 'KM', 'Powered_Windows', 'Quarterly_Tax', 'cc', 'CNG', 'Guarantee_Period', 'Sport_Model', 'BOVAG_Guarantee', 'Metallic_Rim', 'Boardcomputer', 'Mfg_Month', 'Automatic', 'ABS', 'Petrol', 'Mfr_Guarantee', 'Airco', 'Doors', 'CD_Player', 'Cylinders', 'const']  AIC: <statsmodels.regression.linear_model.RegressionResultsWrapper object at 0x000001A0C85FEBC8>\n",
      "backward\n",
      "Processed  13 models on 24 predictors in 0.03690147399902344\n",
      "Selected predictors: ['Mfg_Year', 'Automatic_airco', 'HP', 'Weight', 'KM', 'Powered_Windows', 'Quarterly_Tax', 'cc', 'CNG', 'Guarantee_Period', 'Sport_Model', 'BOVAG_Guarantee', 'Metallic_Rim', 'Boardcomputer', 'Mfg_Month', 'Automatic', 'ABS', 'Petrol', 'Mfr_Guarantee', 'Airco', 'Doors', 'CD_Player', 'Cylinders', 'Age_08_04', 'const']  AIC: <statsmodels.regression.linear_model.RegressionResultsWrapper object at 0x000001A0C85F5E08>\n",
      "forward\n",
      "Processed  24 models on 23 predictors in 0.06283211708068848\n",
      "Selected predictors: ['Mfg_Year', 'Automatic_airco', 'HP', 'Weight', 'KM', 'Powered_Windows', 'Quarterly_Tax', 'cc', 'CNG', 'Guarantee_Period', 'Sport_Model', 'BOVAG_Guarantee', 'Metallic_Rim', 'Boardcomputer', 'Mfg_Month', 'Automatic', 'ABS', 'Petrol', 'Mfr_Guarantee', 'Airco', 'Doors', 'CD_Player', 'Cylinders', 'const']  AIC: <statsmodels.regression.linear_model.RegressionResultsWrapper object at 0x000001A0C88CF248>\n",
      "backward\n",
      "Processed  13 models on 24 predictors in 0.037899017333984375\n",
      "Selected predictors: ['Mfg_Year', 'Automatic_airco', 'HP', 'Weight', 'KM', 'Powered_Windows', 'Quarterly_Tax', 'cc', 'CNG', 'Guarantee_Period', 'Sport_Model', 'BOVAG_Guarantee', 'Metallic_Rim', 'Boardcomputer', 'Mfg_Month', 'Automatic', 'ABS', 'Petrol', 'Mfr_Guarantee', 'Airco', 'Doors', 'CD_Player', 'Cylinders', 'Age_08_04', 'const']  AIC: <statsmodels.regression.linear_model.RegressionResultsWrapper object at 0x000001A0C7C1FB88>\n",
      "forward\n",
      "Processed  24 models on 23 predictors in 0.06582522392272949\n",
      "Selected predictors: ['Mfg_Year', 'Automatic_airco', 'HP', 'Weight', 'KM', 'Powered_Windows', 'Quarterly_Tax', 'cc', 'CNG', 'Guarantee_Period', 'Sport_Model', 'BOVAG_Guarantee', 'Metallic_Rim', 'Boardcomputer', 'Mfg_Month', 'Automatic', 'ABS', 'Petrol', 'Mfr_Guarantee', 'Airco', 'Doors', 'CD_Player', 'Cylinders', 'const']  AIC: <statsmodels.regression.linear_model.RegressionResultsWrapper object at 0x000001A0C8902148>\n",
      "backward\n",
      "Processed  13 models on 24 predictors in 0.0359039306640625\n",
      "Selected predictors: ['Mfg_Year', 'Automatic_airco', 'HP', 'Weight', 'KM', 'Powered_Windows', 'Quarterly_Tax', 'cc', 'CNG', 'Guarantee_Period', 'Sport_Model', 'BOVAG_Guarantee', 'Metallic_Rim', 'Boardcomputer', 'Mfg_Month', 'Automatic', 'ABS', 'Petrol', 'Mfr_Guarantee', 'Airco', 'Doors', 'CD_Player', 'Cylinders', 'Age_08_04', 'const']  AIC: <statsmodels.regression.linear_model.RegressionResultsWrapper object at 0x000001A0C7C08808>\n",
      "forward\n",
      "Processed  24 models on 23 predictors in 0.05485224723815918\n",
      "Selected predictors: ['Mfg_Year', 'Automatic_airco', 'HP', 'Weight', 'KM', 'Powered_Windows', 'Quarterly_Tax', 'cc', 'CNG', 'Guarantee_Period', 'Sport_Model', 'BOVAG_Guarantee', 'Metallic_Rim', 'Boardcomputer', 'Mfg_Month', 'Automatic', 'ABS', 'Petrol', 'Mfr_Guarantee', 'Airco', 'Doors', 'CD_Player', 'Cylinders', 'const']  AIC: <statsmodels.regression.linear_model.RegressionResultsWrapper object at 0x000001A0C7C1FE48>\n",
      "backward\n",
      "Processed  13 models on 24 predictors in 0.03789997100830078\n",
      "Selected predictors: ['Mfg_Year', 'Automatic_airco', 'HP', 'Weight', 'KM', 'Powered_Windows', 'Quarterly_Tax', 'cc', 'CNG', 'Guarantee_Period', 'Sport_Model', 'BOVAG_Guarantee', 'Metallic_Rim', 'Boardcomputer', 'Mfg_Month', 'Automatic', 'ABS', 'Petrol', 'Mfr_Guarantee', 'Airco', 'Doors', 'CD_Player', 'Cylinders', 'Age_08_04', 'const']  AIC: <statsmodels.regression.linear_model.RegressionResultsWrapper object at 0x000001A0C7C18988>\n",
      "forward\n",
      "Processed  24 models on 23 predictors in 0.06382918357849121\n",
      "Selected predictors: ['Mfg_Year', 'Automatic_airco', 'HP', 'Weight', 'KM', 'Powered_Windows', 'Quarterly_Tax', 'cc', 'CNG', 'Guarantee_Period', 'Sport_Model', 'BOVAG_Guarantee', 'Metallic_Rim', 'Boardcomputer', 'Mfg_Month', 'Automatic', 'ABS', 'Petrol', 'Mfr_Guarantee', 'Airco', 'Doors', 'CD_Player', 'Cylinders', 'const']  AIC: <statsmodels.regression.linear_model.RegressionResultsWrapper object at 0x000001A0C8575748>\n",
      "backward\n",
      "Processed  13 models on 24 predictors in 0.039893388748168945\n",
      "Selected predictors: ['Mfg_Year', 'Automatic_airco', 'HP', 'Weight', 'KM', 'Powered_Windows', 'Quarterly_Tax', 'cc', 'CNG', 'Guarantee_Period', 'Sport_Model', 'BOVAG_Guarantee', 'Metallic_Rim', 'Boardcomputer', 'Mfg_Month', 'Automatic', 'ABS', 'Petrol', 'Mfr_Guarantee', 'Airco', 'Doors', 'CD_Player', 'Cylinders', 'Age_08_04', 'const']  AIC: <statsmodels.regression.linear_model.RegressionResultsWrapper object at 0x000001A0C85F50C8>\n",
      "forward\n",
      "Processed  24 models on 23 predictors in 0.06582474708557129\n",
      "Selected predictors: ['Mfg_Year', 'Automatic_airco', 'HP', 'Weight', 'KM', 'Powered_Windows', 'Quarterly_Tax', 'cc', 'CNG', 'Guarantee_Period', 'Sport_Model', 'BOVAG_Guarantee', 'Metallic_Rim', 'Boardcomputer', 'Mfg_Month', 'Automatic', 'ABS', 'Petrol', 'Mfr_Guarantee', 'Airco', 'Doors', 'CD_Player', 'Cylinders', 'const']  AIC: <statsmodels.regression.linear_model.RegressionResultsWrapper object at 0x000001A0C88CF508>\n",
      "backward\n",
      "Processed  13 models on 24 predictors in 0.03989410400390625\n",
      "Selected predictors: ['Mfg_Year', 'Automatic_airco', 'HP', 'Weight', 'KM', 'Powered_Windows', 'Quarterly_Tax', 'cc', 'CNG', 'Guarantee_Period', 'Sport_Model', 'BOVAG_Guarantee', 'Metallic_Rim', 'Boardcomputer', 'Mfg_Month', 'Automatic', 'ABS', 'Petrol', 'Mfr_Guarantee', 'Airco', 'Doors', 'CD_Player', 'Cylinders', 'Age_08_04', 'const']  AIC: <statsmodels.regression.linear_model.RegressionResultsWrapper object at 0x000001A0C7E3E148>\n",
      "forward\n",
      "Processed  24 models on 23 predictors in 0.06682205200195312\n",
      "Selected predictors: ['Mfg_Year', 'Automatic_airco', 'HP', 'Weight', 'KM', 'Powered_Windows', 'Quarterly_Tax', 'cc', 'CNG', 'Guarantee_Period', 'Sport_Model', 'BOVAG_Guarantee', 'Metallic_Rim', 'Boardcomputer', 'Mfg_Month', 'Automatic', 'ABS', 'Petrol', 'Mfr_Guarantee', 'Airco', 'Doors', 'CD_Player', 'Cylinders', 'const']  AIC: <statsmodels.regression.linear_model.RegressionResultsWrapper object at 0x000001A0C7C1FF48>\n",
      "backward\n",
      "Total elapsed time: 3.071786880493164 seconds.\n"
     ]
    }
   ],
   "source": [
    "Stepwise_best_model=Stepwise_model(X=train_x,y=train_y)"
   ]
  },
  {
   "cell_type": "code",
   "execution_count": 61,
   "metadata": {},
   "outputs": [
    {
     "data": {
      "text/plain": [
       "16972.719613484085"
      ]
     },
     "execution_count": 61,
     "metadata": {},
     "output_type": "execute_result"
    }
   ],
   "source": [
    "Stepwise_best_model.aic"
   ]
  },
  {
   "cell_type": "markdown",
   "metadata": {},
   "source": [
    "# **성능평가**"
   ]
  },
  {
   "cell_type": "code",
   "execution_count": 62,
   "metadata": {},
   "outputs": [
    {
     "name": "stdout",
     "output_type": "stream",
     "text": [
      "(24,) (23,) (24,)\n"
     ]
    }
   ],
   "source": [
    "# the number of params\n",
    "print(Forward_best_model.params.shape, Backward_best_model.params.shape, Stepwise_best_model.params.shape)"
   ]
  },
  {
   "cell_type": "code",
   "execution_count": 63,
   "metadata": {},
   "outputs": [],
   "source": [
    "# 모델에 의해 예측된/추정된 값 <->  test_y\n",
    "pred_y_full = fitted_full_model.predict(test_x)\n",
    "pred_y_forward = Forward_best_model.predict(test_x[Forward_best_model.model.exog_names])\n",
    "pred_y_backward = Backward_best_model.predict(test_x[Backward_best_model.model.exog_names])\n",
    "pred_y_stepwise = Stepwise_best_model.predict(test_x[Stepwise_best_model.model.exog_names])"
   ]
  },
  {
   "cell_type": "code",
   "execution_count": 64,
   "metadata": {},
   "outputs": [],
   "source": [
    "perf_mat = pd.DataFrame(columns=[\"ALL\", \"FORWARD\", \"BACKWARD\", \"STEPWISE\"],\n",
    "                        index =['MSE', 'RMSE','MAE', 'MAPE'])"
   ]
  },
  {
   "cell_type": "code",
   "execution_count": 65,
   "metadata": {},
   "outputs": [],
   "source": [
    "def mean_absolute_percentage_error(y_true, y_pred):\n",
    "    y_true, y_pred = np.array(y_true), np.array(y_pred)\n",
    "    return np.mean(np.abs((y_true - y_pred) / y_true)) * 100"
   ]
  },
  {
   "cell_type": "code",
   "execution_count": 66,
   "metadata": {},
   "outputs": [
    {
     "name": "stdout",
     "output_type": "stream",
     "text": [
      "              ALL      FORWARD     BACKWARD     STEPWISE\n",
      "MSE   7.56418e+06  7.90926e+06  7.90926e+06  7.90926e+06\n",
      "RMSE      2750.31      2812.34      2812.34      2812.34\n",
      "MAE       923.469      929.928      929.928      929.928\n",
      "MAPE       8.7147      8.76357      8.76357      8.76357\n"
     ]
    }
   ],
   "source": [
    "# 성능지표\n",
    "perf_mat.loc['MSE']['ALL'] = metrics.mean_squared_error(test_y,pred_y_full)\n",
    "perf_mat.loc['MSE']['FORWARD'] = metrics.mean_squared_error(test_y,pred_y_forward)\n",
    "perf_mat.loc['MSE']['BACKWARD'] = metrics.mean_squared_error(test_y,pred_y_backward)\n",
    "perf_mat.loc['MSE']['STEPWISE'] = metrics.mean_squared_error(test_y,pred_y_stepwise)\n",
    "\n",
    "perf_mat.loc['RMSE']['ALL'] = np.sqrt(metrics.mean_squared_error(test_y, pred_y_full))\n",
    "perf_mat.loc['RMSE']['FORWARD'] = np.sqrt(metrics.mean_squared_error(test_y, pred_y_forward))\n",
    "perf_mat.loc['RMSE']['BACKWARD'] = np.sqrt(metrics.mean_squared_error(test_y, pred_y_backward))\n",
    "perf_mat.loc['RMSE']['STEPWISE'] = np.sqrt(metrics.mean_squared_error(test_y, pred_y_stepwise))\n",
    "\n",
    "perf_mat.loc['MAE']['ALL'] = metrics.mean_absolute_error(test_y, pred_y_full)\n",
    "perf_mat.loc['MAE']['FORWARD'] = metrics.mean_absolute_error(test_y, pred_y_forward)\n",
    "perf_mat.loc['MAE']['BACKWARD'] = metrics.mean_absolute_error(test_y, pred_y_backward)\n",
    "perf_mat.loc['MAE']['STEPWISE'] = metrics.mean_absolute_error(test_y, pred_y_stepwise)\n",
    "\n",
    "perf_mat.loc['MAPE']['ALL'] = mean_absolute_percentage_error(test_y, pred_y_full)\n",
    "perf_mat.loc['MAPE']['FORWARD'] = mean_absolute_percentage_error(test_y, pred_y_forward)\n",
    "perf_mat.loc['MAPE']['BACKWARD'] = mean_absolute_percentage_error(test_y, pred_y_backward)\n",
    "perf_mat.loc['MAPE']['STEPWISE'] = mean_absolute_percentage_error(test_y, pred_y_stepwise)\n",
    "\n",
    "print(perf_mat)"
   ]
  },
  {
   "cell_type": "code",
   "execution_count": null,
   "metadata": {},
   "outputs": [],
   "source": []
  },
  {
   "cell_type": "markdown",
   "metadata": {},
   "source": [
    "\n",
    "## **3. 유전알고리즘을 이용한 변수선택법 실습**"
   ]
  },
  {
   "cell_type": "markdown",
   "metadata": {},
   "source": [
    "### **유전알고리즘을 이용한 변수선택법**"
   ]
  },
  {
   "cell_type": "markdown",
   "metadata": {},
   "source": [
    "- feature-selection-ga: 파이썬 레포지토리에서 공개된 유전알고리즘기반 변수선택방법론 패키지  \n",
    "https://featureselectionga.readthedocs.io/en/latest/"
   ]
  },
  {
   "cell_type": "markdown",
   "metadata": {},
   "source": [
    "<img src = \"./fig/5_featureselectionGA.PNG\" width=\"60%\">"
   ]
  },
  {
   "cell_type": "code",
   "execution_count": 67,
   "metadata": {},
   "outputs": [],
   "source": [
    "#!pip install feature-selection-ga"
   ]
  },
  {
   "cell_type": "code",
   "execution_count": 68,
   "metadata": {},
   "outputs": [],
   "source": [
    "from sklearn.datasets import make_classification\n",
    "from sklearn import linear_model\n",
    "from feature_selection_ga import FeatureSelectionGA, FitnessFunction\n",
    "\n",
    "import warnings\n",
    "warnings.filterwarnings('ignore')"
   ]
  },
  {
   "cell_type": "markdown",
   "metadata": {},
   "source": [
    "<img src = \"./fig/4_유전알고리즘학습절차.PNG\" width=\"60%\">"
   ]
  },
  {
   "cell_type": "markdown",
   "metadata": {},
   "source": [
    "예제 데이터 생성\n",
    "- classification 데이터셋을 생성, 15개의 변수로 구성된 데이터를 통해 3개 class를 예측하는 가상 데이터셋을 생성"
   ]
  },
  {
   "cell_type": "code",
   "execution_count": 69,
   "metadata": {},
   "outputs": [],
   "source": [
    "X, y = make_classification(n_samples=100, n_features=15, n_classes=3,\n",
    "                           n_informative=4, n_redundant=1, n_repeated=2,\n",
    "                           random_state=1)"
   ]
  },
  {
   "cell_type": "code",
   "execution_count": 70,
   "metadata": {},
   "outputs": [
    {
     "data": {
      "text/plain": [
       "array([0, 0, 0, 2, 2, 1, 1, 2, 2, 0, 0, 1, 0, 2, 1, 1, 1, 2, 0, 0, 2, 2,\n",
       "       1, 0, 1, 0, 0, 0, 2, 0, 0, 2, 1, 0, 0, 0, 1, 0, 1, 1, 0, 0, 1, 2,\n",
       "       2, 1, 2, 1, 2, 2, 0, 2, 1, 2, 1, 1, 2, 1, 1, 2, 1, 2, 2, 0, 2, 1,\n",
       "       1, 1, 2, 2, 2, 0, 0, 0, 0, 2, 1, 0, 2, 1, 2, 2, 2, 1, 0, 2, 0, 2,\n",
       "       1, 0, 0, 0, 1, 1, 1, 2, 0, 0, 1, 2])"
      ]
     },
     "execution_count": 70,
     "metadata": {},
     "output_type": "execute_result"
    }
   ],
   "source": [
    "y"
   ]
  },
  {
   "cell_type": "code",
   "execution_count": 71,
   "metadata": {},
   "outputs": [
    {
     "name": "stdout",
     "output_type": "stream",
     "text": [
      "X shape:  (100, 15)\n",
      "Y shape:  (100,)\n",
      "Y class: {0, 1, 2}\n"
     ]
    }
   ],
   "source": [
    "print('X shape: ',X.shape)\n",
    "print('Y shape: ',y.shape)\n",
    "print('Y class:', set(y))"
   ]
  },
  {
   "cell_type": "markdown",
   "metadata": {},
   "source": [
    "### 적합하고자하는 모델을 정의\n",
    "- 적합하고자 하는 모델을 정의\n",
    "- ```feature_selection_ga``` 패키지에서 제공하는 **FeatureSelectionGA()** 함수를 활용하여 유전알고리즘을 설정"
   ]
  },
  {
   "cell_type": "code",
   "execution_count": 72,
   "metadata": {},
   "outputs": [],
   "source": [
    "\n",
    "model = linear_model.LogisticRegression(solver='lbfgs', multi_class='auto')\n",
    "fsga = FeatureSelectionGA(model,X,y, ff_obj = FitnessFunction())\n",
    "\n"
   ]
  },
  {
   "cell_type": "markdown",
   "metadata": {},
   "source": [
    "- 원하는 iteration 만큼 유전학습을 수행합니다.\n",
    "\n",
    "최종적으로 마지막 iteration의 선택된 변수 index를 확인하여 선택된 index 기준의 변수를 확인합니다."
   ]
  },
  {
   "cell_type": "code",
   "execution_count": 73,
   "metadata": {},
   "outputs": [
    {
     "name": "stdout",
     "output_type": "stream",
     "text": [
      "EVOLVING.......\n",
      "-- GENERATION 1 --\n",
      "Evaluated 60 individuals\n",
      "-- GENERATION 2 --\n",
      "Evaluated 63 individuals\n",
      "-- GENERATION 3 --\n",
      "Evaluated 64 individuals\n",
      "-- GENERATION 4 --\n",
      "Evaluated 62 individuals\n",
      "-- GENERATION 5 --\n",
      "Evaluated 65 individuals\n",
      "-- Only the fittest survives --\n",
      "Best individual is [0, 1, 0, 0, 0, 0, 0, 1, 0, 1, 0, 1, 0, 1, 0], (0.69,)\n"
     ]
    }
   ],
   "source": [
    "iter_num = 100\n",
    "pop1 = fsga.generate(iter_num)"
   ]
  },
  {
   "cell_type": "code",
   "execution_count": 74,
   "metadata": {},
   "outputs": [
    {
     "name": "stdout",
     "output_type": "stream",
     "text": [
      "EVOLVING.......\n",
      "-- GENERATION 1 --\n",
      "Evaluated 124 individuals\n",
      "-- GENERATION 2 --\n",
      "Evaluated 117 individuals\n",
      "-- GENERATION 3 --\n",
      "Evaluated 123 individuals\n",
      "-- GENERATION 4 --\n",
      "Evaluated 116 individuals\n",
      "-- GENERATION 5 --\n",
      "Evaluated 115 individuals\n",
      "-- Only the fittest survives --\n",
      "Best individual is [1, 1, 0, 0, 1, 1, 0, 0, 0, 0, 0, 1, 0, 1, 0], (0.71,)\n"
     ]
    }
   ],
   "source": [
    "iter_num2 = 200\n",
    "pop2 = fsga.generate(iter_num2)"
   ]
  },
  {
   "cell_type": "code",
   "execution_count": 75,
   "metadata": {},
   "outputs": [
    {
     "name": "stdout",
     "output_type": "stream",
     "text": [
      "After 100 iter: [1, 0, 1, 0, 0, 1, 0, 1, 0, 1, 1, 1, 0, 1, 0]\n",
      "After 200 iter: [1, 1, 0, 1, 1, 1, 0, 0, 0, 0, 0, 1, 1, 1, 0]\n"
     ]
    }
   ],
   "source": [
    "print('After 100 iter:',pop1[-1])\n",
    "print('After 200 iter:',pop2[-1])"
   ]
  },
  {
   "cell_type": "markdown",
   "metadata": {},
   "source": [
    "##  Personal Loan 데이터셋을 통한 유전알고리즘 실습"
   ]
  },
  {
   "cell_type": "markdown",
   "metadata": {},
   "source": [
    "로지스틱회귀분석을 기준으로 **1)전체 변수를 활용한 모델**과 **2)유전알고리즘을 통해 선택된 변수만을 활용한 모델**의 성능비교를 수행해봅시다.\n",
    "\n",
    "데이터는 Personal Loan 데이터셋을 활용하도록 하겠습니다.\n",
    "이전시간에 수행한 로지스틱회귀분석의 절차를 동일하게 수행해보도록 하겠습니다."
   ]
  },
  {
   "cell_type": "code",
   "execution_count": 76,
   "metadata": {},
   "outputs": [
    {
     "name": "stdout",
     "output_type": "stream",
     "text": [
      "   ID  Age  Experience  Income  ZIP Code  Family  CCAvg  Education  Mortgage  \\\n",
      "0   1   25           1      49     91107       4    1.6          1         0   \n",
      "1   2   45          19      34     90089       3    1.5          1         0   \n",
      "2   3   39          15      11     94720       1    1.0          1         0   \n",
      "3   4   35           9     100     94112       1    2.7          2         0   \n",
      "4   5   35           8      45     91330       4    1.0          2         0   \n",
      "5   6   37          13      29     92121       4    0.4          2       155   \n",
      "6   7   53          27      72     91711       2    1.5          2         0   \n",
      "7   8   50          24      22     93943       1    0.3          3         0   \n",
      "8   9   35          10      81     90089       3    0.6          2       104   \n",
      "9  10   34           9     180     93023       1    8.9          3         0   \n",
      "\n",
      "   Personal Loan  Securities Account  CD Account  Online  CreditCard  \n",
      "0              0                   1           0       0           0  \n",
      "1              0                   1           0       0           0  \n",
      "2              0                   0           0       0           0  \n",
      "3              0                   0           0       0           0  \n",
      "4              0                   0           0       0           1  \n",
      "5              0                   0           0       1           0  \n",
      "6              0                   0           0       1           0  \n",
      "7              0                   0           0       0           1  \n",
      "8              0                   0           0       1           0  \n",
      "9              1                   0           0       0           0  \n"
     ]
    }
   ],
   "source": [
    "ploan = pd.read_csv(\"./data/Personal Loan.csv\")\n",
    "print( ploan.head(10) )"
   ]
  },
  {
   "cell_type": "code",
   "execution_count": 77,
   "metadata": {},
   "outputs": [],
   "source": [
    "feature_columns = list(ploan_processed.columns.difference([\"Personal Loan\"]))\n",
    "X = ploan_processed[feature_columns]\n",
    "y = ploan_processed['Personal Loan'] # 대출여부: 1 or 0"
   ]
  },
  {
   "cell_type": "code",
   "execution_count": 78,
   "metadata": {},
   "outputs": [
    {
     "name": "stdout",
     "output_type": "stream",
     "text": [
      "(1750, 12) (750, 12) (1750,) (750,)\n"
     ]
    }
   ],
   "source": [
    "train_x, test_x, train_y, test_y = train_test_split(X, y, stratify=y,train_size=0.7,test_size=0.3,random_state=42)\n",
    "print(train_x.shape, test_x.shape, train_y.shape, test_y.shape)"
   ]
  },
  {
   "cell_type": "code",
   "execution_count": 79,
   "metadata": {},
   "outputs": [
    {
     "data": {
      "text/plain": [
       "array([0, 0, 0, ..., 0, 0, 0], dtype=int64)"
      ]
     },
     "execution_count": 79,
     "metadata": {},
     "output_type": "execute_result"
    }
   ],
   "source": [
    "train_y.values"
   ]
  },
  {
   "cell_type": "code",
   "execution_count": 80,
   "metadata": {},
   "outputs": [],
   "source": [
    "train_x, test_x, train_y, test_y = train_x.values, test_x.values, train_y.values, test_y.values"
   ]
  },
  {
   "cell_type": "markdown",
   "metadata": {},
   "source": [
    "#### personal loan 데이터셋을 기준으로 유전알고리즘을 통해 변수선택을 수행"
   ]
  },
  {
   "cell_type": "code",
   "execution_count": 81,
   "metadata": {},
   "outputs": [],
   "source": [
    "model = linear_model.LogisticRegression(solver='lbfgs', multi_class='auto')\n",
    "ploan_fsga = FeatureSelectionGA(model,train_x,train_y, ff_obj = FitnessFunction())"
   ]
  },
  {
   "cell_type": "markdown",
   "metadata": {},
   "source": [
    "- iteraion은 100회를 수행"
   ]
  },
  {
   "cell_type": "code",
   "execution_count": 82,
   "metadata": {
    "scrolled": true
   },
   "outputs": [
    {
     "name": "stdout",
     "output_type": "stream",
     "text": [
      "EVOLVING.......\n",
      "-- GENERATION 1 --\n",
      "Evaluated 61 individuals\n",
      "-- GENERATION 2 --\n",
      "Evaluated 63 individuals\n",
      "-- GENERATION 3 --\n",
      "Evaluated 45 individuals\n",
      "-- GENERATION 4 --\n",
      "Evaluated 55 individuals\n",
      "-- GENERATION 5 --\n",
      "Evaluated 58 individuals\n",
      "-- Only the fittest survives --\n",
      "Best individual is [0, 1, 1, 1, 1, 0, 1, 1, 1, 0, 0, 0], (0.9514285714285714,)\n"
     ]
    }
   ],
   "source": [
    "iter_num = 100\n",
    "ploan_pop = ploan_fsga.generate(iter_num)"
   ]
  },
  {
   "cell_type": "markdown",
   "metadata": {},
   "source": [
    "최종적으로 마지막 iteration의 population을 확인"
   ]
  },
  {
   "cell_type": "code",
   "execution_count": 83,
   "metadata": {},
   "outputs": [
    {
     "name": "stdout",
     "output_type": "stream",
     "text": [
      "[0, 1, 1, 1, 1, 0, 1, 1, 1, 0, 0, 0]\n"
     ]
    }
   ],
   "source": [
    "feature_idx = ploan_pop[-1]\n",
    "print(feature_idx)"
   ]
  },
  {
   "cell_type": "markdown",
   "metadata": {},
   "source": [
    "선택된 변수목록을 이진형으로 변환"
   ]
  },
  {
   "cell_type": "code",
   "execution_count": 84,
   "metadata": {},
   "outputs": [
    {
     "data": {
      "text/plain": [
       "[False, True, True, True, True, False, True, True, True, False, False, False]"
      ]
     },
     "execution_count": 84,
     "metadata": {},
     "output_type": "execute_result"
    }
   ],
   "source": [
    "feature_idx = [bool(i) for i in feature_idx]\n",
    "feature_idx\n"
   ]
  },
  {
   "cell_type": "markdown",
   "metadata": {},
   "source": [
    "유전알고리즘 학습결과 선택된 변수목록은 아래와 같습니다."
   ]
  },
  {
   "cell_type": "code",
   "execution_count": 85,
   "metadata": {},
   "outputs": [
    {
     "name": "stdout",
     "output_type": "stream",
     "text": [
      "Selected Features: ['CCAvg', 'CD Account', 'CreditCard', 'Education', 'Family', 'Income', 'Mortgage']\n"
     ]
    }
   ],
   "source": [
    "from itertools import compress\n",
    "selected_features = list(compress(feature_columns, feature_idx))\n",
    "print(\"Selected Features:\",selected_features)\n"
   ]
  },
  {
   "cell_type": "markdown",
   "metadata": {},
   "source": [
    "선택된 변수를 기준으로 **축소된 학습데이터셋을 정의**합니다.\n"
   ]
  },
  {
   "cell_type": "code",
   "execution_count": 86,
   "metadata": {},
   "outputs": [
    {
     "name": "stdout",
     "output_type": "stream",
     "text": [
      "after selection train_x: (1750, 7)\n",
      "after selection test_x: (750, 7)\n"
     ]
    }
   ],
   "source": [
    "sel_train_x = train_x[:,feature_idx]\n",
    "sel_test_x = test_x[:,feature_idx]\n",
    "\n",
    "print(\"after selection train_x:\",sel_train_x.shape)\n",
    "print(\"after selection test_x:\",sel_test_x.shape)\n"
   ]
  },
  {
   "cell_type": "markdown",
   "metadata": {},
   "source": [
    "비교를 위해 전체 변수를 모두 활용한 ```full_model```의 학습을 수행하고, 평가데이터에 대한 예측성능을 확인합니다."
   ]
  },
  {
   "cell_type": "code",
   "execution_count": 87,
   "metadata": {},
   "outputs": [],
   "source": [
    "full_model = linear_model.LogisticRegression(solver='lbfgs', multi_class='auto')\n",
    "full_model.fit(train_x, train_y)\n",
    "\n",
    "train_pred = full_model.predict(train_x)\n",
    "test_pred = full_model.predict(test_x)\n",
    "\n",
    "full_conf = confusion_matrix(test_y, test_pred)"
   ]
  },
  {
   "cell_type": "code",
   "execution_count": 88,
   "metadata": {},
   "outputs": [
    {
     "name": "stdout",
     "output_type": "stream",
     "text": [
      "학습 정오행렬 \n",
      "[[1541   30]\n",
      " [  69  110]]\n",
      "테스트 정오행렬 \n",
      "[[665   8]\n",
      " [ 32  45]]\n",
      "\n",
      "학습 정확도 : 0.9434\n",
      "테스트 정확도 : 0.9467\n"
     ]
    }
   ],
   "source": [
    "print(f'학습 정오행렬 \\n{confusion_matrix(train_y, train_pred)}')\n",
    "print(f'테스트 정오행렬 \\n{confusion_matrix(test_y, test_pred)}\\n')\n",
    "print(f'학습 정확도 : {accuracy_score(train_y, train_pred):.4f}')\n",
    "print(f'테스트 정확도 : {accuracy_score(test_y, test_pred):.4f}')"
   ]
  },
  {
   "cell_type": "markdown",
   "metadata": {},
   "source": [
    "유전알고리즘을 통해 선택된 변수들만을 활용한 ```ga_model```의 학습을 수행하고, 평가데이터에 대한 예측성능을 확인합니다."
   ]
  },
  {
   "cell_type": "code",
   "execution_count": 89,
   "metadata": {},
   "outputs": [],
   "source": [
    "ga_model = linear_model.LogisticRegression(solver='lbfgs', multi_class='auto')\n",
    "ga_model.fit(sel_train_x, train_y)\n",
    "\n",
    "train_pred_ga = ga_model.predict(sel_train_x)\n",
    "test_pred_ga = ga_model.predict(sel_test_x)\n",
    "\n",
    "ga_conf = confusion_matrix(test_y, test_pred_ga)"
   ]
  },
  {
   "cell_type": "code",
   "execution_count": 90,
   "metadata": {},
   "outputs": [
    {
     "name": "stdout",
     "output_type": "stream",
     "text": [
      "학습 정오행렬 \n",
      "[[1549   22]\n",
      " [  62  117]]\n",
      "테스트 정오행렬 \n",
      "[[661  12]\n",
      " [ 31  46]]\n",
      "\n",
      "학습 정확도 : 0.9520\n",
      "테스트 정확도 : 0.9427\n"
     ]
    }
   ],
   "source": [
    "print(f'학습 정오행렬 \\n{confusion_matrix(train_y, train_pred_ga)}')\n",
    "print(f'테스트 정오행렬 \\n{confusion_matrix(test_y, test_pred_ga)}\\n')\n",
    "print(f'학습 정확도 : {accuracy_score(train_y, train_pred_ga):.4f}')\n",
    "print(f'테스트 정확도 : {accuracy_score(test_y, test_pred_ga):.4f}')"
   ]
  },
  {
   "cell_type": "code",
   "execution_count": 91,
   "metadata": {},
   "outputs": [],
   "source": [
    "def perf_eval(cm):\n",
    "    # True positive rate: TPR\n",
    "    TPR = cm[1, 1] / sum(cm[1]) # recall\n",
    "    # True negative rate: TNR\n",
    "    TNR = cm[0, 0] / sum(cm[0])\n",
    "    # Simple Accuracy\n",
    "    ACC = (cm[0, 0] + cm[1, 1]) / sum(cm.reshape(-1,))\n",
    "    # Balanced Correction Rate\n",
    "    BCR = np.sqrt(TPR * TNR)\n",
    "    # F1-measure\n",
    "    Precision = cm[1,1] /sum(cm[:,1])\n",
    "    F1 = 2*TPR*Precision/(TPR+Precision)\n",
    "    return ([TPR, TNR, ACC, BCR, F1])"
   ]
  },
  {
   "cell_type": "code",
   "execution_count": 92,
   "metadata": {},
   "outputs": [],
   "source": [
    "perf_mat = pd.DataFrame(columns=[\"TPR\", \"TNR\", \"ACC\", \"BCR\",\"F1\"],\n",
    "                        index =['FULL', 'GA_Selection'])\n",
    "\n",
    "\n",
    "perf_mat.loc['FULL']=perf_eval(full_conf)\n",
    "perf_mat.loc['GA_Selection']=perf_eval(ga_conf)\n",
    "\n",
    "perf_mat['Features'] = [train_x.shape[1],sel_train_x.shape[1]]"
   ]
  },
  {
   "cell_type": "code",
   "execution_count": 93,
   "metadata": {},
   "outputs": [
    {
     "data": {
      "text/html": [
       "<div>\n",
       "<style scoped>\n",
       "    .dataframe tbody tr th:only-of-type {\n",
       "        vertical-align: middle;\n",
       "    }\n",
       "\n",
       "    .dataframe tbody tr th {\n",
       "        vertical-align: top;\n",
       "    }\n",
       "\n",
       "    .dataframe thead th {\n",
       "        text-align: right;\n",
       "    }\n",
       "</style>\n",
       "<table border=\"1\" class=\"dataframe\">\n",
       "  <thead>\n",
       "    <tr style=\"text-align: right;\">\n",
       "      <th></th>\n",
       "      <th>TPR</th>\n",
       "      <th>TNR</th>\n",
       "      <th>ACC</th>\n",
       "      <th>BCR</th>\n",
       "      <th>F1</th>\n",
       "      <th>Features</th>\n",
       "    </tr>\n",
       "  </thead>\n",
       "  <tbody>\n",
       "    <tr>\n",
       "      <th>FULL</th>\n",
       "      <td>0.584416</td>\n",
       "      <td>0.988113</td>\n",
       "      <td>0.946667</td>\n",
       "      <td>0.759914</td>\n",
       "      <td>0.692308</td>\n",
       "      <td>12</td>\n",
       "    </tr>\n",
       "    <tr>\n",
       "      <th>GA_Selection</th>\n",
       "      <td>0.597403</td>\n",
       "      <td>0.982169</td>\n",
       "      <td>0.942667</td>\n",
       "      <td>0.765996</td>\n",
       "      <td>0.681481</td>\n",
       "      <td>7</td>\n",
       "    </tr>\n",
       "  </tbody>\n",
       "</table>\n",
       "</div>"
      ],
      "text/plain": [
       "                   TPR       TNR       ACC       BCR        F1  Features\n",
       "FULL          0.584416  0.988113  0.946667  0.759914  0.692308        12\n",
       "GA_Selection  0.597403  0.982169  0.942667  0.765996  0.681481         7"
      ]
     },
     "execution_count": 93,
     "metadata": {},
     "output_type": "execute_result"
    }
   ],
   "source": [
    "perf_mat"
   ]
  }
 ],
 "metadata": {
  "kernelspec": {
   "display_name": "hynix",
   "language": "python",
   "name": "hynix"
  },
  "language_info": {
   "codemirror_mode": {
    "name": "ipython",
    "version": 3
   },
   "file_extension": ".py",
   "mimetype": "text/x-python",
   "name": "python",
   "nbconvert_exporter": "python",
   "pygments_lexer": "ipython3",
   "version": "3.7.9"
  }
 },
 "nbformat": 4,
 "nbformat_minor": 4
}
