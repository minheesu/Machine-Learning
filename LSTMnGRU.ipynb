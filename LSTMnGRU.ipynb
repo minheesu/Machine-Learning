{
  "nbformat": 4,
  "nbformat_minor": 0,
  "metadata": {
    "kernelspec": {
      "display_name": "TensorFlow 2.3 on Python 3.6 (CUDA 10.1)",
      "language": "python",
      "name": "python3"
    },
    "language_info": {
      "codemirror_mode": {
        "name": "ipython",
        "version": 3
      },
      "file_extension": ".py",
      "mimetype": "text/x-python",
      "name": "python",
      "nbconvert_exporter": "python",
      "pygments_lexer": "ipython3",
      "version": "3.6.9"
    },
    "colab": {
      "name": "9-3.ipynb",
      "provenance": []
    },
    "accelerator": "GPU"
  },
  "cells": [
    {
      "cell_type": "markdown",
      "metadata": {
        "id": "AlaMdWF26k2H"
      },
      "source": [
        "# LSTM과 GRU 셀"
      ]
    },
    {
      "cell_type": "markdown",
      "metadata": {
        "id": "KWi9yl0q6k2N"
      },
      "source": [
        "## LSTM 신경망 훈련하기"
      ]
    },
    {
      "cell_type": "code",
      "metadata": {
        "execution": {
          "iopub.execute_input": "2020-10-12T09:05:30.590337Z",
          "iopub.status.busy": "2020-10-12T09:05:30.589154Z",
          "iopub.status.idle": "2020-10-12T09:05:40.880700Z",
          "shell.execute_reply": "2020-10-12T09:05:40.879133Z"
        },
        "id": "XL7x0NCx6k2N",
        "colab": {
          "base_uri": "https://localhost:8080/"
        },
        "outputId": "d5c9f55e-6a51-49b7-e739-d2242adddcae"
      },
      "source": [
        "from tensorflow.keras.datasets import imdb\n",
        "from sklearn.model_selection import train_test_split\n",
        "\n",
        "(train_input, train_target), (test_input, test_target) = imdb.load_data(\n",
        "    num_words=500)\n",
        "\n",
        "train_input, val_input, train_target, val_target = train_test_split(\n",
        "    train_input, train_target, test_size=0.2, random_state=42)"
      ],
      "execution_count": null,
      "outputs": [
        {
          "output_type": "stream",
          "text": [
            "Downloading data from https://storage.googleapis.com/tensorflow/tf-keras-datasets/imdb.npz\n",
            "17465344/17464789 [==============================] - 0s 0us/step\n",
            "17473536/17464789 [==============================] - 0s 0us/step\n"
          ],
          "name": "stdout"
        }
      ]
    },
    {
      "cell_type": "code",
      "metadata": {
        "execution": {
          "iopub.execute_input": "2020-10-12T09:05:40.904623Z",
          "iopub.status.busy": "2020-10-12T09:05:40.902896Z",
          "iopub.status.idle": "2020-10-12T09:05:41.543511Z",
          "shell.execute_reply": "2020-10-12T09:05:41.542251Z"
        },
        "id": "5bjJ14QJ6k2O"
      },
      "source": [
        "from tensorflow.keras.preprocessing.sequence import pad_sequences\n",
        "\n",
        "train_seq = pad_sequences(train_input, maxlen=100)\n",
        "val_seq = pad_sequences(val_input, maxlen=100)"
      ],
      "execution_count": null,
      "outputs": []
    },
    {
      "cell_type": "code",
      "metadata": {
        "execution": {
          "iopub.execute_input": "2020-10-12T09:05:41.551517Z",
          "iopub.status.busy": "2020-10-12T09:05:41.550145Z",
          "iopub.status.idle": "2020-10-12T09:05:43.982644Z",
          "shell.execute_reply": "2020-10-12T09:05:43.983878Z"
        },
        "id": "uMlTD4zv6k2O",
        "colab": {
          "base_uri": "https://localhost:8080/"
        },
        "outputId": "dc7c0080-f72c-4032-caf4-1a8e63202989"
      },
      "source": [
        "from tensorflow import keras\n",
        "\n",
        "model = keras.Sequential()\n",
        "\n",
        "model.add(keras.layers.Embedding(500, 16, input_length=100))\n",
        "model.add(keras.layers.LSTM(8))\n",
        "model.add(keras.layers.Dense(1, activation='sigmoid'))\n",
        "\n",
        "model.summary()"
      ],
      "execution_count": null,
      "outputs": [
        {
          "output_type": "stream",
          "text": [
            "Model: \"sequential\"\n",
            "_________________________________________________________________\n",
            "Layer (type)                 Output Shape              Param #   \n",
            "=================================================================\n",
            "embedding (Embedding)        (None, 100, 16)           8000      \n",
            "_________________________________________________________________\n",
            "lstm (LSTM)                  (None, 8)                 800       \n",
            "_________________________________________________________________\n",
            "dense (Dense)                (None, 1)                 9         \n",
            "=================================================================\n",
            "Total params: 8,809\n",
            "Trainable params: 8,809\n",
            "Non-trainable params: 0\n",
            "_________________________________________________________________\n"
          ],
          "name": "stdout"
        }
      ]
    },
    {
      "cell_type": "code",
      "metadata": {
        "execution": {
          "iopub.execute_input": "2020-10-12T09:05:44.007411Z",
          "iopub.status.busy": "2020-10-12T09:05:44.005663Z",
          "iopub.status.idle": "2020-10-12T09:09:36.703760Z",
          "shell.execute_reply": "2020-10-12T09:09:36.702162Z"
        },
        "id": "nCmqOkjI6k2P",
        "colab": {
          "base_uri": "https://localhost:8080/"
        },
        "outputId": "5057828c-5f90-48a5-fafa-c31f7407cc4c"
      },
      "source": [
        "rmsprop = keras.optimizers.RMSprop(learning_rate=1e-4)\n",
        "model.compile(optimizer=rmsprop, loss='binary_crossentropy', \n",
        "              metrics=['accuracy'])\n",
        "\n",
        "checkpoint_cb = keras.callbacks.ModelCheckpoint('best-lstm-model.h5', \n",
        "                                                save_best_only=True)\n",
        "early_stopping_cb = keras.callbacks.EarlyStopping(patience=3,\n",
        "                                                  restore_best_weights=True)\n",
        "\n",
        "history = model.fit(train_seq, train_target, epochs=100, batch_size=64,\n",
        "                    validation_data=(val_seq, val_target),\n",
        "                    callbacks=[checkpoint_cb, early_stopping_cb])"
      ],
      "execution_count": null,
      "outputs": [
        {
          "output_type": "stream",
          "text": [
            "Epoch 1/100\n",
            "313/313 [==============================] - 13s 21ms/step - loss: 0.6922 - accuracy: 0.5435 - val_loss: 0.6906 - val_accuracy: 0.5886\n",
            "Epoch 2/100\n",
            "313/313 [==============================] - 6s 20ms/step - loss: 0.6877 - accuracy: 0.6327 - val_loss: 0.6829 - val_accuracy: 0.6708\n",
            "Epoch 3/100\n",
            "313/313 [==============================] - 6s 20ms/step - loss: 0.6647 - accuracy: 0.6944 - val_loss: 0.6343 - val_accuracy: 0.7098\n",
            "Epoch 4/100\n",
            "313/313 [==============================] - 6s 20ms/step - loss: 0.6053 - accuracy: 0.7117 - val_loss: 0.5918 - val_accuracy: 0.7134\n",
            "Epoch 5/100\n",
            "313/313 [==============================] - 6s 19ms/step - loss: 0.5763 - accuracy: 0.7304 - val_loss: 0.5709 - val_accuracy: 0.7320\n",
            "Epoch 6/100\n",
            "313/313 [==============================] - 6s 19ms/step - loss: 0.5540 - accuracy: 0.7467 - val_loss: 0.5487 - val_accuracy: 0.7470\n",
            "Epoch 7/100\n",
            "313/313 [==============================] - 6s 20ms/step - loss: 0.5326 - accuracy: 0.7625 - val_loss: 0.5285 - val_accuracy: 0.7602\n",
            "Epoch 8/100\n",
            "313/313 [==============================] - 6s 20ms/step - loss: 0.5124 - accuracy: 0.7727 - val_loss: 0.5122 - val_accuracy: 0.7666\n",
            "Epoch 9/100\n",
            "313/313 [==============================] - 6s 19ms/step - loss: 0.4955 - accuracy: 0.7830 - val_loss: 0.5002 - val_accuracy: 0.7724\n",
            "Epoch 10/100\n",
            "313/313 [==============================] - 6s 19ms/step - loss: 0.4817 - accuracy: 0.7896 - val_loss: 0.4953 - val_accuracy: 0.7698\n",
            "Epoch 11/100\n",
            "313/313 [==============================] - 6s 20ms/step - loss: 0.4716 - accuracy: 0.7940 - val_loss: 0.4785 - val_accuracy: 0.7818\n",
            "Epoch 12/100\n",
            "313/313 [==============================] - 6s 19ms/step - loss: 0.4636 - accuracy: 0.7986 - val_loss: 0.4729 - val_accuracy: 0.7868\n",
            "Epoch 13/100\n",
            "313/313 [==============================] - 6s 20ms/step - loss: 0.4569 - accuracy: 0.7992 - val_loss: 0.4746 - val_accuracy: 0.7836\n",
            "Epoch 14/100\n",
            "313/313 [==============================] - 6s 20ms/step - loss: 0.4512 - accuracy: 0.8023 - val_loss: 0.4707 - val_accuracy: 0.7886\n",
            "Epoch 15/100\n",
            "313/313 [==============================] - 6s 20ms/step - loss: 0.4471 - accuracy: 0.8023 - val_loss: 0.4614 - val_accuracy: 0.7908\n",
            "Epoch 16/100\n",
            "313/313 [==============================] - 6s 19ms/step - loss: 0.4426 - accuracy: 0.8040 - val_loss: 0.4588 - val_accuracy: 0.7916\n",
            "Epoch 17/100\n",
            "313/313 [==============================] - 6s 20ms/step - loss: 0.4390 - accuracy: 0.8051 - val_loss: 0.4577 - val_accuracy: 0.7938\n",
            "Epoch 18/100\n",
            "313/313 [==============================] - 6s 20ms/step - loss: 0.4358 - accuracy: 0.8058 - val_loss: 0.4535 - val_accuracy: 0.7948\n",
            "Epoch 19/100\n",
            "313/313 [==============================] - 6s 19ms/step - loss: 0.4329 - accuracy: 0.8074 - val_loss: 0.4557 - val_accuracy: 0.7938\n",
            "Epoch 20/100\n",
            "313/313 [==============================] - 6s 20ms/step - loss: 0.4308 - accuracy: 0.8069 - val_loss: 0.4503 - val_accuracy: 0.7946\n",
            "Epoch 21/100\n",
            "313/313 [==============================] - 6s 19ms/step - loss: 0.4282 - accuracy: 0.8092 - val_loss: 0.4488 - val_accuracy: 0.7954\n",
            "Epoch 22/100\n",
            "313/313 [==============================] - 6s 20ms/step - loss: 0.4261 - accuracy: 0.8102 - val_loss: 0.4462 - val_accuracy: 0.7948\n",
            "Epoch 23/100\n",
            "313/313 [==============================] - 6s 19ms/step - loss: 0.4242 - accuracy: 0.8101 - val_loss: 0.4458 - val_accuracy: 0.7936\n",
            "Epoch 24/100\n",
            "313/313 [==============================] - 6s 19ms/step - loss: 0.4222 - accuracy: 0.8106 - val_loss: 0.4441 - val_accuracy: 0.7944\n",
            "Epoch 25/100\n",
            "313/313 [==============================] - 6s 20ms/step - loss: 0.4208 - accuracy: 0.8100 - val_loss: 0.4426 - val_accuracy: 0.7980\n",
            "Epoch 26/100\n",
            "313/313 [==============================] - 6s 20ms/step - loss: 0.4194 - accuracy: 0.8119 - val_loss: 0.4421 - val_accuracy: 0.7936\n",
            "Epoch 27/100\n",
            "313/313 [==============================] - 6s 20ms/step - loss: 0.4178 - accuracy: 0.8127 - val_loss: 0.4409 - val_accuracy: 0.7952\n",
            "Epoch 28/100\n",
            "313/313 [==============================] - 6s 19ms/step - loss: 0.4169 - accuracy: 0.8127 - val_loss: 0.4392 - val_accuracy: 0.7988\n",
            "Epoch 29/100\n",
            "313/313 [==============================] - 6s 20ms/step - loss: 0.4154 - accuracy: 0.8135 - val_loss: 0.4402 - val_accuracy: 0.8000\n",
            "Epoch 30/100\n",
            "313/313 [==============================] - 6s 20ms/step - loss: 0.4140 - accuracy: 0.8140 - val_loss: 0.4370 - val_accuracy: 0.7988\n",
            "Epoch 31/100\n",
            "313/313 [==============================] - 6s 20ms/step - loss: 0.4134 - accuracy: 0.8134 - val_loss: 0.4365 - val_accuracy: 0.7976\n",
            "Epoch 32/100\n",
            "313/313 [==============================] - 6s 20ms/step - loss: 0.4120 - accuracy: 0.8145 - val_loss: 0.4390 - val_accuracy: 0.8030\n",
            "Epoch 33/100\n",
            "313/313 [==============================] - 6s 20ms/step - loss: 0.4115 - accuracy: 0.8145 - val_loss: 0.4365 - val_accuracy: 0.7934\n",
            "Epoch 34/100\n",
            "313/313 [==============================] - 6s 19ms/step - loss: 0.4106 - accuracy: 0.8165 - val_loss: 0.4390 - val_accuracy: 0.8008\n"
          ],
          "name": "stdout"
        }
      ]
    },
    {
      "cell_type": "code",
      "metadata": {
        "execution": {
          "iopub.execute_input": "2020-10-12T09:09:36.725150Z",
          "iopub.status.busy": "2020-10-12T09:09:36.723949Z",
          "iopub.status.idle": "2020-10-12T09:09:37.618677Z",
          "shell.execute_reply": "2020-10-12T09:09:37.620018Z"
        },
        "id": "Xl1bliNr6k2Q",
        "colab": {
          "base_uri": "https://localhost:8080/",
          "height": 279
        },
        "outputId": "4e6792a9-2118-4498-a4cb-f0b39d1609c0"
      },
      "source": [
        "import matplotlib.pyplot as plt\n",
        "\n",
        "plt.plot(history.history['loss'])\n",
        "plt.plot(history.history['val_loss'])\n",
        "plt.xlabel('epoch')\n",
        "plt.ylabel('loss')\n",
        "plt.legend(['train', 'val'])\n",
        "plt.show()"
      ],
      "execution_count": null,
      "outputs": [
        {
          "output_type": "display_data",
          "data": {
            "image/png": "[encoded data removed]",
            "text/plain": [
              "<Figure size 432x288 with 1 Axes>"
            ]
          },
          "metadata": {
            "tags": [],
            "needs_background": "light"
          }
        }
      ]
    },
    {
      "cell_type": "markdown",
      "metadata": {
        "id": "ob79h7Kc6k2Q"
      },
      "source": [
        "## 순환 층에 드롭아웃 적용하기"
      ]
    },
    {
      "cell_type": "code",
      "metadata": {
        "execution": {
          "iopub.execute_input": "2020-10-12T09:09:37.633391Z",
          "iopub.status.busy": "2020-10-12T09:09:37.631822Z",
          "iopub.status.idle": "2020-10-12T09:09:37.849640Z",
          "shell.execute_reply": "2020-10-12T09:09:37.850929Z"
        },
        "id": "Fr0DUR-Y6k2R"
      },
      "source": [
        "model2 = keras.Sequential()\n",
        "\n",
        "model2.add(keras.layers.Embedding(500, 16, input_length=100))\n",
        "model2.add(keras.layers.LSTM(8, dropout=0.3))\n",
        "model2.add(keras.layers.Dense(1, activation='sigmoid'))"
      ],
      "execution_count": null,
      "outputs": []
    },
    {
      "cell_type": "code",
      "metadata": {
        "execution": {
          "iopub.execute_input": "2020-10-12T09:09:37.868353Z",
          "iopub.status.busy": "2020-10-12T09:09:37.866777Z",
          "iopub.status.idle": "2020-10-12T09:13:59.438760Z",
          "shell.execute_reply": "2020-10-12T09:13:59.440154Z"
        },
        "id": "Ap8XxUO46k2R",
        "colab": {
          "base_uri": "https://localhost:8080/"
        },
        "outputId": "5953909f-5c48-43e9-b321-8b5f3ed0d52a"
      },
      "source": [
        "rmsprop = keras.optimizers.RMSprop(learning_rate=1e-4)\n",
        "model2.compile(optimizer=rmsprop, loss='binary_crossentropy', \n",
        "               metrics=['accuracy'])\n",
        "\n",
        "checkpoint_cb = keras.callbacks.ModelCheckpoint('best-dropout-model.h5', \n",
        "                                                save_best_only=True)\n",
        "early_stopping_cb = keras.callbacks.EarlyStopping(patience=3,\n",
        "                                                  restore_best_weights=True)\n",
        "\n",
        "history = model2.fit(train_seq, train_target, epochs=100, batch_size=64,\n",
        "                     validation_data=(val_seq, val_target),\n",
        "                     callbacks=[checkpoint_cb, early_stopping_cb])"
      ],
      "execution_count": null,
      "outputs": [
        {
          "output_type": "stream",
          "text": [
            "Epoch 1/100\n",
            "313/313 [==============================] - 9s 21ms/step - loss: 0.6929 - accuracy: 0.5147 - val_loss: 0.6927 - val_accuracy: 0.5338\n",
            "Epoch 2/100\n",
            "313/313 [==============================] - 6s 19ms/step - loss: 0.6918 - accuracy: 0.5716 - val_loss: 0.6911 - val_accuracy: 0.5994\n",
            "Epoch 3/100\n",
            "313/313 [==============================] - 6s 20ms/step - loss: 0.6887 - accuracy: 0.6428 - val_loss: 0.6851 - val_accuracy: 0.6766\n",
            "Epoch 4/100\n",
            "313/313 [==============================] - 6s 19ms/step - loss: 0.6666 - accuracy: 0.6772 - val_loss: 0.6351 - val_accuracy: 0.7054\n",
            "Epoch 5/100\n",
            "313/313 [==============================] - 6s 19ms/step - loss: 0.6195 - accuracy: 0.6981 - val_loss: 0.6059 - val_accuracy: 0.7084\n",
            "Epoch 6/100\n",
            "313/313 [==============================] - 6s 20ms/step - loss: 0.5951 - accuracy: 0.7171 - val_loss: 0.5846 - val_accuracy: 0.7296\n",
            "Epoch 7/100\n",
            "313/313 [==============================] - 6s 19ms/step - loss: 0.5743 - accuracy: 0.7350 - val_loss: 0.5613 - val_accuracy: 0.7536\n",
            "Epoch 8/100\n",
            "313/313 [==============================] - 6s 20ms/step - loss: 0.5547 - accuracy: 0.7497 - val_loss: 0.5425 - val_accuracy: 0.7654\n",
            "Epoch 9/100\n",
            "313/313 [==============================] - 6s 20ms/step - loss: 0.5372 - accuracy: 0.7598 - val_loss: 0.5290 - val_accuracy: 0.7686\n",
            "Epoch 10/100\n",
            "313/313 [==============================] - 6s 20ms/step - loss: 0.5233 - accuracy: 0.7668 - val_loss: 0.5154 - val_accuracy: 0.7754\n",
            "Epoch 11/100\n",
            "313/313 [==============================] - 6s 20ms/step - loss: 0.5081 - accuracy: 0.7761 - val_loss: 0.5050 - val_accuracy: 0.7744\n",
            "Epoch 12/100\n",
            "313/313 [==============================] - 6s 20ms/step - loss: 0.4987 - accuracy: 0.7776 - val_loss: 0.4984 - val_accuracy: 0.7770\n",
            "Epoch 13/100\n",
            "313/313 [==============================] - 6s 20ms/step - loss: 0.4915 - accuracy: 0.7801 - val_loss: 0.4893 - val_accuracy: 0.7818\n",
            "Epoch 14/100\n",
            "313/313 [==============================] - 6s 20ms/step - loss: 0.4838 - accuracy: 0.7839 - val_loss: 0.4855 - val_accuracy: 0.7772\n",
            "Epoch 15/100\n",
            "313/313 [==============================] - 6s 20ms/step - loss: 0.4756 - accuracy: 0.7878 - val_loss: 0.4775 - val_accuracy: 0.7850\n",
            "Epoch 16/100\n",
            "313/313 [==============================] - 6s 19ms/step - loss: 0.4694 - accuracy: 0.7896 - val_loss: 0.4735 - val_accuracy: 0.7848\n",
            "Epoch 17/100\n",
            "313/313 [==============================] - 6s 19ms/step - loss: 0.4650 - accuracy: 0.7925 - val_loss: 0.4677 - val_accuracy: 0.7870\n",
            "Epoch 18/100\n",
            "313/313 [==============================] - 6s 19ms/step - loss: 0.4597 - accuracy: 0.7929 - val_loss: 0.4669 - val_accuracy: 0.7844\n",
            "Epoch 19/100\n",
            "313/313 [==============================] - 6s 19ms/step - loss: 0.4513 - accuracy: 0.7996 - val_loss: 0.4606 - val_accuracy: 0.7886\n",
            "Epoch 20/100\n",
            "313/313 [==============================] - 6s 20ms/step - loss: 0.4498 - accuracy: 0.7994 - val_loss: 0.4576 - val_accuracy: 0.7904\n",
            "Epoch 21/100\n",
            "313/313 [==============================] - 6s 19ms/step - loss: 0.4450 - accuracy: 0.8013 - val_loss: 0.4552 - val_accuracy: 0.7910\n",
            "Epoch 22/100\n",
            "313/313 [==============================] - 6s 20ms/step - loss: 0.4435 - accuracy: 0.8000 - val_loss: 0.4512 - val_accuracy: 0.7932\n",
            "Epoch 23/100\n",
            "313/313 [==============================] - 6s 20ms/step - loss: 0.4398 - accuracy: 0.8022 - val_loss: 0.4486 - val_accuracy: 0.7956\n",
            "Epoch 24/100\n",
            "313/313 [==============================] - 6s 20ms/step - loss: 0.4385 - accuracy: 0.8027 - val_loss: 0.4479 - val_accuracy: 0.7956\n",
            "Epoch 25/100\n",
            "313/313 [==============================] - 6s 19ms/step - loss: 0.4348 - accuracy: 0.8035 - val_loss: 0.4462 - val_accuracy: 0.7918\n",
            "Epoch 26/100\n",
            "313/313 [==============================] - 6s 19ms/step - loss: 0.4332 - accuracy: 0.8019 - val_loss: 0.4435 - val_accuracy: 0.7976\n",
            "Epoch 27/100\n",
            "313/313 [==============================] - 6s 19ms/step - loss: 0.4279 - accuracy: 0.8079 - val_loss: 0.4417 - val_accuracy: 0.7946\n",
            "Epoch 28/100\n",
            "313/313 [==============================] - 6s 20ms/step - loss: 0.4280 - accuracy: 0.8065 - val_loss: 0.4425 - val_accuracy: 0.7930\n",
            "Epoch 29/100\n",
            "313/313 [==============================] - 6s 20ms/step - loss: 0.4271 - accuracy: 0.8069 - val_loss: 0.4382 - val_accuracy: 0.8004\n",
            "Epoch 30/100\n",
            "313/313 [==============================] - 6s 20ms/step - loss: 0.4247 - accuracy: 0.8076 - val_loss: 0.4379 - val_accuracy: 0.7984\n",
            "Epoch 31/100\n",
            "313/313 [==============================] - 6s 20ms/step - loss: 0.4247 - accuracy: 0.8080 - val_loss: 0.4353 - val_accuracy: 0.8004\n",
            "Epoch 32/100\n",
            "313/313 [==============================] - 6s 20ms/step - loss: 0.4242 - accuracy: 0.8091 - val_loss: 0.4347 - val_accuracy: 0.7988\n",
            "Epoch 33/100\n",
            "313/313 [==============================] - 6s 20ms/step - loss: 0.4210 - accuracy: 0.8094 - val_loss: 0.4340 - val_accuracy: 0.7972\n",
            "Epoch 34/100\n",
            "313/313 [==============================] - 6s 20ms/step - loss: 0.4188 - accuracy: 0.8111 - val_loss: 0.4346 - val_accuracy: 0.8018\n",
            "Epoch 35/100\n",
            "313/313 [==============================] - 6s 20ms/step - loss: 0.4192 - accuracy: 0.8102 - val_loss: 0.4341 - val_accuracy: 0.8022\n",
            "Epoch 36/100\n",
            "313/313 [==============================] - 6s 20ms/step - loss: 0.4163 - accuracy: 0.8099 - val_loss: 0.4342 - val_accuracy: 0.7970\n"
          ],
          "name": "stdout"
        }
      ]
    },
    {
      "cell_type": "code",
      "metadata": {
        "execution": {
          "iopub.execute_input": "2020-10-12T09:13:59.466740Z",
          "iopub.status.busy": "2020-10-12T09:13:59.465154Z",
          "iopub.status.idle": "2020-10-12T09:14:00.055101Z",
          "shell.execute_reply": "2020-10-12T09:14:00.056561Z"
        },
        "id": "Qzwsp3pl6k2R",
        "colab": {
          "base_uri": "https://localhost:8080/",
          "height": 279
        },
        "outputId": "97305973-3c11-4c55-c466-a608273094cb"
      },
      "source": [
        "plt.plot(history.history['loss'])\n",
        "plt.plot(history.history['val_loss'])\n",
        "plt.xlabel('epoch')\n",
        "plt.ylabel('loss')\n",
        "plt.legend(['train', 'val'])\n",
        "plt.show()"
      ],
      "execution_count": null,
      "outputs": [
        {
          "output_type": "display_data",
          "data": {
            "image/png": "[encoded data removed]",
            "text/plain": [
              "<Figure size 432x288 with 1 Axes>"
            ]
          },
          "metadata": {
            "tags": [],
            "needs_background": "light"
          }
        }
      ]
    },
    {
      "cell_type": "markdown",
      "metadata": {
        "id": "DKtQByM96k2S"
      },
      "source": [
        "## 2개의 층을 연결하기"
      ]
    },
    {
      "cell_type": "code",
      "metadata": {
        "execution": {
          "iopub.execute_input": "2020-10-12T09:14:00.069924Z",
          "iopub.status.busy": "2020-10-12T09:14:00.068581Z",
          "iopub.status.idle": "2020-10-12T09:14:00.459073Z",
          "shell.execute_reply": "2020-10-12T09:14:00.460006Z"
        },
        "id": "YkQboCpD6k2S",
        "colab": {
          "base_uri": "https://localhost:8080/"
        },
        "outputId": "5f30a5ec-16a9-476a-95b6-3d55b36b64b4"
      },
      "source": [
        "model3 = keras.Sequential()\n",
        "\n",
        "model3.add(keras.layers.Embedding(500, 16, input_length=100))\n",
        "model3.add(keras.layers.LSTM(8, dropout=0.3, return_sequences=True))\n",
        "model3.add(keras.layers.LSTM(8, dropout=0.3))\n",
        "model3.add(keras.layers.Dense(1, activation='sigmoid'))\n",
        "\n",
        "model3.summary()"
      ],
      "execution_count": null,
      "outputs": [
        {
          "output_type": "stream",
          "text": [
            "Model: \"sequential_2\"\n",
            "_________________________________________________________________\n",
            "Layer (type)                 Output Shape              Param #   \n",
            "=================================================================\n",
            "embedding_2 (Embedding)      (None, 100, 16)           8000      \n",
            "_________________________________________________________________\n",
            "lstm_2 (LSTM)                (None, 100, 8)            800       \n",
            "_________________________________________________________________\n",
            "lstm_3 (LSTM)                (None, 8)                 544       \n",
            "_________________________________________________________________\n",
            "dense_2 (Dense)              (None, 1)                 9         \n",
            "=================================================================\n",
            "Total params: 9,353\n",
            "Trainable params: 9,353\n",
            "Non-trainable params: 0\n",
            "_________________________________________________________________\n"
          ],
          "name": "stdout"
        }
      ]
    },
    {
      "cell_type": "code",
      "metadata": {
        "execution": {
          "iopub.execute_input": "2020-10-12T09:14:00.485178Z",
          "iopub.status.busy": "2020-10-12T09:14:00.483959Z",
          "iopub.status.idle": "2020-10-12T09:20:24.570047Z",
          "shell.execute_reply": "2020-10-12T09:20:24.571421Z"
        },
        "id": "hDk_ffAo6k2S",
        "colab": {
          "base_uri": "https://localhost:8080/"
        },
        "outputId": "f7439e48-073f-4124-b10e-dea60f18f69d"
      },
      "source": [
        "rmsprop = keras.optimizers.RMSprop(learning_rate=1e-4)\n",
        "model3.compile(optimizer=rmsprop, loss='binary_crossentropy', \n",
        "               metrics=['accuracy'])\n",
        "\n",
        "checkpoint_cb = keras.callbacks.ModelCheckpoint('best-2rnn-model.h5', \n",
        "                                                save_best_only=True)\n",
        "early_stopping_cb = keras.callbacks.EarlyStopping(patience=3,\n",
        "                                                  restore_best_weights=True)\n",
        "\n",
        "history = model3.fit(train_seq, train_target, epochs=100, batch_size=64,\n",
        "                     validation_data=(val_seq, val_target),\n",
        "                     callbacks=[checkpoint_cb, early_stopping_cb])"
      ],
      "execution_count": null,
      "outputs": [
        {
          "output_type": "stream",
          "text": [
            "Epoch 1/100\n",
            "313/313 [==============================] - 17s 43ms/step - loss: 0.6927 - accuracy: 0.5375 - val_loss: 0.6921 - val_accuracy: 0.5916\n",
            "Epoch 2/100\n",
            "313/313 [==============================] - 13s 41ms/step - loss: 0.6900 - accuracy: 0.5748 - val_loss: 0.6862 - val_accuracy: 0.6402\n",
            "Epoch 3/100\n",
            "313/313 [==============================] - 13s 41ms/step - loss: 0.6643 - accuracy: 0.6443 - val_loss: 0.6234 - val_accuracy: 0.6786\n",
            "Epoch 4/100\n",
            "313/313 [==============================] - 13s 40ms/step - loss: 0.5833 - accuracy: 0.7151 - val_loss: 0.5522 - val_accuracy: 0.7318\n",
            "Epoch 5/100\n",
            "313/313 [==============================] - 13s 41ms/step - loss: 0.5374 - accuracy: 0.7417 - val_loss: 0.5187 - val_accuracy: 0.7554\n",
            "Epoch 6/100\n",
            "313/313 [==============================] - 13s 41ms/step - loss: 0.5097 - accuracy: 0.7574 - val_loss: 0.4940 - val_accuracy: 0.7682\n",
            "Epoch 7/100\n",
            "313/313 [==============================] - 13s 40ms/step - loss: 0.4920 - accuracy: 0.7671 - val_loss: 0.4819 - val_accuracy: 0.7702\n",
            "Epoch 8/100\n",
            "313/313 [==============================] - 13s 40ms/step - loss: 0.4755 - accuracy: 0.7766 - val_loss: 0.4670 - val_accuracy: 0.7842\n",
            "Epoch 9/100\n",
            "313/313 [==============================] - 13s 40ms/step - loss: 0.4687 - accuracy: 0.7817 - val_loss: 0.4599 - val_accuracy: 0.7884\n",
            "Epoch 10/100\n",
            "313/313 [==============================] - 13s 40ms/step - loss: 0.4610 - accuracy: 0.7872 - val_loss: 0.4567 - val_accuracy: 0.7892\n",
            "Epoch 11/100\n",
            "313/313 [==============================] - 13s 41ms/step - loss: 0.4567 - accuracy: 0.7897 - val_loss: 0.4517 - val_accuracy: 0.7910\n",
            "Epoch 12/100\n",
            "313/313 [==============================] - 13s 41ms/step - loss: 0.4525 - accuracy: 0.7911 - val_loss: 0.4527 - val_accuracy: 0.7866\n",
            "Epoch 13/100\n",
            "313/313 [==============================] - 13s 41ms/step - loss: 0.4482 - accuracy: 0.7917 - val_loss: 0.4503 - val_accuracy: 0.7922\n",
            "Epoch 14/100\n",
            "313/313 [==============================] - 13s 40ms/step - loss: 0.4463 - accuracy: 0.7938 - val_loss: 0.4472 - val_accuracy: 0.7926\n",
            "Epoch 15/100\n",
            "313/313 [==============================] - 13s 40ms/step - loss: 0.4458 - accuracy: 0.7936 - val_loss: 0.4470 - val_accuracy: 0.7914\n",
            "Epoch 16/100\n",
            "313/313 [==============================] - 13s 41ms/step - loss: 0.4421 - accuracy: 0.7921 - val_loss: 0.4480 - val_accuracy: 0.7908\n",
            "Epoch 17/100\n",
            "313/313 [==============================] - 13s 41ms/step - loss: 0.4399 - accuracy: 0.7969 - val_loss: 0.4429 - val_accuracy: 0.7944\n",
            "Epoch 18/100\n",
            "313/313 [==============================] - 13s 41ms/step - loss: 0.4392 - accuracy: 0.7976 - val_loss: 0.4415 - val_accuracy: 0.7954\n",
            "Epoch 19/100\n",
            "313/313 [==============================] - 13s 41ms/step - loss: 0.4383 - accuracy: 0.7965 - val_loss: 0.4503 - val_accuracy: 0.7870\n",
            "Epoch 20/100\n",
            "313/313 [==============================] - 13s 40ms/step - loss: 0.4340 - accuracy: 0.8012 - val_loss: 0.4407 - val_accuracy: 0.7914\n",
            "Epoch 21/100\n",
            "313/313 [==============================] - 13s 41ms/step - loss: 0.4355 - accuracy: 0.7967 - val_loss: 0.4406 - val_accuracy: 0.7918\n",
            "Epoch 22/100\n",
            "313/313 [==============================] - 13s 41ms/step - loss: 0.4327 - accuracy: 0.8001 - val_loss: 0.4396 - val_accuracy: 0.7918\n",
            "Epoch 23/100\n",
            "313/313 [==============================] - 13s 41ms/step - loss: 0.4306 - accuracy: 0.8014 - val_loss: 0.4448 - val_accuracy: 0.7878\n",
            "Epoch 24/100\n",
            "313/313 [==============================] - 13s 41ms/step - loss: 0.4308 - accuracy: 0.8009 - val_loss: 0.4407 - val_accuracy: 0.7986\n",
            "Epoch 25/100\n",
            "313/313 [==============================] - 13s 41ms/step - loss: 0.4292 - accuracy: 0.8022 - val_loss: 0.4375 - val_accuracy: 0.7972\n",
            "Epoch 26/100\n",
            "313/313 [==============================] - 13s 40ms/step - loss: 0.4274 - accuracy: 0.8044 - val_loss: 0.4375 - val_accuracy: 0.7988\n",
            "Epoch 27/100\n",
            "313/313 [==============================] - 13s 41ms/step - loss: 0.4283 - accuracy: 0.8022 - val_loss: 0.4369 - val_accuracy: 0.8002\n",
            "Epoch 28/100\n",
            "313/313 [==============================] - 13s 41ms/step - loss: 0.4271 - accuracy: 0.8026 - val_loss: 0.4360 - val_accuracy: 0.7952\n",
            "Epoch 29/100\n",
            "313/313 [==============================] - 13s 40ms/step - loss: 0.4263 - accuracy: 0.8048 - val_loss: 0.4380 - val_accuracy: 0.8014\n",
            "Epoch 30/100\n",
            "313/313 [==============================] - 13s 40ms/step - loss: 0.4259 - accuracy: 0.8056 - val_loss: 0.4356 - val_accuracy: 0.7980\n",
            "Epoch 31/100\n",
            "313/313 [==============================] - 13s 41ms/step - loss: 0.4244 - accuracy: 0.8043 - val_loss: 0.4365 - val_accuracy: 0.8016\n",
            "Epoch 32/100\n",
            "313/313 [==============================] - 13s 41ms/step - loss: 0.4233 - accuracy: 0.8050 - val_loss: 0.4351 - val_accuracy: 0.7978\n",
            "Epoch 33/100\n",
            "313/313 [==============================] - 13s 41ms/step - loss: 0.4216 - accuracy: 0.8068 - val_loss: 0.4350 - val_accuracy: 0.7976\n",
            "Epoch 34/100\n",
            "313/313 [==============================] - 13s 41ms/step - loss: 0.4232 - accuracy: 0.8043 - val_loss: 0.4375 - val_accuracy: 0.7996\n",
            "Epoch 35/100\n",
            "313/313 [==============================] - 13s 41ms/step - loss: 0.4213 - accuracy: 0.8059 - val_loss: 0.4378 - val_accuracy: 0.7994\n",
            "Epoch 36/100\n",
            "313/313 [==============================] - 13s 40ms/step - loss: 0.4209 - accuracy: 0.8080 - val_loss: 0.4421 - val_accuracy: 0.7996\n"
          ],
          "name": "stdout"
        }
      ]
    },
    {
      "cell_type": "code",
      "metadata": {
        "execution": {
          "iopub.execute_input": "2020-10-12T09:20:24.599872Z",
          "iopub.status.busy": "2020-10-12T09:20:24.598716Z",
          "iopub.status.idle": "2020-10-12T09:20:25.172291Z",
          "shell.execute_reply": "2020-10-12T09:20:25.173681Z"
        },
        "id": "1paBqczf6k2S",
        "colab": {
          "base_uri": "https://localhost:8080/",
          "height": 279
        },
        "outputId": "8dec69f9-2aa3-4b2f-f5c9-c0d2713ab4f6"
      },
      "source": [
        "plt.plot(history.history['loss'])\n",
        "plt.plot(history.history['val_loss'])\n",
        "plt.xlabel('epoch')\n",
        "plt.ylabel('loss')\n",
        "plt.legend(['train', 'val'])\n",
        "plt.show()"
      ],
      "execution_count": null,
      "outputs": [
        {
          "output_type": "display_data",
          "data": {
            "image/png": "[encoded data removed]",
            "text/plain": [
              "<Figure size 432x288 with 1 Axes>"
            ]
          },
          "metadata": {
            "tags": [],
            "needs_background": "light"
          }
        }
      ]
    },
    {
      "cell_type": "markdown",
      "metadata": {
        "id": "Jisn0P9h6k2T"
      },
      "source": [
        "## GRU 신경망 훈련하기"
      ]
    },
    {
      "cell_type": "code",
      "metadata": {
        "execution": {
          "iopub.execute_input": "2020-10-12T09:20:25.189832Z",
          "iopub.status.busy": "2020-10-12T09:20:25.188004Z",
          "iopub.status.idle": "2020-10-12T09:20:25.402624Z",
          "shell.execute_reply": "2020-10-12T09:20:25.401128Z"
        },
        "id": "dwYF578d6k2T",
        "colab": {
          "base_uri": "https://localhost:8080/"
        },
        "outputId": "72677151-359c-4d9c-9fd0-026c778f4ad5"
      },
      "source": [
        "model4 = keras.Sequential()\n",
        "\n",
        "model4.add(keras.layers.Embedding(500, 16, input_length=100))\n",
        "model4.add(keras.layers.GRU(8))\n",
        "model4.add(keras.layers.Dense(1, activation='sigmoid'))\n",
        "\n",
        "model4.summary()"
      ],
      "execution_count": null,
      "outputs": [
        {
          "output_type": "stream",
          "text": [
            "Model: \"sequential_3\"\n",
            "_________________________________________________________________\n",
            "Layer (type)                 Output Shape              Param #   \n",
            "=================================================================\n",
            "embedding_3 (Embedding)      (None, 100, 16)           8000      \n",
            "_________________________________________________________________\n",
            "gru (GRU)                    (None, 8)                 624       \n",
            "_________________________________________________________________\n",
            "dense_3 (Dense)              (None, 1)                 9         \n",
            "=================================================================\n",
            "Total params: 8,633\n",
            "Trainable params: 8,633\n",
            "Non-trainable params: 0\n",
            "_________________________________________________________________\n"
          ],
          "name": "stdout"
        }
      ]
    },
    {
      "cell_type": "code",
      "metadata": {
        "execution": {
          "iopub.execute_input": "2020-10-12T09:20:25.420177Z",
          "iopub.status.busy": "2020-10-12T09:20:25.419630Z",
          "iopub.status.idle": "2020-10-12T09:25:10.574200Z",
          "shell.execute_reply": "2020-10-12T09:25:10.575704Z"
        },
        "id": "j2SfOZ3v6k2U",
        "colab": {
          "base_uri": "https://localhost:8080/"
        },
        "outputId": "80bc83ae-1472-4c03-f372-92a6572e71b8"
      },
      "source": [
        "rmsprop = keras.optimizers.RMSprop(learning_rate=1e-4)\n",
        "model4.compile(optimizer=rmsprop, loss='binary_crossentropy', \n",
        "               metrics=['accuracy'])\n",
        "\n",
        "checkpoint_cb = keras.callbacks.ModelCheckpoint('best-gru-model.h5', \n",
        "                                                save_best_only=True)\n",
        "early_stopping_cb = keras.callbacks.EarlyStopping(patience=3,\n",
        "                                                  restore_best_weights=True)\n",
        "\n",
        "history = model4.fit(train_seq, train_target, epochs=100, batch_size=64,\n",
        "                     validation_data=(val_seq, val_target),\n",
        "                     callbacks=[checkpoint_cb, early_stopping_cb])"
      ],
      "execution_count": null,
      "outputs": [
        {
          "output_type": "stream",
          "text": [
            "Epoch 1/100\n",
            "313/313 [==============================] - 9s 21ms/step - loss: 0.6924 - accuracy: 0.5174 - val_loss: 0.6914 - val_accuracy: 0.5478\n",
            "Epoch 2/100\n",
            "313/313 [==============================] - 6s 19ms/step - loss: 0.6903 - accuracy: 0.5601 - val_loss: 0.6892 - val_accuracy: 0.5740\n",
            "Epoch 3/100\n",
            "313/313 [==============================] - 6s 19ms/step - loss: 0.6871 - accuracy: 0.5849 - val_loss: 0.6855 - val_accuracy: 0.5888\n",
            "Epoch 4/100\n",
            "313/313 [==============================] - 6s 19ms/step - loss: 0.6820 - accuracy: 0.6039 - val_loss: 0.6799 - val_accuracy: 0.5948\n",
            "Epoch 5/100\n",
            "313/313 [==============================] - 6s 19ms/step - loss: 0.6744 - accuracy: 0.6191 - val_loss: 0.6713 - val_accuracy: 0.6132\n",
            "Epoch 6/100\n",
            "313/313 [==============================] - 6s 19ms/step - loss: 0.6629 - accuracy: 0.6321 - val_loss: 0.6589 - val_accuracy: 0.6248\n",
            "Epoch 7/100\n",
            "313/313 [==============================] - 6s 19ms/step - loss: 0.6457 - accuracy: 0.6491 - val_loss: 0.6391 - val_accuracy: 0.6458\n",
            "Epoch 8/100\n",
            "313/313 [==============================] - 6s 19ms/step - loss: 0.6188 - accuracy: 0.6726 - val_loss: 0.6072 - val_accuracy: 0.6786\n",
            "Epoch 9/100\n",
            "313/313 [==============================] - 6s 19ms/step - loss: 0.5720 - accuracy: 0.7079 - val_loss: 0.5599 - val_accuracy: 0.7192\n",
            "Epoch 10/100\n",
            "313/313 [==============================] - 6s 19ms/step - loss: 0.5303 - accuracy: 0.7366 - val_loss: 0.5295 - val_accuracy: 0.7416\n",
            "Epoch 11/100\n",
            "313/313 [==============================] - 6s 19ms/step - loss: 0.5077 - accuracy: 0.7544 - val_loss: 0.5158 - val_accuracy: 0.7490\n",
            "Epoch 12/100\n",
            "313/313 [==============================] - 6s 19ms/step - loss: 0.4949 - accuracy: 0.7640 - val_loss: 0.5056 - val_accuracy: 0.7594\n",
            "Epoch 13/100\n",
            "313/313 [==============================] - 6s 19ms/step - loss: 0.4849 - accuracy: 0.7713 - val_loss: 0.4966 - val_accuracy: 0.7642\n",
            "Epoch 14/100\n",
            "313/313 [==============================] - 6s 20ms/step - loss: 0.4763 - accuracy: 0.7759 - val_loss: 0.4909 - val_accuracy: 0.7634\n",
            "Epoch 15/100\n",
            "313/313 [==============================] - 6s 20ms/step - loss: 0.4683 - accuracy: 0.7814 - val_loss: 0.4846 - val_accuracy: 0.7686\n",
            "Epoch 16/100\n",
            "313/313 [==============================] - 6s 20ms/step - loss: 0.4618 - accuracy: 0.7863 - val_loss: 0.4752 - val_accuracy: 0.7768\n",
            "Epoch 17/100\n",
            "313/313 [==============================] - 6s 20ms/step - loss: 0.4560 - accuracy: 0.7898 - val_loss: 0.4714 - val_accuracy: 0.7828\n",
            "Epoch 18/100\n",
            "313/313 [==============================] - 6s 20ms/step - loss: 0.4509 - accuracy: 0.7929 - val_loss: 0.4661 - val_accuracy: 0.7834\n",
            "Epoch 19/100\n",
            "313/313 [==============================] - 6s 20ms/step - loss: 0.4461 - accuracy: 0.7973 - val_loss: 0.4634 - val_accuracy: 0.7838\n",
            "Epoch 20/100\n",
            "313/313 [==============================] - 6s 20ms/step - loss: 0.4424 - accuracy: 0.7978 - val_loss: 0.4599 - val_accuracy: 0.7812\n",
            "Epoch 21/100\n",
            "313/313 [==============================] - 6s 20ms/step - loss: 0.4391 - accuracy: 0.8008 - val_loss: 0.4563 - val_accuracy: 0.7866\n",
            "Epoch 22/100\n",
            "313/313 [==============================] - 6s 20ms/step - loss: 0.4360 - accuracy: 0.8035 - val_loss: 0.4549 - val_accuracy: 0.7844\n",
            "Epoch 23/100\n",
            "313/313 [==============================] - 6s 20ms/step - loss: 0.4332 - accuracy: 0.8047 - val_loss: 0.4545 - val_accuracy: 0.7842\n",
            "Epoch 24/100\n",
            "313/313 [==============================] - 6s 20ms/step - loss: 0.4315 - accuracy: 0.8056 - val_loss: 0.4513 - val_accuracy: 0.7882\n",
            "Epoch 25/100\n",
            "313/313 [==============================] - 6s 20ms/step - loss: 0.4293 - accuracy: 0.8059 - val_loss: 0.4574 - val_accuracy: 0.7802\n",
            "Epoch 26/100\n",
            "313/313 [==============================] - 6s 19ms/step - loss: 0.4275 - accuracy: 0.8064 - val_loss: 0.4491 - val_accuracy: 0.7914\n",
            "Epoch 27/100\n",
            "313/313 [==============================] - 6s 19ms/step - loss: 0.4259 - accuracy: 0.8074 - val_loss: 0.4501 - val_accuracy: 0.7926\n",
            "Epoch 28/100\n",
            "313/313 [==============================] - 6s 19ms/step - loss: 0.4240 - accuracy: 0.8106 - val_loss: 0.4528 - val_accuracy: 0.7934\n",
            "Epoch 29/100\n",
            "313/313 [==============================] - 6s 20ms/step - loss: 0.4227 - accuracy: 0.8102 - val_loss: 0.4474 - val_accuracy: 0.7926\n",
            "Epoch 30/100\n",
            "313/313 [==============================] - 6s 19ms/step - loss: 0.4220 - accuracy: 0.8119 - val_loss: 0.4472 - val_accuracy: 0.7902\n",
            "Epoch 31/100\n",
            "313/313 [==============================] - 6s 19ms/step - loss: 0.4204 - accuracy: 0.8122 - val_loss: 0.4464 - val_accuracy: 0.7910\n",
            "Epoch 32/100\n",
            "313/313 [==============================] - 6s 20ms/step - loss: 0.4196 - accuracy: 0.8124 - val_loss: 0.4450 - val_accuracy: 0.7930\n",
            "Epoch 33/100\n",
            "313/313 [==============================] - 6s 19ms/step - loss: 0.4188 - accuracy: 0.8135 - val_loss: 0.4449 - val_accuracy: 0.7924\n",
            "Epoch 34/100\n",
            "313/313 [==============================] - 6s 20ms/step - loss: 0.4179 - accuracy: 0.8131 - val_loss: 0.4445 - val_accuracy: 0.7922\n",
            "Epoch 35/100\n",
            "313/313 [==============================] - 6s 19ms/step - loss: 0.4173 - accuracy: 0.8159 - val_loss: 0.4433 - val_accuracy: 0.7928\n",
            "Epoch 36/100\n",
            "313/313 [==============================] - 6s 19ms/step - loss: 0.4164 - accuracy: 0.8155 - val_loss: 0.4424 - val_accuracy: 0.7970\n",
            "Epoch 37/100\n",
            "313/313 [==============================] - 6s 20ms/step - loss: 0.4157 - accuracy: 0.8155 - val_loss: 0.4422 - val_accuracy: 0.7958\n",
            "Epoch 38/100\n",
            "313/313 [==============================] - 6s 20ms/step - loss: 0.4154 - accuracy: 0.8149 - val_loss: 0.4423 - val_accuracy: 0.7966\n",
            "Epoch 39/100\n",
            "313/313 [==============================] - 6s 20ms/step - loss: 0.4148 - accuracy: 0.8156 - val_loss: 0.4416 - val_accuracy: 0.7970\n",
            "Epoch 40/100\n",
            "313/313 [==============================] - 6s 19ms/step - loss: 0.4142 - accuracy: 0.8163 - val_loss: 0.4440 - val_accuracy: 0.7914\n",
            "Epoch 41/100\n",
            "313/313 [==============================] - 6s 19ms/step - loss: 0.4136 - accuracy: 0.8173 - val_loss: 0.4409 - val_accuracy: 0.7948\n",
            "Epoch 42/100\n",
            "313/313 [==============================] - 6s 20ms/step - loss: 0.4132 - accuracy: 0.8148 - val_loss: 0.4407 - val_accuracy: 0.7954\n",
            "Epoch 43/100\n",
            "313/313 [==============================] - 6s 19ms/step - loss: 0.4128 - accuracy: 0.8162 - val_loss: 0.4399 - val_accuracy: 0.7956\n",
            "Epoch 44/100\n",
            "313/313 [==============================] - 6s 19ms/step - loss: 0.4121 - accuracy: 0.8170 - val_loss: 0.4437 - val_accuracy: 0.7946\n",
            "Epoch 45/100\n",
            "313/313 [==============================] - 6s 19ms/step - loss: 0.4116 - accuracy: 0.8180 - val_loss: 0.4397 - val_accuracy: 0.7954\n",
            "Epoch 46/100\n",
            "313/313 [==============================] - 6s 19ms/step - loss: 0.4116 - accuracy: 0.8166 - val_loss: 0.4387 - val_accuracy: 0.7976\n",
            "Epoch 47/100\n",
            "313/313 [==============================] - 6s 19ms/step - loss: 0.4110 - accuracy: 0.8171 - val_loss: 0.4406 - val_accuracy: 0.7966\n",
            "Epoch 48/100\n",
            "313/313 [==============================] - 6s 19ms/step - loss: 0.4104 - accuracy: 0.8174 - val_loss: 0.4491 - val_accuracy: 0.7920\n",
            "Epoch 49/100\n",
            "313/313 [==============================] - 6s 19ms/step - loss: 0.4103 - accuracy: 0.8183 - val_loss: 0.4427 - val_accuracy: 0.7924\n"
          ],
          "name": "stdout"
        }
      ]
    },
    {
      "cell_type": "code",
      "metadata": {
        "execution": {
          "iopub.execute_input": "2020-10-12T09:25:10.602797Z",
          "iopub.status.busy": "2020-10-12T09:25:10.601459Z",
          "iopub.status.idle": "2020-10-12T09:25:11.203520Z",
          "shell.execute_reply": "2020-10-12T09:25:11.202193Z"
        },
        "id": "3yUJM4nA6k2U",
        "colab": {
          "base_uri": "https://localhost:8080/",
          "height": 279
        },
        "outputId": "cf86c235-1135-4d0f-93c2-08b7cb98ead7"
      },
      "source": [
        "plt.plot(history.history['loss'])\n",
        "plt.plot(history.history['val_loss'])\n",
        "plt.xlabel('epoch')\n",
        "plt.ylabel('loss')\n",
        "plt.legend(['train', 'val'])\n",
        "plt.show()"
      ],
      "execution_count": null,
      "outputs": [
        {
          "output_type": "display_data",
          "data": {
            "image/png": "[encoded data removed]",
            "text/plain": [
              "<Figure size 432x288 with 1 Axes>"
            ]
          },
          "metadata": {
            "tags": [],
            "needs_background": "light"
          }
        }
      ]
    },
    {
      "cell_type": "markdown",
      "metadata": {
        "id": "Ja3-116b6k2V"
      },
      "source": [
        "## 마무리"
      ]
    },
    {
      "cell_type": "code",
      "metadata": {
        "id": "-5WtFRN-6k2V",
        "colab": {
          "base_uri": "https://localhost:8080/"
        },
        "outputId": "dbbf3f1d-3cd9-49cf-bf90-233ecac13134"
      },
      "source": [
        "test_seq = pad_sequences(test_input, maxlen=100)\n",
        "\n",
        "rnn_model = keras.models.load_model('best-2rnn-model.h5')\n",
        "\n",
        "rnn_model.evaluate(test_seq, test_target)"
      ],
      "execution_count": null,
      "outputs": [
        {
          "output_type": "stream",
          "text": [
            "782/782 [==============================] - 12s 15ms/step - loss: 0.4291 - accuracy: 0.8004\n"
          ],
          "name": "stdout"
        },
        {
          "output_type": "execute_result",
          "data": {
            "text/plain": [
              "[0.4291330873966217, 0.8004400134086609]"
            ]
          },
          "metadata": {
            "tags": []
          },
          "execution_count": 15
        }
      ]
    }
  ]
}