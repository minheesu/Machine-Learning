{
  "nbformat": 4,
  "nbformat_minor": 0,
  "metadata": {
    "kernelspec": {
      "display_name": "TensorFlow 2.3 on Python 3.6 (CUDA 10.1)",
      "language": "python",
      "name": "python3"
    },
    "language_info": {
      "codemirror_mode": {
        "name": "ipython",
        "version": 3
      },
      "file_extension": ".py",
      "mimetype": "text/x-python",
      "name": "python",
      "nbconvert_exporter": "python",
      "pygments_lexer": "ipython3",
      "version": "3.6.9"
    },
    "colab": {
      "name": "9-2.ipynb",
      "provenance": []
    },
    "accelerator": "GPU"
  },
  "cells": [
    {
      "cell_type": "markdown",
      "metadata": {
        "id": "MusV5YYT6kQF"
      },
      "source": [
        "# 순환 신경망으로 IMDB 리뷰 분류하기"
      ]
    },
    {
      "cell_type": "markdown",
      "metadata": {
        "id": "S1A-DDIQ6kQQ"
      },
      "source": [
        "## IMDB 리뷰 데이터셋"
      ]
    },
    {
      "cell_type": "code",
      "metadata": {
        "execution": {
          "iopub.execute_input": "2020-10-12T01:18:41.979392Z",
          "iopub.status.busy": "2020-10-12T01:18:41.978299Z",
          "iopub.status.idle": "2020-10-12T01:18:52.473300Z",
          "shell.execute_reply": "2020-10-12T01:18:52.471703Z"
        },
        "id": "sZoZm1ZO6kQR",
        "colab": {
          "base_uri": "https://localhost:8080/"
        },
        "outputId": "c340dd55-629f-4615-db76-9c06bc46e2c2"
      },
      "source": [
        "from tensorflow.keras.datasets import imdb\n",
        "\n",
        "(train_input, train_target), (test_input, test_target) = imdb.load_data(\n",
        "    num_words=500)"
      ],
      "execution_count": null,
      "outputs": [
        {
          "output_type": "stream",
          "text": [
            "Downloading data from https://storage.googleapis.com/tensorflow/tf-keras-datasets/imdb.npz\n",
            "17465344/17464789 [==============================] - 0s 0us/step\n",
            "17473536/17464789 [==============================] - 0s 0us/step\n"
          ],
          "name": "stdout"
        }
      ]
    },
    {
      "cell_type": "code",
      "metadata": {
        "execution": {
          "iopub.execute_input": "2020-10-12T01:18:52.481400Z",
          "iopub.status.busy": "2020-10-12T01:18:52.479645Z",
          "iopub.status.idle": "2020-10-12T01:18:52.485658Z",
          "shell.execute_reply": "2020-10-12T01:18:52.486465Z"
        },
        "id": "HTFjz6k06kQR",
        "colab": {
          "base_uri": "https://localhost:8080/"
        },
        "outputId": "1d4929d7-0a93-4bb8-cf03-682ada3d6ac9"
      },
      "source": [
        "print(train_input.shape, test_input.shape)"
      ],
      "execution_count": null,
      "outputs": [
        {
          "output_type": "stream",
          "text": [
            "(25000,) (25000,)\n"
          ],
          "name": "stdout"
        }
      ]
    },
    {
      "cell_type": "code",
      "metadata": {
        "execution": {
          "iopub.execute_input": "2020-10-12T01:18:52.493608Z",
          "iopub.status.busy": "2020-10-12T01:18:52.492625Z",
          "iopub.status.idle": "2020-10-12T01:18:52.496804Z",
          "shell.execute_reply": "2020-10-12T01:18:52.497722Z"
        },
        "id": "4jMLURzw6kQS",
        "colab": {
          "base_uri": "https://localhost:8080/"
        },
        "outputId": "ffb635f3-a3bd-42ed-b6da-fecaa0ede408"
      },
      "source": [
        "print(len(train_input[0]))"
      ],
      "execution_count": null,
      "outputs": [
        {
          "output_type": "stream",
          "text": [
            "218\n"
          ],
          "name": "stdout"
        }
      ]
    },
    {
      "cell_type": "code",
      "metadata": {
        "execution": {
          "iopub.execute_input": "2020-10-12T01:18:52.504933Z",
          "iopub.status.busy": "2020-10-12T01:18:52.503811Z",
          "iopub.status.idle": "2020-10-12T01:18:52.508252Z",
          "shell.execute_reply": "2020-10-12T01:18:52.509172Z"
        },
        "id": "xdO834PL6kQT",
        "colab": {
          "base_uri": "https://localhost:8080/"
        },
        "outputId": "28ba2580-b6b8-49b0-e07e-4df8026a5626"
      },
      "source": [
        "print(len(train_input[1]))"
      ],
      "execution_count": null,
      "outputs": [
        {
          "output_type": "stream",
          "text": [
            "189\n"
          ],
          "name": "stdout"
        }
      ]
    },
    {
      "cell_type": "code",
      "metadata": {
        "execution": {
          "iopub.execute_input": "2020-10-12T01:18:52.516102Z",
          "iopub.status.busy": "2020-10-12T01:18:52.515014Z",
          "iopub.status.idle": "2020-10-12T01:18:52.520096Z",
          "shell.execute_reply": "2020-10-12T01:18:52.520972Z"
        },
        "id": "QNuzGQ2c6kQT",
        "colab": {
          "base_uri": "https://localhost:8080/"
        },
        "outputId": "88f7dd8c-188e-4ad9-edb2-f4b59c498d40"
      },
      "source": [
        "print(train_input[0])"
      ],
      "execution_count": null,
      "outputs": [
        {
          "output_type": "stream",
          "text": [
            "[1, 14, 22, 16, 43, 2, 2, 2, 2, 65, 458, 2, 66, 2, 4, 173, 36, 256, 5, 25, 100, 43, 2, 112, 50, 2, 2, 9, 35, 480, 284, 5, 150, 4, 172, 112, 167, 2, 336, 385, 39, 4, 172, 2, 2, 17, 2, 38, 13, 447, 4, 192, 50, 16, 6, 147, 2, 19, 14, 22, 4, 2, 2, 469, 4, 22, 71, 87, 12, 16, 43, 2, 38, 76, 15, 13, 2, 4, 22, 17, 2, 17, 12, 16, 2, 18, 2, 5, 62, 386, 12, 8, 316, 8, 106, 5, 4, 2, 2, 16, 480, 66, 2, 33, 4, 130, 12, 16, 38, 2, 5, 25, 124, 51, 36, 135, 48, 25, 2, 33, 6, 22, 12, 215, 28, 77, 52, 5, 14, 407, 16, 82, 2, 8, 4, 107, 117, 2, 15, 256, 4, 2, 7, 2, 5, 2, 36, 71, 43, 2, 476, 26, 400, 317, 46, 7, 4, 2, 2, 13, 104, 88, 4, 381, 15, 297, 98, 32, 2, 56, 26, 141, 6, 194, 2, 18, 4, 226, 22, 21, 134, 476, 26, 480, 5, 144, 30, 2, 18, 51, 36, 28, 224, 92, 25, 104, 4, 226, 65, 16, 38, 2, 88, 12, 16, 283, 5, 16, 2, 113, 103, 32, 15, 16, 2, 19, 178, 32]\n"
          ],
          "name": "stdout"
        }
      ]
    },
    {
      "cell_type": "code",
      "metadata": {
        "execution": {
          "iopub.execute_input": "2020-10-12T01:18:52.528598Z",
          "iopub.status.busy": "2020-10-12T01:18:52.527510Z",
          "iopub.status.idle": "2020-10-12T01:18:52.532011Z",
          "shell.execute_reply": "2020-10-12T01:18:52.532936Z"
        },
        "id": "In8Qzltz6kQT",
        "colab": {
          "base_uri": "https://localhost:8080/"
        },
        "outputId": "78b5ddc6-d634-4755-9435-25cc8f2c9462"
      },
      "source": [
        "print(train_target[:20])"
      ],
      "execution_count": null,
      "outputs": [
        {
          "output_type": "stream",
          "text": [
            "[1 0 0 1 0 0 1 0 1 0 1 0 0 0 0 0 1 1 0 1]\n"
          ],
          "name": "stdout"
        }
      ]
    },
    {
      "cell_type": "code",
      "metadata": {
        "execution": {
          "iopub.execute_input": "2020-10-12T01:18:52.541031Z",
          "iopub.status.busy": "2020-10-12T01:18:52.539873Z",
          "iopub.status.idle": "2020-10-12T01:18:52.812559Z",
          "shell.execute_reply": "2020-10-12T01:18:52.810985Z"
        },
        "id": "0-zjNgBw6kQU"
      },
      "source": [
        "from sklearn.model_selection import train_test_split\n",
        "\n",
        "train_input, val_input, train_target, val_target = train_test_split(\n",
        "    train_input, train_target, test_size=0.2, random_state=42)"
      ],
      "execution_count": null,
      "outputs": []
    },
    {
      "cell_type": "code",
      "metadata": {
        "execution": {
          "iopub.execute_input": "2020-10-12T01:18:52.833360Z",
          "iopub.status.busy": "2020-10-12T01:18:52.831841Z",
          "iopub.status.idle": "2020-10-12T01:18:52.834920Z",
          "shell.execute_reply": "2020-10-12T01:18:52.836117Z"
        },
        "id": "sRVvgntx6kQU"
      },
      "source": [
        "import numpy as np\n",
        "\n",
        "lengths = np.array([len(x) for x in train_input])"
      ],
      "execution_count": null,
      "outputs": []
    },
    {
      "cell_type": "code",
      "metadata": {
        "execution": {
          "iopub.execute_input": "2020-10-12T01:18:52.843759Z",
          "iopub.status.busy": "2020-10-12T01:18:52.842297Z",
          "iopub.status.idle": "2020-10-12T01:18:52.847506Z",
          "shell.execute_reply": "2020-10-12T01:18:52.848361Z"
        },
        "id": "p76m_61w6kQU",
        "colab": {
          "base_uri": "https://localhost:8080/"
        },
        "outputId": "04b533f6-45ef-4514-d87d-b484a89afde6"
      },
      "source": [
        "print(np.mean(lengths), np.median(lengths))"
      ],
      "execution_count": null,
      "outputs": [
        {
          "output_type": "stream",
          "text": [
            "239.00925 178.0\n"
          ],
          "name": "stdout"
        }
      ]
    },
    {
      "cell_type": "code",
      "metadata": {
        "execution": {
          "iopub.execute_input": "2020-10-12T01:18:52.874891Z",
          "iopub.status.busy": "2020-10-12T01:18:52.873857Z",
          "iopub.status.idle": "2020-10-12T01:18:53.042560Z",
          "shell.execute_reply": "2020-10-12T01:18:53.040898Z"
        },
        "id": "TVDrsRYF6kQV",
        "colab": {
          "base_uri": "https://localhost:8080/",
          "height": 279
        },
        "outputId": "2610932c-ac31-480b-8a6c-fd5ac2793a34"
      },
      "source": [
        "import matplotlib.pyplot as plt\n",
        "\n",
        "plt.hist(lengths)\n",
        "plt.xlabel('length')\n",
        "plt.ylabel('frequency')\n",
        "plt.show()"
      ],
      "execution_count": null,
      "outputs": [
        {
          "output_type": "display_data",
          "data": {
            "image/png": "[encoded data removed]",
            "text/plain": [
              "<Figure size 432x288 with 1 Axes>"
            ]
          },
          "metadata": {
            "tags": [],
            "needs_background": "light"
          }
        }
      ]
    },
    {
      "cell_type": "code",
      "metadata": {
        "execution": {
          "iopub.execute_input": "2020-10-12T01:18:53.056410Z",
          "iopub.status.busy": "2020-10-12T01:18:53.054676Z",
          "iopub.status.idle": "2020-10-12T01:18:53.509881Z",
          "shell.execute_reply": "2020-10-12T01:18:53.507938Z"
        },
        "id": "fbLSFToP6kQV"
      },
      "source": [
        "from tensorflow.keras.preprocessing.sequence import pad_sequences\n",
        "\n",
        "train_seq = pad_sequences(train_input, maxlen=100)"
      ],
      "execution_count": null,
      "outputs": []
    },
    {
      "cell_type": "code",
      "metadata": {
        "execution": {
          "iopub.execute_input": "2020-10-12T01:18:53.516113Z",
          "iopub.status.busy": "2020-10-12T01:18:53.514858Z",
          "iopub.status.idle": "2020-10-12T01:18:53.519062Z",
          "shell.execute_reply": "2020-10-12T01:18:53.520171Z"
        },
        "id": "3c86x0Yj6kQV",
        "colab": {
          "base_uri": "https://localhost:8080/"
        },
        "outputId": "52d4ff3a-9aa5-4ebd-e086-d9b2d490a29f"
      },
      "source": [
        "print(train_seq.shape)"
      ],
      "execution_count": null,
      "outputs": [
        {
          "output_type": "stream",
          "text": [
            "(20000, 100)\n"
          ],
          "name": "stdout"
        }
      ]
    },
    {
      "cell_type": "code",
      "metadata": {
        "execution": {
          "iopub.execute_input": "2020-10-12T01:18:53.529088Z",
          "iopub.status.busy": "2020-10-12T01:18:53.527775Z",
          "iopub.status.idle": "2020-10-12T01:18:53.532885Z",
          "shell.execute_reply": "2020-10-12T01:18:53.533957Z"
        },
        "id": "JuP0QJaU6kQW",
        "colab": {
          "base_uri": "https://localhost:8080/"
        },
        "outputId": "95e6521e-b200-4733-f5e8-65320ff2a81f"
      },
      "source": [
        "print(train_seq[0])"
      ],
      "execution_count": null,
      "outputs": [
        {
          "output_type": "stream",
          "text": [
            "[ 10   4  20   9   2 364 352   5  45   6   2   2  33 269   8   2 142   2\n",
            "   5   2  17  73  17 204   5   2  19  55   2   2  92  66 104  14  20  93\n",
            "  76   2 151  33   4  58  12 188   2 151  12 215  69 224 142  73 237   6\n",
            "   2   7   2   2 188   2 103  14  31  10  10 451   7   2   5   2  80  91\n",
            "   2  30   2  34  14  20 151  50  26 131  49   2  84  46  50  37  80  79\n",
            "   6   2  46   7  14  20  10  10 470 158]\n"
          ],
          "name": "stdout"
        }
      ]
    },
    {
      "cell_type": "code",
      "metadata": {
        "execution": {
          "iopub.execute_input": "2020-10-12T01:18:53.541335Z",
          "iopub.status.busy": "2020-10-12T01:18:53.540161Z",
          "iopub.status.idle": "2020-10-12T01:18:53.544735Z",
          "shell.execute_reply": "2020-10-12T01:18:53.545765Z"
        },
        "id": "6t8kaDji6kQW",
        "colab": {
          "base_uri": "https://localhost:8080/"
        },
        "outputId": "a9d5ba15-838d-4cac-c23c-18c2fa4b709f"
      },
      "source": [
        "print(train_input[0][-10:])"
      ],
      "execution_count": null,
      "outputs": [
        {
          "output_type": "stream",
          "text": [
            "[6, 2, 46, 7, 14, 20, 10, 10, 470, 158]\n"
          ],
          "name": "stdout"
        }
      ]
    },
    {
      "cell_type": "code",
      "metadata": {
        "execution": {
          "iopub.execute_input": "2020-10-12T01:18:53.553993Z",
          "iopub.status.busy": "2020-10-12T01:18:53.552689Z",
          "iopub.status.idle": "2020-10-12T01:18:53.557009Z",
          "shell.execute_reply": "2020-10-12T01:18:53.558118Z"
        },
        "scrolled": true,
        "id": "Emmoztwa6kQX",
        "colab": {
          "base_uri": "https://localhost:8080/"
        },
        "outputId": "d72b6139-e876-41a1-b331-313d3199548a"
      },
      "source": [
        "print(train_seq[5])"
      ],
      "execution_count": null,
      "outputs": [
        {
          "output_type": "stream",
          "text": [
            "[  0   0   0   0   1   2 195  19  49   2   2 190   4   2 352   2 183  10\n",
            "  10  13  82  79   4   2  36  71 269   8   2  25  19  49   7   4   2   2\n",
            "   2   2   2  10  10  48  25  40   2  11   2   2  40   2   2   5   4   2\n",
            "   2  95  14 238  56 129   2  10  10  21   2  94 364 352   2   2  11 190\n",
            "  24 484   2   7  94 205 405  10  10  87   2  34  49   2   7   2   2   2\n",
            "   2   2 290   2  46  48  64  18   4   2]\n"
          ],
          "name": "stdout"
        }
      ]
    },
    {
      "cell_type": "code",
      "metadata": {
        "execution": {
          "iopub.execute_input": "2020-10-12T01:18:53.568279Z",
          "iopub.status.busy": "2020-10-12T01:18:53.566949Z",
          "iopub.status.idle": "2020-10-12T01:18:53.688571Z",
          "shell.execute_reply": "2020-10-12T01:18:53.687412Z"
        },
        "id": "ZeFmsjOd6kQX"
      },
      "source": [
        "val_seq = pad_sequences(val_input, maxlen=100)"
      ],
      "execution_count": null,
      "outputs": []
    },
    {
      "cell_type": "markdown",
      "metadata": {
        "id": "9xab0nu_6kQX"
      },
      "source": [
        "## 순환 신경망 만들기"
      ]
    },
    {
      "cell_type": "code",
      "metadata": {
        "execution": {
          "iopub.execute_input": "2020-10-12T01:18:53.702727Z",
          "iopub.status.busy": "2020-10-12T01:18:53.694374Z",
          "iopub.status.idle": "2020-10-12T01:18:55.997285Z",
          "shell.execute_reply": "2020-10-12T01:18:55.995617Z"
        },
        "id": "45BtHGKX6kQX"
      },
      "source": [
        "from tensorflow import keras\n",
        "\n",
        "model = keras.Sequential()\n",
        "\n",
        "model.add(keras.layers.SimpleRNN(8, input_shape=(100, 500)))\n",
        "model.add(keras.layers.Dense(1, activation='sigmoid'))"
      ],
      "execution_count": null,
      "outputs": []
    },
    {
      "cell_type": "code",
      "metadata": {
        "execution": {
          "iopub.execute_input": "2020-10-12T01:18:56.004523Z",
          "iopub.status.busy": "2020-10-12T01:18:56.002786Z",
          "iopub.status.idle": "2020-10-12T01:18:57.766487Z",
          "shell.execute_reply": "2020-10-12T01:18:57.764928Z"
        },
        "id": "oXIWyOuw6kQY"
      },
      "source": [
        "train_oh = keras.utils.to_categorical(train_seq)"
      ],
      "execution_count": null,
      "outputs": []
    },
    {
      "cell_type": "code",
      "metadata": {
        "execution": {
          "iopub.execute_input": "2020-10-12T01:18:57.774226Z",
          "iopub.status.busy": "2020-10-12T01:18:57.772482Z",
          "iopub.status.idle": "2020-10-12T01:18:57.777731Z",
          "shell.execute_reply": "2020-10-12T01:18:57.778538Z"
        },
        "id": "VD94WiRT6kQY",
        "colab": {
          "base_uri": "https://localhost:8080/"
        },
        "outputId": "d2074cc9-cdb3-4c73-e9ca-1318fdd34034"
      },
      "source": [
        "print(train_oh.shape)"
      ],
      "execution_count": null,
      "outputs": [
        {
          "output_type": "stream",
          "text": [
            "(20000, 100, 500)\n"
          ],
          "name": "stdout"
        }
      ]
    },
    {
      "cell_type": "code",
      "metadata": {
        "execution": {
          "iopub.execute_input": "2020-10-12T01:18:57.786369Z",
          "iopub.status.busy": "2020-10-12T01:18:57.785416Z",
          "iopub.status.idle": "2020-10-12T01:18:57.790217Z",
          "shell.execute_reply": "2020-10-12T01:18:57.791183Z"
        },
        "id": "VIVSHwJg6kQY",
        "colab": {
          "base_uri": "https://localhost:8080/"
        },
        "outputId": "972653fa-6acd-405d-d1ee-2422708f9863"
      },
      "source": [
        "print(train_oh[0][0][:12])"
      ],
      "execution_count": null,
      "outputs": [
        {
          "output_type": "stream",
          "text": [
            "[0. 0. 0. 0. 0. 0. 0. 0. 0. 0. 1. 0.]\n"
          ],
          "name": "stdout"
        }
      ]
    },
    {
      "cell_type": "code",
      "metadata": {
        "execution": {
          "iopub.execute_input": "2020-10-12T01:18:57.798946Z",
          "iopub.status.busy": "2020-10-12T01:18:57.797788Z",
          "iopub.status.idle": "2020-10-12T01:18:57.802480Z",
          "shell.execute_reply": "2020-10-12T01:18:57.803390Z"
        },
        "id": "CP3ivii46kQZ",
        "colab": {
          "base_uri": "https://localhost:8080/"
        },
        "outputId": "6a669f1a-41fe-486a-e0e1-bd812d2b7aeb"
      },
      "source": [
        "print(np.sum(train_oh[0][0]))"
      ],
      "execution_count": null,
      "outputs": [
        {
          "output_type": "stream",
          "text": [
            "1.0\n"
          ],
          "name": "stdout"
        }
      ]
    },
    {
      "cell_type": "code",
      "metadata": {
        "execution": {
          "iopub.execute_input": "2020-10-12T01:18:57.810383Z",
          "iopub.status.busy": "2020-10-12T01:18:57.809293Z",
          "iopub.status.idle": "2020-10-12T01:18:58.247989Z",
          "shell.execute_reply": "2020-10-12T01:18:58.248931Z"
        },
        "id": "vgijH6m26kQZ"
      },
      "source": [
        "val_oh = keras.utils.to_categorical(val_seq)"
      ],
      "execution_count": null,
      "outputs": []
    },
    {
      "cell_type": "code",
      "metadata": {
        "execution": {
          "iopub.execute_input": "2020-10-12T01:18:58.256367Z",
          "iopub.status.busy": "2020-10-12T01:18:58.255252Z",
          "iopub.status.idle": "2020-10-12T01:18:58.261986Z",
          "shell.execute_reply": "2020-10-12T01:18:58.262846Z"
        },
        "id": "0V0Svpuf6kQZ",
        "colab": {
          "base_uri": "https://localhost:8080/"
        },
        "outputId": "34f0dd62-57da-4907-8032-9bb2655a986e"
      },
      "source": [
        "model.summary()"
      ],
      "execution_count": null,
      "outputs": [
        {
          "output_type": "stream",
          "text": [
            "Model: \"sequential\"\n",
            "_________________________________________________________________\n",
            "Layer (type)                 Output Shape              Param #   \n",
            "=================================================================\n",
            "simple_rnn (SimpleRNN)       (None, 8)                 4072      \n",
            "_________________________________________________________________\n",
            "dense (Dense)                (None, 1)                 9         \n",
            "=================================================================\n",
            "Total params: 4,081\n",
            "Trainable params: 4,081\n",
            "Non-trainable params: 0\n",
            "_________________________________________________________________\n"
          ],
          "name": "stdout"
        }
      ]
    },
    {
      "cell_type": "markdown",
      "metadata": {
        "id": "S22Hc-7L6kQZ"
      },
      "source": [
        "## 순환 신경망 훈련하기"
      ]
    },
    {
      "cell_type": "code",
      "metadata": {
        "execution": {
          "iopub.execute_input": "2020-10-12T01:18:58.286672Z",
          "iopub.status.busy": "2020-10-12T01:18:58.285571Z",
          "iopub.status.idle": "2020-10-12T01:30:36.157752Z",
          "shell.execute_reply": "2020-10-12T01:30:36.159280Z"
        },
        "id": "YcwM299t6kQZ",
        "colab": {
          "base_uri": "https://localhost:8080/"
        },
        "outputId": "257518bf-52ab-49d8-aa91-3c2e606ffd74"
      },
      "source": [
        "rmsprop = keras.optimizers.RMSprop(learning_rate=1e-4)\n",
        "model.compile(optimizer=rmsprop, loss='binary_crossentropy', \n",
        "              metrics=['accuracy'])\n",
        "\n",
        "checkpoint_cb = keras.callbacks.ModelCheckpoint('best-simplernn-model.h5', \n",
        "                                                save_best_only=True)\n",
        "early_stopping_cb = keras.callbacks.EarlyStopping(patience=3,\n",
        "                                                  restore_best_weights=True)\n",
        "\n",
        "history = model.fit(train_oh, train_target, epochs=100, batch_size=64,\n",
        "                    validation_data=(val_oh, val_target),\n",
        "                    callbacks=[checkpoint_cb, early_stopping_cb])"
      ],
      "execution_count": null,
      "outputs": [
        {
          "output_type": "stream",
          "text": [
            "Epoch 1/100\n",
            "313/313 [==============================] - 38s 110ms/step - loss: 0.6964 - accuracy: 0.4965 - val_loss: 0.6961 - val_accuracy: 0.4894\n",
            "Epoch 2/100\n",
            "313/313 [==============================] - 32s 102ms/step - loss: 0.6938 - accuracy: 0.5041 - val_loss: 0.6945 - val_accuracy: 0.4946\n",
            "Epoch 3/100\n",
            "313/313 [==============================] - 32s 102ms/step - loss: 0.6923 - accuracy: 0.5143 - val_loss: 0.6933 - val_accuracy: 0.5078\n",
            "Epoch 4/100\n",
            "313/313 [==============================] - 31s 100ms/step - loss: 0.6911 - accuracy: 0.5243 - val_loss: 0.6926 - val_accuracy: 0.5126\n",
            "Epoch 5/100\n",
            "313/313 [==============================] - 32s 102ms/step - loss: 0.6900 - accuracy: 0.5321 - val_loss: 0.6917 - val_accuracy: 0.5252\n",
            "Epoch 6/100\n",
            "313/313 [==============================] - 31s 100ms/step - loss: 0.6889 - accuracy: 0.5411 - val_loss: 0.6909 - val_accuracy: 0.5362\n",
            "Epoch 7/100\n",
            "313/313 [==============================] - 31s 100ms/step - loss: 0.6876 - accuracy: 0.5484 - val_loss: 0.6900 - val_accuracy: 0.5398\n",
            "Epoch 8/100\n",
            "313/313 [==============================] - 31s 100ms/step - loss: 0.6862 - accuracy: 0.5567 - val_loss: 0.6891 - val_accuracy: 0.5430\n",
            "Epoch 9/100\n",
            "313/313 [==============================] - 31s 100ms/step - loss: 0.6846 - accuracy: 0.5613 - val_loss: 0.6879 - val_accuracy: 0.5450\n",
            "Epoch 10/100\n",
            "313/313 [==============================] - 30s 97ms/step - loss: 0.6824 - accuracy: 0.5688 - val_loss: 0.6859 - val_accuracy: 0.5484\n",
            "Epoch 11/100\n",
            "313/313 [==============================] - 32s 102ms/step - loss: 0.6769 - accuracy: 0.5925 - val_loss: 0.6737 - val_accuracy: 0.6056\n",
            "Epoch 12/100\n",
            "313/313 [==============================] - 32s 101ms/step - loss: 0.6597 - accuracy: 0.6319 - val_loss: 0.6562 - val_accuracy: 0.6336\n",
            "Epoch 13/100\n",
            "313/313 [==============================] - 31s 100ms/step - loss: 0.6371 - accuracy: 0.6592 - val_loss: 0.6310 - val_accuracy: 0.6638\n",
            "Epoch 14/100\n",
            "313/313 [==============================] - 32s 101ms/step - loss: 0.6102 - accuracy: 0.6849 - val_loss: 0.6020 - val_accuracy: 0.6868\n",
            "Epoch 15/100\n",
            "313/313 [==============================] - 32s 101ms/step - loss: 0.5838 - accuracy: 0.7116 - val_loss: 0.5793 - val_accuracy: 0.7150\n",
            "Epoch 16/100\n",
            "313/313 [==============================] - 32s 103ms/step - loss: 0.5634 - accuracy: 0.7286 - val_loss: 0.5618 - val_accuracy: 0.7316\n",
            "Epoch 17/100\n",
            "313/313 [==============================] - 32s 101ms/step - loss: 0.5454 - accuracy: 0.7426 - val_loss: 0.5533 - val_accuracy: 0.7312\n",
            "Epoch 18/100\n",
            "313/313 [==============================] - 34s 107ms/step - loss: 0.5293 - accuracy: 0.7518 - val_loss: 0.5317 - val_accuracy: 0.7460\n",
            "Epoch 19/100\n",
            "313/313 [==============================] - 32s 103ms/step - loss: 0.5157 - accuracy: 0.7616 - val_loss: 0.5197 - val_accuracy: 0.7540\n",
            "Epoch 20/100\n",
            "313/313 [==============================] - 32s 101ms/step - loss: 0.5032 - accuracy: 0.7692 - val_loss: 0.5100 - val_accuracy: 0.7604\n",
            "Epoch 21/100\n",
            "313/313 [==============================] - 32s 103ms/step - loss: 0.4925 - accuracy: 0.7742 - val_loss: 0.5008 - val_accuracy: 0.7660\n",
            "Epoch 22/100\n",
            "313/313 [==============================] - 33s 106ms/step - loss: 0.4823 - accuracy: 0.7801 - val_loss: 0.4973 - val_accuracy: 0.7602\n",
            "Epoch 23/100\n",
            "313/313 [==============================] - 32s 102ms/step - loss: 0.4744 - accuracy: 0.7846 - val_loss: 0.4908 - val_accuracy: 0.7692\n",
            "Epoch 24/100\n",
            "313/313 [==============================] - 32s 102ms/step - loss: 0.4667 - accuracy: 0.7888 - val_loss: 0.4813 - val_accuracy: 0.7742\n",
            "Epoch 25/100\n",
            "313/313 [==============================] - 32s 102ms/step - loss: 0.4601 - accuracy: 0.7923 - val_loss: 0.4752 - val_accuracy: 0.7778\n",
            "Epoch 26/100\n",
            "313/313 [==============================] - 32s 101ms/step - loss: 0.4540 - accuracy: 0.7959 - val_loss: 0.4733 - val_accuracy: 0.7774\n",
            "Epoch 27/100\n",
            "313/313 [==============================] - 32s 102ms/step - loss: 0.4491 - accuracy: 0.7980 - val_loss: 0.4666 - val_accuracy: 0.7874\n",
            "Epoch 28/100\n",
            "313/313 [==============================] - 32s 102ms/step - loss: 0.4439 - accuracy: 0.7995 - val_loss: 0.4650 - val_accuracy: 0.7808\n",
            "Epoch 29/100\n",
            "313/313 [==============================] - 32s 102ms/step - loss: 0.4391 - accuracy: 0.8036 - val_loss: 0.4639 - val_accuracy: 0.7866\n",
            "Epoch 30/100\n",
            "313/313 [==============================] - 32s 103ms/step - loss: 0.4353 - accuracy: 0.8054 - val_loss: 0.4588 - val_accuracy: 0.7876\n",
            "Epoch 31/100\n",
            "313/313 [==============================] - 32s 103ms/step - loss: 0.4319 - accuracy: 0.8081 - val_loss: 0.4585 - val_accuracy: 0.7844\n",
            "Epoch 32/100\n",
            "313/313 [==============================] - 32s 102ms/step - loss: 0.4287 - accuracy: 0.8080 - val_loss: 0.4574 - val_accuracy: 0.7812\n",
            "Epoch 33/100\n",
            "313/313 [==============================] - 32s 103ms/step - loss: 0.4259 - accuracy: 0.8104 - val_loss: 0.4551 - val_accuracy: 0.7912\n",
            "Epoch 34/100\n",
            "313/313 [==============================] - 33s 104ms/step - loss: 0.4237 - accuracy: 0.8125 - val_loss: 0.4528 - val_accuracy: 0.7880\n",
            "Epoch 35/100\n",
            "313/313 [==============================] - 32s 101ms/step - loss: 0.4211 - accuracy: 0.8131 - val_loss: 0.4512 - val_accuracy: 0.7918\n",
            "Epoch 36/100\n",
            "313/313 [==============================] - 31s 100ms/step - loss: 0.4185 - accuracy: 0.8159 - val_loss: 0.4527 - val_accuracy: 0.7878\n",
            "Epoch 37/100\n",
            "313/313 [==============================] - 32s 101ms/step - loss: 0.4174 - accuracy: 0.8153 - val_loss: 0.4497 - val_accuracy: 0.7940\n",
            "Epoch 38/100\n",
            "313/313 [==============================] - 32s 103ms/step - loss: 0.4152 - accuracy: 0.8150 - val_loss: 0.4591 - val_accuracy: 0.7902\n",
            "Epoch 39/100\n",
            "313/313 [==============================] - 32s 102ms/step - loss: 0.4138 - accuracy: 0.8177 - val_loss: 0.4494 - val_accuracy: 0.7928\n",
            "Epoch 40/100\n",
            "313/313 [==============================] - 31s 100ms/step - loss: 0.4118 - accuracy: 0.8170 - val_loss: 0.4478 - val_accuracy: 0.7940\n",
            "Epoch 41/100\n",
            "313/313 [==============================] - 32s 102ms/step - loss: 0.4102 - accuracy: 0.8171 - val_loss: 0.4475 - val_accuracy: 0.7956\n",
            "Epoch 42/100\n",
            "313/313 [==============================] - 32s 101ms/step - loss: 0.4090 - accuracy: 0.8189 - val_loss: 0.4471 - val_accuracy: 0.7976\n",
            "Epoch 43/100\n",
            "313/313 [==============================] - 32s 101ms/step - loss: 0.4079 - accuracy: 0.8199 - val_loss: 0.4466 - val_accuracy: 0.7934\n",
            "Epoch 44/100\n",
            "313/313 [==============================] - 32s 102ms/step - loss: 0.4074 - accuracy: 0.8205 - val_loss: 0.4455 - val_accuracy: 0.7938\n",
            "Epoch 45/100\n",
            "313/313 [==============================] - 32s 102ms/step - loss: 0.4057 - accuracy: 0.8207 - val_loss: 0.4461 - val_accuracy: 0.7966\n",
            "Epoch 46/100\n",
            "313/313 [==============================] - 32s 102ms/step - loss: 0.4050 - accuracy: 0.8206 - val_loss: 0.4522 - val_accuracy: 0.7962\n",
            "Epoch 47/100\n",
            "313/313 [==============================] - 31s 100ms/step - loss: 0.4038 - accuracy: 0.8239 - val_loss: 0.4447 - val_accuracy: 0.7936\n",
            "Epoch 48/100\n",
            "313/313 [==============================] - 32s 102ms/step - loss: 0.4027 - accuracy: 0.8242 - val_loss: 0.4491 - val_accuracy: 0.7964\n",
            "Epoch 49/100\n",
            "313/313 [==============================] - 32s 101ms/step - loss: 0.4019 - accuracy: 0.8230 - val_loss: 0.4496 - val_accuracy: 0.7938\n",
            "Epoch 50/100\n",
            "313/313 [==============================] - 31s 100ms/step - loss: 0.4009 - accuracy: 0.8242 - val_loss: 0.4461 - val_accuracy: 0.7968\n"
          ],
          "name": "stdout"
        }
      ]
    },
    {
      "cell_type": "code",
      "metadata": {
        "execution": {
          "iopub.execute_input": "2020-10-12T01:30:36.190161Z",
          "iopub.status.busy": "2020-10-12T01:30:36.175046Z",
          "iopub.status.idle": "2020-10-12T01:30:36.782577Z",
          "shell.execute_reply": "2020-10-12T01:30:36.784046Z"
        },
        "id": "YS_5tIG26kQa",
        "colab": {
          "base_uri": "https://localhost:8080/",
          "height": 279
        },
        "outputId": "7affeec2-15fb-4217-daa5-2c8ef2f8a74b"
      },
      "source": [
        "plt.plot(history.history['loss'])\n",
        "plt.plot(history.history['val_loss'])\n",
        "plt.xlabel('epoch')\n",
        "plt.ylabel('loss')\n",
        "plt.legend(['train', 'val'])\n",
        "plt.show()"
      ],
      "execution_count": null,
      "outputs": [
        {
          "output_type": "display_data",
          "data": {
            "image/png": "[encoded data removed]",
            "text/plain": [
              "<Figure size 432x288 with 1 Axes>"
            ]
          },
          "metadata": {
            "tags": [],
            "needs_background": "light"
          }
        }
      ]
    },
    {
      "cell_type": "markdown",
      "metadata": {
        "id": "K_U_lVie6kQa"
      },
      "source": [
        "## 단어 임베딩을 사용하기"
      ]
    },
    {
      "cell_type": "code",
      "metadata": {
        "execution": {
          "iopub.execute_input": "2020-10-12T01:30:36.795147Z",
          "iopub.status.busy": "2020-10-12T01:30:36.793959Z",
          "iopub.status.idle": "2020-10-12T01:30:37.414822Z",
          "shell.execute_reply": "2020-10-12T01:30:37.417021Z"
        },
        "id": "Ofl-Ifev6kQa",
        "colab": {
          "base_uri": "https://localhost:8080/"
        },
        "outputId": "5446f8dd-845c-4fea-eb3a-a8887f010da0"
      },
      "source": [
        "model2 = keras.Sequential()\n",
        "\n",
        "model2.add(keras.layers.Embedding(500, 16, input_length=100))\n",
        "model2.add(keras.layers.SimpleRNN(8))\n",
        "model2.add(keras.layers.Dense(1, activation='sigmoid'))\n",
        "\n",
        "model2.summary()"
      ],
      "execution_count": null,
      "outputs": [
        {
          "output_type": "stream",
          "text": [
            "Model: \"sequential_2\"\n",
            "_________________________________________________________________\n",
            "Layer (type)                 Output Shape              Param #   \n",
            "=================================================================\n",
            "embedding_1 (Embedding)      (None, 100, 16)           8000      \n",
            "_________________________________________________________________\n",
            "simple_rnn_2 (SimpleRNN)     (None, 8)                 200       \n",
            "_________________________________________________________________\n",
            "dense_2 (Dense)              (None, 1)                 9         \n",
            "=================================================================\n",
            "Total params: 8,209\n",
            "Trainable params: 8,209\n",
            "Non-trainable params: 0\n",
            "_________________________________________________________________\n"
          ],
          "name": "stdout"
        }
      ]
    },
    {
      "cell_type": "code",
      "metadata": {
        "execution": {
          "iopub.execute_input": "2020-10-12T01:30:37.439013Z",
          "iopub.status.busy": "2020-10-12T01:30:37.437655Z",
          "iopub.status.idle": "2020-10-12T01:40:38.584921Z",
          "shell.execute_reply": "2020-10-12T01:40:38.586340Z"
        },
        "id": "78TUrJAs6kQa",
        "colab": {
          "base_uri": "https://localhost:8080/"
        },
        "outputId": "ee782c94-cf81-4add-e0a9-5290b91bd2bf"
      },
      "source": [
        "rmsprop = keras.optimizers.RMSprop(learning_rate=1e-4)\n",
        "model2.compile(optimizer=rmsprop, loss='binary_crossentropy', \n",
        "               metrics=['accuracy'])\n",
        "\n",
        "checkpoint_cb = keras.callbacks.ModelCheckpoint('best-embedding-model.h5', \n",
        "                                                save_best_only=True)\n",
        "early_stopping_cb = keras.callbacks.EarlyStopping(patience=3,\n",
        "                                                  restore_best_weights=True)\n",
        "\n",
        "history = model2.fit(train_seq, train_target, epochs=100, batch_size=64,\n",
        "                     validation_data=(val_seq, val_target),\n",
        "                     callbacks=[checkpoint_cb, early_stopping_cb])"
      ],
      "execution_count": null,
      "outputs": [
        {
          "output_type": "stream",
          "text": [
            "Epoch 1/100\n",
            "313/313 [==============================] - 45s 138ms/step - loss: 0.6885 - accuracy: 0.5390 - val_loss: 0.6777 - val_accuracy: 0.5888\n",
            "Epoch 2/100\n",
            "313/313 [==============================] - 43s 136ms/step - loss: 0.6352 - accuracy: 0.6608 - val_loss: 0.6000 - val_accuracy: 0.7100\n",
            "Epoch 3/100\n",
            "313/313 [==============================] - 43s 138ms/step - loss: 0.5780 - accuracy: 0.7263 - val_loss: 0.5707 - val_accuracy: 0.7300\n",
            "Epoch 4/100\n",
            "313/313 [==============================] - 42s 135ms/step - loss: 0.5466 - accuracy: 0.7505 - val_loss: 0.5402 - val_accuracy: 0.7486\n",
            "Epoch 5/100\n",
            "313/313 [==============================] - 43s 136ms/step - loss: 0.5244 - accuracy: 0.7669 - val_loss: 0.5316 - val_accuracy: 0.7550\n",
            "Epoch 6/100\n",
            "313/313 [==============================] - 43s 136ms/step - loss: 0.5079 - accuracy: 0.7767 - val_loss: 0.5142 - val_accuracy: 0.7678\n",
            "Epoch 7/100\n",
            "313/313 [==============================] - 43s 138ms/step - loss: 0.4963 - accuracy: 0.7835 - val_loss: 0.5149 - val_accuracy: 0.7598\n",
            "Epoch 8/100\n",
            "313/313 [==============================] - 43s 138ms/step - loss: 0.4856 - accuracy: 0.7880 - val_loss: 0.4977 - val_accuracy: 0.7740\n",
            "Epoch 9/100\n",
            "313/313 [==============================] - 43s 137ms/step - loss: 0.4761 - accuracy: 0.7926 - val_loss: 0.4901 - val_accuracy: 0.7790\n",
            "Epoch 10/100\n",
            "313/313 [==============================] - 43s 138ms/step - loss: 0.4694 - accuracy: 0.7940 - val_loss: 0.4869 - val_accuracy: 0.7766\n",
            "Epoch 11/100\n",
            "313/313 [==============================] - 43s 137ms/step - loss: 0.4625 - accuracy: 0.7993 - val_loss: 0.4812 - val_accuracy: 0.7810\n",
            "Epoch 12/100\n",
            "313/313 [==============================] - 43s 136ms/step - loss: 0.4574 - accuracy: 0.7982 - val_loss: 0.4973 - val_accuracy: 0.7610\n",
            "Epoch 13/100\n",
            "313/313 [==============================] - 43s 137ms/step - loss: 0.4531 - accuracy: 0.8032 - val_loss: 0.4786 - val_accuracy: 0.7802\n",
            "Epoch 14/100\n",
            "313/313 [==============================] - 43s 137ms/step - loss: 0.4483 - accuracy: 0.8044 - val_loss: 0.4758 - val_accuracy: 0.7832\n",
            "Epoch 15/100\n",
            "313/313 [==============================] - 43s 137ms/step - loss: 0.4447 - accuracy: 0.8062 - val_loss: 0.4707 - val_accuracy: 0.7882\n",
            "Epoch 16/100\n",
            "313/313 [==============================] - 43s 137ms/step - loss: 0.4408 - accuracy: 0.8094 - val_loss: 0.4673 - val_accuracy: 0.7886\n",
            "Epoch 17/100\n",
            "313/313 [==============================] - 43s 138ms/step - loss: 0.4378 - accuracy: 0.8080 - val_loss: 0.4704 - val_accuracy: 0.7810\n",
            "Epoch 18/100\n",
            "313/313 [==============================] - 43s 136ms/step - loss: 0.4341 - accuracy: 0.8105 - val_loss: 0.4627 - val_accuracy: 0.7898\n",
            "Epoch 19/100\n",
            "313/313 [==============================] - 43s 136ms/step - loss: 0.4319 - accuracy: 0.8105 - val_loss: 0.4617 - val_accuracy: 0.7878\n",
            "Epoch 20/100\n",
            "313/313 [==============================] - 43s 136ms/step - loss: 0.4293 - accuracy: 0.8128 - val_loss: 0.4628 - val_accuracy: 0.7868\n",
            "Epoch 21/100\n",
            "313/313 [==============================] - 43s 136ms/step - loss: 0.4274 - accuracy: 0.8120 - val_loss: 0.4607 - val_accuracy: 0.7854\n",
            "Epoch 22/100\n",
            "313/313 [==============================] - 43s 137ms/step - loss: 0.4247 - accuracy: 0.8148 - val_loss: 0.4628 - val_accuracy: 0.7872\n",
            "Epoch 23/100\n",
            "313/313 [==============================] - 43s 137ms/step - loss: 0.4223 - accuracy: 0.8155 - val_loss: 0.4581 - val_accuracy: 0.7882\n",
            "Epoch 24/100\n",
            "313/313 [==============================] - 43s 137ms/step - loss: 0.4209 - accuracy: 0.8152 - val_loss: 0.4624 - val_accuracy: 0.7856\n",
            "Epoch 25/100\n",
            "313/313 [==============================] - 43s 138ms/step - loss: 0.4179 - accuracy: 0.8168 - val_loss: 0.4590 - val_accuracy: 0.7862\n",
            "Epoch 26/100\n",
            "313/313 [==============================] - 43s 137ms/step - loss: 0.4156 - accuracy: 0.8181 - val_loss: 0.4585 - val_accuracy: 0.7888\n"
          ],
          "name": "stdout"
        }
      ]
    },
    {
      "cell_type": "code",
      "metadata": {
        "execution": {
          "iopub.execute_input": "2020-10-12T01:40:38.604725Z",
          "iopub.status.busy": "2020-10-12T01:40:38.602954Z",
          "iopub.status.idle": "2020-10-12T01:40:39.220316Z",
          "shell.execute_reply": "2020-10-12T01:40:39.221611Z"
        },
        "id": "brUvKwLt6kQb",
        "colab": {
          "base_uri": "https://localhost:8080/",
          "height": 282
        },
        "outputId": "c9907bb0-000c-4c7f-fe2c-ce8128bac52b"
      },
      "source": [
        "plt.plot(history.history['loss'])\n",
        "plt.plot(history.history['val_loss'])\n",
        "plt.xlabel('epoch')\n",
        "plt.ylabel('loss')\n",
        "plt.legend(['train', 'val'])\n",
        "plt.show()"
      ],
      "execution_count": null,
      "outputs": [
        {
          "output_type": "display_data",
          "data": {
            "image/png": "[encoded data removed]",
            "text/plain": [
              "<Figure size 432x288 with 1 Axes>"
            ]
          },
          "metadata": {
            "tags": [],
            "needs_background": "light"
          }
        }
      ]
    }
  ]
}